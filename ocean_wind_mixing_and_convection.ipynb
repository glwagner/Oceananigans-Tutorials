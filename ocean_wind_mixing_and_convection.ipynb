{
 "cells": [
  {
   "outputs": [],
   "cell_type": "markdown",
   "source": [
    "# Wind and convection-driven mixing in an ocean surface boundary layer\n",
    "\n",
    "This example simulates mixing by three-dimensional turbulence in an ocean surface\n",
    "boundary layer driven by atmospheric winds and convection. It demonstrates:\n",
    "\n",
    "  * how to use the `SeawaterBuoyancy` model for buoyancy with a linear equation of state;\n",
    "  * how to use a turbulence closure for large eddy simulation;\n",
    "  * how to use a function to impose a boundary condition;\n",
    "  * how to use user-defined `model.parameters` in a boundary condition function.\n",
    "\n",
    "In addition to `Oceananigans.jl` we need `PyPlot` for plotting, `Random` for\n",
    "generating random initial conditions, and `Printf` for printing progress messages."
   ],
   "metadata": {}
  },
  {
   "outputs": [],
   "cell_type": "code",
   "source": [
    "using Oceananigans, PyPlot, Random, Printf"
   ],
   "metadata": {},
   "execution_count": 1
  },
  {
   "outputs": [],
   "cell_type": "markdown",
   "source": [
    "## Model parameters\n",
    "\n",
    "Here we use an isotropic, cubic grid with `Nz` grid points and grid spacing\n",
    "`Δz = 1` meter. We specify fluxes of heat, momentum, and salinity via\n",
    "\n",
    "  1. A temperature flux `Qᵀ` at the top of the domain, which is related to heat flux\n",
    "      by `Qᵀ = Qʰ / (ρ₀ * cᴾ)`, where `Qʰ` is the heat flux, `ρ₀` is a reference density,\n",
    "      and `cᴾ` is the heat capacity of seawater. With a reference density\n",
    "      `ρ₀ = 1026 kg m⁻³`and heat capacity `cᴾ = 3991`, our chosen temperature flux of\n",
    "      `Qᵀ = 5 × 10⁻⁵ K m⁻¹ s⁻¹` corresponds to a heat flux of `Qʰ = 204.7 W m⁻²`, a\n",
    "      relatively powerful cooling rate.\n",
    "\n",
    "  2. A velocity flux `Qᵘ` at the top of the domain, which is related\n",
    "      to the `x` momentum flux `τˣ` via `τˣ = ρ₀ * Qᵘ`, where `ρ₀` is a reference density.\n",
    "      Our chosen value of `Qᵘ = -2 × 10⁻⁵ m² s⁻²` roughly corresponds to atmospheric winds\n",
    "      of `uᵃ = 2.9 m s⁻¹` in the positive `x`-direction, using the parameterization\n",
    "      `τ = 0.0025 * |uᵃ| * uᵃ`.\n",
    "\n",
    "  3. An evaporation rate `evaporation = 10⁻⁷ m s⁻¹`, or approximately 0.1 millimeter per\n",
    "      hour.\n",
    "\n",
    "Finally, we use an initial temperature gradient of `∂T/∂z = 0.005 K m⁻¹`,\n",
    "which implies an iniital buoyancy frequency `N² = α * g * ∂T/∂z = 9.8 × 10⁻⁶ s⁻²`\n",
    "with a thermal expansion coefficient `α = 2 × 10⁻⁴ K⁻¹` and gravitational acceleration\n",
    "`g = 9.81 s⁻²`. Note that, by default, the `SeawaterBuoyancy` model uses a gravitational\n",
    "acceleration `gᴱᵃʳᵗʰ = 9.80665 s⁻²`."
   ],
   "metadata": {}
  },
  {
   "outputs": [
    {
     "output_type": "execute_result",
     "data": {
      "text/plain": "0.0008"
     },
     "metadata": {},
     "execution_count": 2
    }
   ],
   "cell_type": "code",
   "source": [
    "         Nz = 48       # Number of grid points in x, y, z\n",
    "         Δz = 1.0      # Grid spacing in x, y, z (meters)\n",
    "         Qᵀ = 5e-5     # Temperature flux at surface\n",
    "         Qᵘ = -2e-5    # Velocity flux at surface\n",
    "       ∂T∂z = 0.005    # Initial vertical temperature gradient\n",
    "evaporation = 1e-7     # Mass-specific evaporation rate [m s⁻¹]\n",
    "   end_time = 2hour    # End time for the simulation\n",
    "          f = 1e-4     # Coriolis parameter\n",
    "          α = 2e-4     # Thermal expansion coefficient\n",
    "          β = 8e-4     # Haline contraction coefficient"
   ],
   "metadata": {},
   "execution_count": 2
  },
  {
   "outputs": [],
   "cell_type": "markdown",
   "source": [
    "## Boundary conditions\n",
    "\n",
    "Here we define `Flux` boundary conditions at the surface for `u`, `T`, and `S`,\n",
    "and a `Gradient` boundary condition on `T` that maintains a constant stratification\n",
    "at the bottom. Our flux boundary condition for salinity uses a function that calculates\n",
    "the salinity flux in terms of the evaporation rate."
   ],
   "metadata": {}
  },
  {
   "outputs": [
    {
     "output_type": "execute_result",
     "data": {
      "text/plain": "(x = Oceananigans.CoordinateBoundaryConditions{Oceananigans.BoundaryCondition{Oceananigans.Periodic,Nothing},Oceananigans.BoundaryCondition{Oceananigans.Periodic,Nothing}}(Oceananigans.BoundaryCondition{Oceananigans.Periodic,Nothing}(nothing), Oceananigans.BoundaryCondition{Oceananigans.Periodic,Nothing}(nothing)), y = Oceananigans.CoordinateBoundaryConditions{Oceananigans.BoundaryCondition{Oceananigans.Periodic,Nothing},Oceananigans.BoundaryCondition{Oceananigans.Periodic,Nothing}}(Oceananigans.BoundaryCondition{Oceananigans.Periodic,Nothing}(nothing), Oceananigans.BoundaryCondition{Oceananigans.Periodic,Nothing}(nothing)), z = Oceananigans.CoordinateBoundaryConditions{Oceananigans.BoundaryCondition{Oceananigans.Flux,typeof(Main.##376.Qˢ)},Oceananigans.BoundaryCondition{Oceananigans.Flux,Nothing}}(Oceananigans.BoundaryCondition{Oceananigans.Flux,typeof(Main.##376.Qˢ)}(Main.##376.Qˢ), Oceananigans.BoundaryCondition{Oceananigans.Flux,Nothing}(nothing)))"
     },
     "metadata": {},
     "execution_count": 3
    }
   ],
   "cell_type": "code",
   "source": [
    "u_bcs = HorizontallyPeriodicBCs(top = BoundaryCondition(Flux, Qᵘ))\n",
    "\n",
    "T_bcs = HorizontallyPeriodicBCs(   top = BoundaryCondition(Flux, Qᵀ),\n",
    "                                bottom = BoundaryCondition(Gradient, ∂T∂z))\n",
    "\n",
    "# Salinity flux: Qˢ = - E * S\n",
    "@inline Qˢ(i, j, grid, time, iter, U, C, p) = @inbounds -p.evaporation * C.S[i, j, 1]\n",
    "\n",
    "S_bcs = HorizontallyPeriodicBCs(top = BoundaryCondition(Flux, Qˢ))"
   ],
   "metadata": {},
   "execution_count": 3
  },
  {
   "outputs": [],
   "cell_type": "markdown",
   "source": [
    "## Model instantiation\n",
    "\n",
    "We instantiate a horizontally-periodic `Model` on the CPU with on a `RegularCartesianGrid`,\n",
    "using a `FPlane` model for rotation (constant rotation rate), a linear equation\n",
    "of state for temperature and salinity, the Anisotropic Minimum Dissipation closure\n",
    "to model the effects of unresolved turbulence, and the previously defined boundary\n",
    "conditions for `u`, `T`, and `S`. We also pass the evaporation rate to the container\n",
    "model.parameters for use in the boundary condition function that calculates the salinity\n",
    "flux."
   ],
   "metadata": {}
  },
  {
   "outputs": [
    {
     "output_type": "execute_result",
     "data": {
      "text/plain": "Oceananigans.Model{Oceananigans.AdamsBashforthTimestepper{Float64,NamedTuple{(:u, :v, :w, :T, :S),Tuple{Oceananigans.Field{Oceananigans.Face,Oceananigans.Cell,Oceananigans.Cell,OffsetArrays.OffsetArray{Float64,3,Array{Float64,3}},Oceananigans.RegularCartesianGrid{Float64,StepRangeLen{Float64,Base.TwicePrecision{Float64},Base.TwicePrecision{Float64}}}},Oceananigans.Field{Oceananigans.Cell,Oceananigans.Face,Oceananigans.Cell,OffsetArrays.OffsetArray{Float64,3,Array{Float64,3}},Oceananigans.RegularCartesianGrid{Float64,StepRangeLen{Float64,Base.TwicePrecision{Float64},Base.TwicePrecision{Float64}}}},Oceananigans.Field{Oceananigans.Cell,Oceananigans.Cell,Oceananigans.Face,OffsetArrays.OffsetArray{Float64,3,Array{Float64,3}},Oceananigans.RegularCartesianGrid{Float64,StepRangeLen{Float64,Base.TwicePrecision{Float64},Base.TwicePrecision{Float64}}}},Oceananigans.Field{Oceananigans.Cell,Oceananigans.Cell,Oceananigans.Cell,OffsetArrays.OffsetArray{Float64,3,Array{Float64,3}},Oceananigans.RegularCartesianGrid{Float64,StepRangeLen{Float64,Base.TwicePrecision{Float64},Base.TwicePrecision{Float64}}}},Oceananigans.Field{Oceananigans.Cell,Oceananigans.Cell,Oceananigans.Cell,OffsetArrays.OffsetArray{Float64,3,Array{Float64,3}},Oceananigans.RegularCartesianGrid{Float64,StepRangeLen{Float64,Base.TwicePrecision{Float64},Base.TwicePrecision{Float64}}}}}}},Oceananigans.TurbulenceClosures.VerstappenAnisotropicMinimumDissipation{Float64,NamedTuple{(:T, :S),Tuple{Float64,Float64}}},Oceananigans.CPU,Oceananigans.RegularCartesianGrid{Float64,StepRangeLen{Float64,Base.TwicePrecision{Float64},Base.TwicePrecision{Float64}}},Float64,Oceananigans.SeawaterBuoyancy{Float64,Oceananigans.LinearEquationOfState{Float64}},Oceananigans.FPlane{Float64},NamedTuple{(:u, :v, :w),Tuple{Oceananigans.Field{Oceananigans.Face,Oceananigans.Cell,Oceananigans.Cell,OffsetArrays.OffsetArray{Float64,3,Array{Float64,3}},Oceananigans.RegularCartesianGrid{Float64,StepRangeLen{Float64,Base.TwicePrecision{Float64},Base.TwicePrecision{Float64}}}},Oceananigans.Field{Oceananigans.Cell,Oceananigans.Face,Oceananigans.Cell,OffsetArrays.OffsetArray{Float64,3,Array{Float64,3}},Oceananigans.RegularCartesianGrid{Float64,StepRangeLen{Float64,Base.TwicePrecision{Float64},Base.TwicePrecision{Float64}}}},Oceananigans.Field{Oceananigans.Cell,Oceananigans.Cell,Oceananigans.Face,OffsetArrays.OffsetArray{Float64,3,Array{Float64,3}},Oceananigans.RegularCartesianGrid{Float64,StepRangeLen{Float64,Base.TwicePrecision{Float64},Base.TwicePrecision{Float64}}}}}},NamedTuple{(:T, :S),Tuple{Oceananigans.Field{Oceananigans.Cell,Oceananigans.Cell,Oceananigans.Cell,OffsetArrays.OffsetArray{Float64,3,Array{Float64,3}},Oceananigans.RegularCartesianGrid{Float64,StepRangeLen{Float64,Base.TwicePrecision{Float64},Base.TwicePrecision{Float64}}}},Oceananigans.Field{Oceananigans.Cell,Oceananigans.Cell,Oceananigans.Cell,OffsetArrays.OffsetArray{Float64,3,Array{Float64,3}},Oceananigans.RegularCartesianGrid{Float64,StepRangeLen{Float64,Base.TwicePrecision{Float64},Base.TwicePrecision{Float64}}}}}},NamedTuple{(:pHY′, :pNHS),Tuple{Oceananigans.Field{Oceananigans.Cell,Oceananigans.Cell,Oceananigans.Cell,OffsetArrays.OffsetArray{Float64,3,Array{Float64,3}},Oceananigans.RegularCartesianGrid{Float64,StepRangeLen{Float64,Base.TwicePrecision{Float64},Base.TwicePrecision{Float64}}}},Oceananigans.Field{Oceananigans.Cell,Oceananigans.Cell,Oceananigans.Cell,OffsetArrays.OffsetArray{Float64,3,Array{Float64,3}},Oceananigans.RegularCartesianGrid{Float64,StepRangeLen{Float64,Base.TwicePrecision{Float64},Base.TwicePrecision{Float64}}}}}},NamedTuple{(:u, :v, :w, :T, :S),NTuple{5,typeof(Oceananigans.zeroforcing)}},NamedTuple{(:solution, :tendency, :pressure),Tuple{NamedTuple{(:u, :v, :w, :T, :S),Tuple{NamedTuple{(:x, :y, :z),Tuple{Oceananigans.CoordinateBoundaryConditions{Oceananigans.BoundaryCondition{Oceananigans.Periodic,Nothing},Oceananigans.BoundaryCondition{Oceananigans.Periodic,Nothing}},Oceananigans.CoordinateBoundaryConditions{Oceananigans.BoundaryCondition{Oceananigans.Periodic,Nothing},Oceananigans.BoundaryCondition{Oceananigans.Periodic,Nothing}},Oceananigans.CoordinateBoundaryConditions{Oceananigans.BoundaryCondition{Oceananigans.Flux,Float64},Oceananigans.BoundaryCondition{Oceananigans.Flux,Nothing}}}},NamedTuple{(:x, :y, :z),Tuple{Oceananigans.CoordinateBoundaryConditions{Oceananigans.BoundaryCondition{Oceananigans.Periodic,Nothing},Oceananigans.BoundaryCondition{Oceananigans.Periodic,Nothing}},Oceananigans.CoordinateBoundaryConditions{Oceananigans.BoundaryCondition{Oceananigans.Periodic,Nothing},Oceananigans.BoundaryCondition{Oceananigans.Periodic,Nothing}},Oceananigans.CoordinateBoundaryConditions{Oceananigans.BoundaryCondition{Oceananigans.Flux,Nothing},Oceananigans.BoundaryCondition{Oceananigans.Flux,Nothing}}}},NamedTuple{(:x, :y, :z),Tuple{Oceananigans.CoordinateBoundaryConditions{Oceananigans.BoundaryCondition{Oceananigans.Periodic,Nothing},Oceananigans.BoundaryCondition{Oceananigans.Periodic,Nothing}},Oceananigans.CoordinateBoundaryConditions{Oceananigans.BoundaryCondition{Oceananigans.Periodic,Nothing},Oceananigans.BoundaryCondition{Oceananigans.Periodic,Nothing}},Oceananigans.CoordinateBoundaryConditions{Oceananigans.BoundaryCondition{Oceananigans.NoPenetration,Nothing},Oceananigans.BoundaryCondition{Oceananigans.NoPenetration,Nothing}}}},NamedTuple{(:x, :y, :z),Tuple{Oceananigans.CoordinateBoundaryConditions{Oceananigans.BoundaryCondition{Oceananigans.Periodic,Nothing},Oceananigans.BoundaryCondition{Oceananigans.Periodic,Nothing}},Oceananigans.CoordinateBoundaryConditions{Oceananigans.BoundaryCondition{Oceananigans.Periodic,Nothing},Oceananigans.BoundaryCondition{Oceananigans.Periodic,Nothing}},Oceananigans.CoordinateBoundaryConditions{Oceananigans.BoundaryCondition{Oceananigans.Flux,Float64},Oceananigans.BoundaryCondition{Oceananigans.Gradient,Float64}}}},NamedTuple{(:x, :y, :z),Tuple{Oceananigans.CoordinateBoundaryConditions{Oceananigans.BoundaryCondition{Oceananigans.Periodic,Nothing},Oceananigans.BoundaryCondition{Oceananigans.Periodic,Nothing}},Oceananigans.CoordinateBoundaryConditions{Oceananigans.BoundaryCondition{Oceananigans.Periodic,Nothing},Oceananigans.BoundaryCondition{Oceananigans.Periodic,Nothing}},Oceananigans.CoordinateBoundaryConditions{Oceananigans.BoundaryCondition{Oceananigans.Flux,typeof(Main.##376.Qˢ)},Oceananigans.BoundaryCondition{Oceananigans.Flux,Nothing}}}}}},NamedTuple{(:u, :v, :w, :T, :S),Tuple{NamedTuple{(:x, :y, :z),Tuple{Oceananigans.CoordinateBoundaryConditions{Oceananigans.BoundaryCondition{Oceananigans.Periodic,Nothing},Oceananigans.BoundaryCondition{Oceananigans.Periodic,Nothing}},Oceananigans.CoordinateBoundaryConditions{Oceananigans.BoundaryCondition{Oceananigans.Periodic,Nothing},Oceananigans.BoundaryCondition{Oceananigans.Periodic,Nothing}},Oceananigans.CoordinateBoundaryConditions{Oceananigans.BoundaryCondition{Oceananigans.Flux,Nothing},Oceananigans.BoundaryCondition{Oceananigans.Flux,Nothing}}}},NamedTuple{(:x, :y, :z),Tuple{Oceananigans.CoordinateBoundaryConditions{Oceananigans.BoundaryCondition{Oceananigans.Periodic,Nothing},Oceananigans.BoundaryCondition{Oceananigans.Periodic,Nothing}},Oceananigans.CoordinateBoundaryConditions{Oceananigans.BoundaryCondition{Oceananigans.Periodic,Nothing},Oceananigans.BoundaryCondition{Oceananigans.Periodic,Nothing}},Oceananigans.CoordinateBoundaryConditions{Oceananigans.BoundaryCondition{Oceananigans.Flux,Nothing},Oceananigans.BoundaryCondition{Oceananigans.Flux,Nothing}}}},NamedTuple{(:x, :y, :z),Tuple{Oceananigans.CoordinateBoundaryConditions{Oceananigans.BoundaryCondition{Oceananigans.Periodic,Nothing},Oceananigans.BoundaryCondition{Oceananigans.Periodic,Nothing}},Oceananigans.CoordinateBoundaryConditions{Oceananigans.BoundaryCondition{Oceananigans.Periodic,Nothing},Oceananigans.BoundaryCondition{Oceananigans.Periodic,Nothing}},Oceananigans.CoordinateBoundaryConditions{Oceananigans.BoundaryCondition{Oceananigans.NoPenetration,Nothing},Oceananigans.BoundaryCondition{Oceananigans.NoPenetration,Nothing}}}},NamedTuple{(:x, :y, :z),Tuple{Oceananigans.CoordinateBoundaryConditions{Oceananigans.BoundaryCondition{Oceananigans.Periodic,Nothing},Oceananigans.BoundaryCondition{Oceananigans.Periodic,Nothing}},Oceananigans.CoordinateBoundaryConditions{Oceananigans.BoundaryCondition{Oceananigans.Periodic,Nothing},Oceananigans.BoundaryCondition{Oceananigans.Periodic,Nothing}},Oceananigans.CoordinateBoundaryConditions{Oceananigans.BoundaryCondition{Oceananigans.Flux,Nothing},Oceananigans.BoundaryCondition{Oceananigans.Flux,Nothing}}}},NamedTuple{(:x, :y, :z),Tuple{Oceananigans.CoordinateBoundaryConditions{Oceananigans.BoundaryCondition{Oceananigans.Periodic,Nothing},Oceananigans.BoundaryCondition{Oceananigans.Periodic,Nothing}},Oceananigans.CoordinateBoundaryConditions{Oceananigans.BoundaryCondition{Oceananigans.Periodic,Nothing},Oceananigans.BoundaryCondition{Oceananigans.Periodic,Nothing}},Oceananigans.CoordinateBoundaryConditions{Oceananigans.BoundaryCondition{Oceananigans.Flux,Nothing},Oceananigans.BoundaryCondition{Oceananigans.Flux,Nothing}}}}}},NamedTuple{(:x, :y, :z),Tuple{Oceananigans.CoordinateBoundaryConditions{Oceananigans.BoundaryCondition{Oceananigans.Periodic,Nothing},Oceananigans.BoundaryCondition{Oceananigans.Periodic,Nothing}},Oceananigans.CoordinateBoundaryConditions{Oceananigans.BoundaryCondition{Oceananigans.Periodic,Nothing},Oceananigans.BoundaryCondition{Oceananigans.Periodic,Nothing}},Oceananigans.CoordinateBoundaryConditions{Oceananigans.BoundaryCondition{Oceananigans.Flux,Nothing},Oceananigans.BoundaryCondition{Oceananigans.Flux,Nothing}}}}}},Oceananigans.PoissonSolverCPU{Oceananigans.PPN,Array{Float64,3},Array{Complex{Float64},3},FFTW.cFFTWPlan{Complex{Float64},-1,true,3},FFTW.r2rFFTWPlan{Complex{Float64},(5,),true,3},AbstractFFTs.ScaledPlan{Complex{Float64},FFTW.cFFTWPlan{Complex{Float64},1,true,3},Float64},FFTW.r2rFFTWPlan{Complex{Float64},(4,),true,3}},NamedTuple{(:νₑ, :κₑ),Tuple{Oceananigans.Field{Oceananigans.Cell,Oceananigans.Cell,Oceananigans.Cell,OffsetArrays.OffsetArray{Float64,3,Array{Float64,3}},Oceananigans.RegularCartesianGrid{Float64,StepRangeLen{Float64,Base.TwicePrecision{Float64},Base.TwicePrecision{Float64}}}},NamedTuple{(:T, :S),Tuple{Oceananigans.Field{Oceananigans.Cell,Oceananigans.Cell,Oceananigans.Cell,OffsetArrays.OffsetArray{Float64,3,Array{Float64,3}},Oceananigans.RegularCartesianGrid{Float64,StepRangeLen{Float64,Base.TwicePrecision{Float64},Base.TwicePrecision{Float64}}}},Oceananigans.Field{Oceananigans.Cell,Oceananigans.Cell,Oceananigans.Cell,OffsetArrays.OffsetArray{Float64,3,Array{Float64,3}},Oceananigans.RegularCartesianGrid{Float64,StepRangeLen{Float64,Base.TwicePrecision{Float64},Base.TwicePrecision{Float64}}}}}}}},OrderedCollections.OrderedDict{Symbol,Oceananigans.AbstractOutputWriter},OrderedCollections.OrderedDict{Symbol,Oceananigans.AbstractDiagnostic},NamedTuple{(:evaporation,),Tuple{Float64}}}(Oceananigans.CPU(), RegularCartesianGrid{Float64}\n  resolution (Nx, Ny, Nz) = (48, 48, 48)\n   halo size (Hx, Hy, Hz) = (1, 1, 1)\n      domain (Lx, Ly, Lz) = (48.0, 48.0, 48.0)\ngrid spacing (Δx, Δy, Δz) = (1.0, 1.0, 1.0), Oceananigans.Clock{Float64}(0.0, 0), Oceananigans.SeawaterBuoyancy{Float64,Oceananigans.LinearEquationOfState{Float64}}(9.80665, Oceananigans.LinearEquationOfState{Float64}(0.0002, 0.0008)), Oceananigans.FPlane{Float64}(0.0001), (u = Field at (Oceananigans.Face, Oceananigans.Cell, Oceananigans.Cell)\n├── data: OffsetArrays.OffsetArray{Float64,3,Array{Float64,3}}\n└── grid: Oceananigans.RegularCartesianGrid{Float64,StepRangeLen{Float64,Base.TwicePrecision{Float64},Base.TwicePrecision{Float64}}}\n    ├── size: (48, 48, 48)\n    └── domain: x ∈ [0.0, 48.0], y ∈ [0.0, 48.0], z ∈ [0.0, -48.0]\n, v = Field at (Oceananigans.Cell, Oceananigans.Face, Oceananigans.Cell)\n├── data: OffsetArrays.OffsetArray{Float64,3,Array{Float64,3}}\n└── grid: Oceananigans.RegularCartesianGrid{Float64,StepRangeLen{Float64,Base.TwicePrecision{Float64},Base.TwicePrecision{Float64}}}\n    ├── size: (48, 48, 48)\n    └── domain: x ∈ [0.0, 48.0], y ∈ [0.0, 48.0], z ∈ [0.0, -48.0]\n, w = Field at (Oceananigans.Cell, Oceananigans.Cell, Oceananigans.Face)\n├── data: OffsetArrays.OffsetArray{Float64,3,Array{Float64,3}}\n└── grid: Oceananigans.RegularCartesianGrid{Float64,StepRangeLen{Float64,Base.TwicePrecision{Float64},Base.TwicePrecision{Float64}}}\n    ├── size: (48, 48, 48)\n    └── domain: x ∈ [0.0, 48.0], y ∈ [0.0, 48.0], z ∈ [0.0, -48.0]\n), (T = Field at (Oceananigans.Cell, Oceananigans.Cell, Oceananigans.Cell)\n├── data: OffsetArrays.OffsetArray{Float64,3,Array{Float64,3}}\n└── grid: Oceananigans.RegularCartesianGrid{Float64,StepRangeLen{Float64,Base.TwicePrecision{Float64},Base.TwicePrecision{Float64}}}\n    ├── size: (48, 48, 48)\n    └── domain: x ∈ [0.0, 48.0], y ∈ [0.0, 48.0], z ∈ [0.0, -48.0]\n, S = Field at (Oceananigans.Cell, Oceananigans.Cell, Oceananigans.Cell)\n├── data: OffsetArrays.OffsetArray{Float64,3,Array{Float64,3}}\n└── grid: Oceananigans.RegularCartesianGrid{Float64,StepRangeLen{Float64,Base.TwicePrecision{Float64},Base.TwicePrecision{Float64}}}\n    ├── size: (48, 48, 48)\n    └── domain: x ∈ [0.0, 48.0], y ∈ [0.0, 48.0], z ∈ [0.0, -48.0]\n), (pHY′ = Field at (Oceananigans.Cell, Oceananigans.Cell, Oceananigans.Cell)\n├── data: OffsetArrays.OffsetArray{Float64,3,Array{Float64,3}}\n└── grid: Oceananigans.RegularCartesianGrid{Float64,StepRangeLen{Float64,Base.TwicePrecision{Float64},Base.TwicePrecision{Float64}}}\n    ├── size: (48, 48, 48)\n    └── domain: x ∈ [0.0, 48.0], y ∈ [0.0, 48.0], z ∈ [0.0, -48.0]\n, pNHS = Field at (Oceananigans.Cell, Oceananigans.Cell, Oceananigans.Cell)\n├── data: OffsetArrays.OffsetArray{Float64,3,Array{Float64,3}}\n└── grid: Oceananigans.RegularCartesianGrid{Float64,StepRangeLen{Float64,Base.TwicePrecision{Float64},Base.TwicePrecision{Float64}}}\n    ├── size: (48, 48, 48)\n    └── domain: x ∈ [0.0, 48.0], y ∈ [0.0, 48.0], z ∈ [0.0, -48.0]\n), (u = Oceananigans.zeroforcing, v = Oceananigans.zeroforcing, w = Oceananigans.zeroforcing, T = Oceananigans.zeroforcing, S = Oceananigans.zeroforcing), Oceananigans.TurbulenceClosures.VerstappenAnisotropicMinimumDissipation{Float64,NamedTuple{(:T, :S),Tuple{Float64,Float64}}}(0.08333333333333333, 0.0, 1.05e-6, (T = 1.46e-7, S = 1.46e-7)), (solution = (u = (x = Oceananigans.CoordinateBoundaryConditions{Oceananigans.BoundaryCondition{Oceananigans.Periodic,Nothing},Oceananigans.BoundaryCondition{Oceananigans.Periodic,Nothing}}(Oceananigans.BoundaryCondition{Oceananigans.Periodic,Nothing}(nothing), Oceananigans.BoundaryCondition{Oceananigans.Periodic,Nothing}(nothing)), y = Oceananigans.CoordinateBoundaryConditions{Oceananigans.BoundaryCondition{Oceananigans.Periodic,Nothing},Oceananigans.BoundaryCondition{Oceananigans.Periodic,Nothing}}(Oceananigans.BoundaryCondition{Oceananigans.Periodic,Nothing}(nothing), Oceananigans.BoundaryCondition{Oceananigans.Periodic,Nothing}(nothing)), z = Oceananigans.CoordinateBoundaryConditions{Oceananigans.BoundaryCondition{Oceananigans.Flux,Float64},Oceananigans.BoundaryCondition{Oceananigans.Flux,Nothing}}(Oceananigans.BoundaryCondition{Oceananigans.Flux,Float64}(-2.0e-5), Oceananigans.BoundaryCondition{Oceananigans.Flux,Nothing}(nothing))), v = (x = Oceananigans.CoordinateBoundaryConditions{Oceananigans.BoundaryCondition{Oceananigans.Periodic,Nothing},Oceananigans.BoundaryCondition{Oceananigans.Periodic,Nothing}}(Oceananigans.BoundaryCondition{Oceananigans.Periodic,Nothing}(nothing), Oceananigans.BoundaryCondition{Oceananigans.Periodic,Nothing}(nothing)), y = Oceananigans.CoordinateBoundaryConditions{Oceananigans.BoundaryCondition{Oceananigans.Periodic,Nothing},Oceananigans.BoundaryCondition{Oceananigans.Periodic,Nothing}}(Oceananigans.BoundaryCondition{Oceananigans.Periodic,Nothing}(nothing), Oceananigans.BoundaryCondition{Oceananigans.Periodic,Nothing}(nothing)), z = Oceananigans.CoordinateBoundaryConditions{Oceananigans.BoundaryCondition{Oceananigans.Flux,Nothing},Oceananigans.BoundaryCondition{Oceananigans.Flux,Nothing}}(Oceananigans.BoundaryCondition{Oceananigans.Flux,Nothing}(nothing), Oceananigans.BoundaryCondition{Oceananigans.Flux,Nothing}(nothing))), w = (x = Oceananigans.CoordinateBoundaryConditions{Oceananigans.BoundaryCondition{Oceananigans.Periodic,Nothing},Oceananigans.BoundaryCondition{Oceananigans.Periodic,Nothing}}(Oceananigans.BoundaryCondition{Oceananigans.Periodic,Nothing}(nothing), Oceananigans.BoundaryCondition{Oceananigans.Periodic,Nothing}(nothing)), y = Oceananigans.CoordinateBoundaryConditions{Oceananigans.BoundaryCondition{Oceananigans.Periodic,Nothing},Oceananigans.BoundaryCondition{Oceananigans.Periodic,Nothing}}(Oceananigans.BoundaryCondition{Oceananigans.Periodic,Nothing}(nothing), Oceananigans.BoundaryCondition{Oceananigans.Periodic,Nothing}(nothing)), z = Oceananigans.CoordinateBoundaryConditions{Oceananigans.BoundaryCondition{Oceananigans.NoPenetration,Nothing},Oceananigans.BoundaryCondition{Oceananigans.NoPenetration,Nothing}}(Oceananigans.BoundaryCondition{Oceananigans.NoPenetration,Nothing}(nothing), Oceananigans.BoundaryCondition{Oceananigans.NoPenetration,Nothing}(nothing))), T = (x = Oceananigans.CoordinateBoundaryConditions{Oceananigans.BoundaryCondition{Oceananigans.Periodic,Nothing},Oceananigans.BoundaryCondition{Oceananigans.Periodic,Nothing}}(Oceananigans.BoundaryCondition{Oceananigans.Periodic,Nothing}(nothing), Oceananigans.BoundaryCondition{Oceananigans.Periodic,Nothing}(nothing)), y = Oceananigans.CoordinateBoundaryConditions{Oceananigans.BoundaryCondition{Oceananigans.Periodic,Nothing},Oceananigans.BoundaryCondition{Oceananigans.Periodic,Nothing}}(Oceananigans.BoundaryCondition{Oceananigans.Periodic,Nothing}(nothing), Oceananigans.BoundaryCondition{Oceananigans.Periodic,Nothing}(nothing)), z = Oceananigans.CoordinateBoundaryConditions{Oceananigans.BoundaryCondition{Oceananigans.Flux,Float64},Oceananigans.BoundaryCondition{Oceananigans.Gradient,Float64}}(Oceananigans.BoundaryCondition{Oceananigans.Flux,Float64}(5.0e-5), Oceananigans.BoundaryCondition{Oceananigans.Gradient,Float64}(0.005))), S = (x = Oceananigans.CoordinateBoundaryConditions{Oceananigans.BoundaryCondition{Oceananigans.Periodic,Nothing},Oceananigans.BoundaryCondition{Oceananigans.Periodic,Nothing}}(Oceananigans.BoundaryCondition{Oceananigans.Periodic,Nothing}(nothing), Oceananigans.BoundaryCondition{Oceananigans.Periodic,Nothing}(nothing)), y = Oceananigans.CoordinateBoundaryConditions{Oceananigans.BoundaryCondition{Oceananigans.Periodic,Nothing},Oceananigans.BoundaryCondition{Oceananigans.Periodic,Nothing}}(Oceananigans.BoundaryCondition{Oceananigans.Periodic,Nothing}(nothing), Oceananigans.BoundaryCondition{Oceananigans.Periodic,Nothing}(nothing)), z = Oceananigans.CoordinateBoundaryConditions{Oceananigans.BoundaryCondition{Oceananigans.Flux,typeof(Main.##376.Qˢ)},Oceananigans.BoundaryCondition{Oceananigans.Flux,Nothing}}(Oceananigans.BoundaryCondition{Oceananigans.Flux,typeof(Main.##376.Qˢ)}(Main.##376.Qˢ), Oceananigans.BoundaryCondition{Oceananigans.Flux,Nothing}(nothing)))), tendency = (u = (x = Oceananigans.CoordinateBoundaryConditions{Oceananigans.BoundaryCondition{Oceananigans.Periodic,Nothing},Oceananigans.BoundaryCondition{Oceananigans.Periodic,Nothing}}(Oceananigans.BoundaryCondition{Oceananigans.Periodic,Nothing}(nothing), Oceananigans.BoundaryCondition{Oceananigans.Periodic,Nothing}(nothing)), y = Oceananigans.CoordinateBoundaryConditions{Oceananigans.BoundaryCondition{Oceananigans.Periodic,Nothing},Oceananigans.BoundaryCondition{Oceananigans.Periodic,Nothing}}(Oceananigans.BoundaryCondition{Oceananigans.Periodic,Nothing}(nothing), Oceananigans.BoundaryCondition{Oceananigans.Periodic,Nothing}(nothing)), z = Oceananigans.CoordinateBoundaryConditions{Oceananigans.BoundaryCondition{Oceananigans.Flux,Nothing},Oceananigans.BoundaryCondition{Oceananigans.Flux,Nothing}}(Oceananigans.BoundaryCondition{Oceananigans.Flux,Nothing}(nothing), Oceananigans.BoundaryCondition{Oceananigans.Flux,Nothing}(nothing))), v = (x = Oceananigans.CoordinateBoundaryConditions{Oceananigans.BoundaryCondition{Oceananigans.Periodic,Nothing},Oceananigans.BoundaryCondition{Oceananigans.Periodic,Nothing}}(Oceananigans.BoundaryCondition{Oceananigans.Periodic,Nothing}(nothing), Oceananigans.BoundaryCondition{Oceananigans.Periodic,Nothing}(nothing)), y = Oceananigans.CoordinateBoundaryConditions{Oceananigans.BoundaryCondition{Oceananigans.Periodic,Nothing},Oceananigans.BoundaryCondition{Oceananigans.Periodic,Nothing}}(Oceananigans.BoundaryCondition{Oceananigans.Periodic,Nothing}(nothing), Oceananigans.BoundaryCondition{Oceananigans.Periodic,Nothing}(nothing)), z = Oceananigans.CoordinateBoundaryConditions{Oceananigans.BoundaryCondition{Oceananigans.Flux,Nothing},Oceananigans.BoundaryCondition{Oceananigans.Flux,Nothing}}(Oceananigans.BoundaryCondition{Oceananigans.Flux,Nothing}(nothing), Oceananigans.BoundaryCondition{Oceananigans.Flux,Nothing}(nothing))), w = (x = Oceananigans.CoordinateBoundaryConditions{Oceananigans.BoundaryCondition{Oceananigans.Periodic,Nothing},Oceananigans.BoundaryCondition{Oceananigans.Periodic,Nothing}}(Oceananigans.BoundaryCondition{Oceananigans.Periodic,Nothing}(nothing), Oceananigans.BoundaryCondition{Oceananigans.Periodic,Nothing}(nothing)), y = Oceananigans.CoordinateBoundaryConditions{Oceananigans.BoundaryCondition{Oceananigans.Periodic,Nothing},Oceananigans.BoundaryCondition{Oceananigans.Periodic,Nothing}}(Oceananigans.BoundaryCondition{Oceananigans.Periodic,Nothing}(nothing), Oceananigans.BoundaryCondition{Oceananigans.Periodic,Nothing}(nothing)), z = Oceananigans.CoordinateBoundaryConditions{Oceananigans.BoundaryCondition{Oceananigans.NoPenetration,Nothing},Oceananigans.BoundaryCondition{Oceananigans.NoPenetration,Nothing}}(Oceananigans.BoundaryCondition{Oceananigans.NoPenetration,Nothing}(nothing), Oceananigans.BoundaryCondition{Oceananigans.NoPenetration,Nothing}(nothing))), T = (x = Oceananigans.CoordinateBoundaryConditions{Oceananigans.BoundaryCondition{Oceananigans.Periodic,Nothing},Oceananigans.BoundaryCondition{Oceananigans.Periodic,Nothing}}(Oceananigans.BoundaryCondition{Oceananigans.Periodic,Nothing}(nothing), Oceananigans.BoundaryCondition{Oceananigans.Periodic,Nothing}(nothing)), y = Oceananigans.CoordinateBoundaryConditions{Oceananigans.BoundaryCondition{Oceananigans.Periodic,Nothing},Oceananigans.BoundaryCondition{Oceananigans.Periodic,Nothing}}(Oceananigans.BoundaryCondition{Oceananigans.Periodic,Nothing}(nothing), Oceananigans.BoundaryCondition{Oceananigans.Periodic,Nothing}(nothing)), z = Oceananigans.CoordinateBoundaryConditions{Oceananigans.BoundaryCondition{Oceananigans.Flux,Nothing},Oceananigans.BoundaryCondition{Oceananigans.Flux,Nothing}}(Oceananigans.BoundaryCondition{Oceananigans.Flux,Nothing}(nothing), Oceananigans.BoundaryCondition{Oceananigans.Flux,Nothing}(nothing))), S = (x = Oceananigans.CoordinateBoundaryConditions{Oceananigans.BoundaryCondition{Oceananigans.Periodic,Nothing},Oceananigans.BoundaryCondition{Oceananigans.Periodic,Nothing}}(Oceananigans.BoundaryCondition{Oceananigans.Periodic,Nothing}(nothing), Oceananigans.BoundaryCondition{Oceananigans.Periodic,Nothing}(nothing)), y = Oceananigans.CoordinateBoundaryConditions{Oceananigans.BoundaryCondition{Oceananigans.Periodic,Nothing},Oceananigans.BoundaryCondition{Oceananigans.Periodic,Nothing}}(Oceananigans.BoundaryCondition{Oceananigans.Periodic,Nothing}(nothing), Oceananigans.BoundaryCondition{Oceananigans.Periodic,Nothing}(nothing)), z = Oceananigans.CoordinateBoundaryConditions{Oceananigans.BoundaryCondition{Oceananigans.Flux,Nothing},Oceananigans.BoundaryCondition{Oceananigans.Flux,Nothing}}(Oceananigans.BoundaryCondition{Oceananigans.Flux,Nothing}(nothing), Oceananigans.BoundaryCondition{Oceananigans.Flux,Nothing}(nothing)))), pressure = (x = Oceananigans.CoordinateBoundaryConditions{Oceananigans.BoundaryCondition{Oceananigans.Periodic,Nothing},Oceananigans.BoundaryCondition{Oceananigans.Periodic,Nothing}}(Oceananigans.BoundaryCondition{Oceananigans.Periodic,Nothing}(nothing), Oceananigans.BoundaryCondition{Oceananigans.Periodic,Nothing}(nothing)), y = Oceananigans.CoordinateBoundaryConditions{Oceananigans.BoundaryCondition{Oceananigans.Periodic,Nothing},Oceananigans.BoundaryCondition{Oceananigans.Periodic,Nothing}}(Oceananigans.BoundaryCondition{Oceananigans.Periodic,Nothing}(nothing), Oceananigans.BoundaryCondition{Oceananigans.Periodic,Nothing}(nothing)), z = Oceananigans.CoordinateBoundaryConditions{Oceananigans.BoundaryCondition{Oceananigans.Flux,Nothing},Oceananigans.BoundaryCondition{Oceananigans.Flux,Nothing}}(Oceananigans.BoundaryCondition{Oceananigans.Flux,Nothing}(nothing), Oceananigans.BoundaryCondition{Oceananigans.Flux,Nothing}(nothing)))), Oceananigans.AdamsBashforthTimestepper{Float64,NamedTuple{(:u, :v, :w, :T, :S),Tuple{Oceananigans.Field{Oceananigans.Face,Oceananigans.Cell,Oceananigans.Cell,OffsetArrays.OffsetArray{Float64,3,Array{Float64,3}},Oceananigans.RegularCartesianGrid{Float64,StepRangeLen{Float64,Base.TwicePrecision{Float64},Base.TwicePrecision{Float64}}}},Oceananigans.Field{Oceananigans.Cell,Oceananigans.Face,Oceananigans.Cell,OffsetArrays.OffsetArray{Float64,3,Array{Float64,3}},Oceananigans.RegularCartesianGrid{Float64,StepRangeLen{Float64,Base.TwicePrecision{Float64},Base.TwicePrecision{Float64}}}},Oceananigans.Field{Oceananigans.Cell,Oceananigans.Cell,Oceananigans.Face,OffsetArrays.OffsetArray{Float64,3,Array{Float64,3}},Oceananigans.RegularCartesianGrid{Float64,StepRangeLen{Float64,Base.TwicePrecision{Float64},Base.TwicePrecision{Float64}}}},Oceananigans.Field{Oceananigans.Cell,Oceananigans.Cell,Oceananigans.Cell,OffsetArrays.OffsetArray{Float64,3,Array{Float64,3}},Oceananigans.RegularCartesianGrid{Float64,StepRangeLen{Float64,Base.TwicePrecision{Float64},Base.TwicePrecision{Float64}}}},Oceananigans.Field{Oceananigans.Cell,Oceananigans.Cell,Oceananigans.Cell,OffsetArrays.OffsetArray{Float64,3,Array{Float64,3}},Oceananigans.RegularCartesianGrid{Float64,StepRangeLen{Float64,Base.TwicePrecision{Float64},Base.TwicePrecision{Float64}}}}}}}((u = Field at (Oceananigans.Face, Oceananigans.Cell, Oceananigans.Cell)\n├── data: OffsetArrays.OffsetArray{Float64,3,Array{Float64,3}}\n└── grid: Oceananigans.RegularCartesianGrid{Float64,StepRangeLen{Float64,Base.TwicePrecision{Float64},Base.TwicePrecision{Float64}}}\n    ├── size: (48, 48, 48)\n    └── domain: x ∈ [0.0, 48.0], y ∈ [0.0, 48.0], z ∈ [0.0, -48.0]\n, v = Field at (Oceananigans.Cell, Oceananigans.Face, Oceananigans.Cell)\n├── data: OffsetArrays.OffsetArray{Float64,3,Array{Float64,3}}\n└── grid: Oceananigans.RegularCartesianGrid{Float64,StepRangeLen{Float64,Base.TwicePrecision{Float64},Base.TwicePrecision{Float64}}}\n    ├── size: (48, 48, 48)\n    └── domain: x ∈ [0.0, 48.0], y ∈ [0.0, 48.0], z ∈ [0.0, -48.0]\n, w = Field at (Oceananigans.Cell, Oceananigans.Cell, Oceananigans.Face)\n├── data: OffsetArrays.OffsetArray{Float64,3,Array{Float64,3}}\n└── grid: Oceananigans.RegularCartesianGrid{Float64,StepRangeLen{Float64,Base.TwicePrecision{Float64},Base.TwicePrecision{Float64}}}\n    ├── size: (48, 48, 48)\n    └── domain: x ∈ [0.0, 48.0], y ∈ [0.0, 48.0], z ∈ [0.0, -48.0]\n, T = Field at (Oceananigans.Cell, Oceananigans.Cell, Oceananigans.Cell)\n├── data: OffsetArrays.OffsetArray{Float64,3,Array{Float64,3}}\n└── grid: Oceananigans.RegularCartesianGrid{Float64,StepRangeLen{Float64,Base.TwicePrecision{Float64},Base.TwicePrecision{Float64}}}\n    ├── size: (48, 48, 48)\n    └── domain: x ∈ [0.0, 48.0], y ∈ [0.0, 48.0], z ∈ [0.0, -48.0]\n, S = Field at (Oceananigans.Cell, Oceananigans.Cell, Oceananigans.Cell)\n├── data: OffsetArrays.OffsetArray{Float64,3,Array{Float64,3}}\n└── grid: Oceananigans.RegularCartesianGrid{Float64,StepRangeLen{Float64,Base.TwicePrecision{Float64},Base.TwicePrecision{Float64}}}\n    ├── size: (48, 48, 48)\n    └── domain: x ∈ [0.0, 48.0], y ∈ [0.0, 48.0], z ∈ [0.0, -48.0]\n), (u = Field at (Oceananigans.Face, Oceananigans.Cell, Oceananigans.Cell)\n├── data: OffsetArrays.OffsetArray{Float64,3,Array{Float64,3}}\n└── grid: Oceananigans.RegularCartesianGrid{Float64,StepRangeLen{Float64,Base.TwicePrecision{Float64},Base.TwicePrecision{Float64}}}\n    ├── size: (48, 48, 48)\n    └── domain: x ∈ [0.0, 48.0], y ∈ [0.0, 48.0], z ∈ [0.0, -48.0]\n, v = Field at (Oceananigans.Cell, Oceananigans.Face, Oceananigans.Cell)\n├── data: OffsetArrays.OffsetArray{Float64,3,Array{Float64,3}}\n└── grid: Oceananigans.RegularCartesianGrid{Float64,StepRangeLen{Float64,Base.TwicePrecision{Float64},Base.TwicePrecision{Float64}}}\n    ├── size: (48, 48, 48)\n    └── domain: x ∈ [0.0, 48.0], y ∈ [0.0, 48.0], z ∈ [0.0, -48.0]\n, w = Field at (Oceananigans.Cell, Oceananigans.Cell, Oceananigans.Face)\n├── data: OffsetArrays.OffsetArray{Float64,3,Array{Float64,3}}\n└── grid: Oceananigans.RegularCartesianGrid{Float64,StepRangeLen{Float64,Base.TwicePrecision{Float64},Base.TwicePrecision{Float64}}}\n    ├── size: (48, 48, 48)\n    └── domain: x ∈ [0.0, 48.0], y ∈ [0.0, 48.0], z ∈ [0.0, -48.0]\n, T = Field at (Oceananigans.Cell, Oceananigans.Cell, Oceananigans.Cell)\n├── data: OffsetArrays.OffsetArray{Float64,3,Array{Float64,3}}\n└── grid: Oceananigans.RegularCartesianGrid{Float64,StepRangeLen{Float64,Base.TwicePrecision{Float64},Base.TwicePrecision{Float64}}}\n    ├── size: (48, 48, 48)\n    └── domain: x ∈ [0.0, 48.0], y ∈ [0.0, 48.0], z ∈ [0.0, -48.0]\n, S = Field at (Oceananigans.Cell, Oceananigans.Cell, Oceananigans.Cell)\n├── data: OffsetArrays.OffsetArray{Float64,3,Array{Float64,3}}\n└── grid: Oceananigans.RegularCartesianGrid{Float64,StepRangeLen{Float64,Base.TwicePrecision{Float64},Base.TwicePrecision{Float64}}}\n    ├── size: (48, 48, 48)\n    └── domain: x ∈ [0.0, 48.0], y ∈ [0.0, 48.0], z ∈ [0.0, -48.0]\n), 0.125), Oceananigans.PoissonSolverCPU{Oceananigans.PPN,Array{Float64,3},Array{Complex{Float64},3},FFTW.cFFTWPlan{Complex{Float64},-1,true,3},FFTW.r2rFFTWPlan{Complex{Float64},(5,),true,3},AbstractFFTs.ScaledPlan{Complex{Float64},FFTW.cFFTWPlan{Complex{Float64},1,true,3},Float64},FFTW.r2rFFTWPlan{Complex{Float64},(4,),true,3}}(Oceananigans.PPN(), [0.0; 0.017110277252379177; … ; 0.06814834742186385; 0.017110277252379204], [0.0 0.017110277252379177 … 0.06814834742186385 0.017110277252379204], [0.0]\n\n[0.0042821535227929855]\n\n[0.017110277252379177]\n\n...\n\n[3.9615705608064613]\n\n[3.9828897227476205]\n\n[3.9957178464772074], Complex{Float64}[0.0 + 0.0im 0.0 + 0.0im … 0.0 + 0.0im 0.0 + 0.0im; 0.0 + 0.0im 0.0 + 0.0im … 0.0 + 0.0im 0.0 + 0.0im; … ; 0.0 + 0.0im 0.0 + 0.0im … 0.0 + 0.0im 0.0 + 0.0im; 0.0 + 0.0im 0.0 + 0.0im … 0.0 + 0.0im 0.0 + 0.0im]\n\nComplex{Float64}[0.0 + 0.0im 0.0 + 0.0im … 0.0 + 0.0im 0.0 + 0.0im; 0.0 + 0.0im 0.0 + 0.0im … 0.0 + 0.0im 0.0 + 0.0im; … ; 0.0 + 0.0im 0.0 + 0.0im … 0.0 + 0.0im 0.0 + 0.0im; 0.0 + 0.0im 0.0 + 0.0im … 0.0 + 0.0im 0.0 + 0.0im]\n\nComplex{Float64}[0.0 + 0.0im 0.0 + 0.0im … 0.0 + 0.0im 0.0 + 0.0im; 0.0 + 0.0im 0.0 + 0.0im … 0.0 + 0.0im 0.0 + 0.0im; … ; 0.0 + 0.0im 0.0 + 0.0im … 0.0 + 0.0im 0.0 + 0.0im; 0.0 + 0.0im 0.0 + 0.0im … 0.0 + 0.0im 0.0 + 0.0im]\n\n...\n\nComplex{Float64}[0.0 + 0.0im 0.0 + 0.0im … 0.0 + 0.0im 0.0 + 0.0im; 0.0 + 0.0im 0.0 + 0.0im … 0.0 + 0.0im 0.0 + 0.0im; … ; 0.0 + 0.0im 0.0 + 0.0im … 0.0 + 0.0im 0.0 + 0.0im; 0.0 + 0.0im 0.0 + 0.0im … 0.0 + 0.0im 0.0 + 0.0im]\n\nComplex{Float64}[0.0 + 0.0im 0.0 + 0.0im … 0.0 + 0.0im 0.0 + 0.0im; 0.0 + 0.0im 0.0 + 0.0im … 0.0 + 0.0im 0.0 + 0.0im; … ; 0.0 + 0.0im 0.0 + 0.0im … 0.0 + 0.0im 0.0 + 0.0im; 0.0 + 0.0im 0.0 + 0.0im … 0.0 + 0.0im 0.0 + 0.0im]\n\nComplex{Float64}[0.0 + 0.0im 0.0 + 0.0im … 0.0 + 0.0im 0.0 + 0.0im; 0.0 + 0.0im 0.0 + 0.0im … 0.0 + 0.0im 0.0 + 0.0im; … ; 0.0 + 0.0im 0.0 + 0.0im … 0.0 + 0.0im 0.0 + 0.0im; 0.0 + 0.0im 0.0 + 0.0im … 0.0 + 0.0im 0.0 + 0.0im], FFTW in-place forward plan for 48×48×48 array of Complex{Float64}\n(dft-vrank>=1-x48/1\n  (dft-rank>=2/1\n    (dft-buffered-48-x8/48-6\n      (dft-ct-dit/4\n        (dftw-direct-4/24-x8 \"t2fv_4_avx2\")\n        (dft-vrank>=1-x8/1\n          (dft-direct-12-x4 \"n2fv_12_avx2\")))\n      (dft-r2hc-1\n        (rdft-rank0-memcpy-loop/96-x8))\n      (dft-nop))\n    (dft-buffered-48-x8/48-6\n      (dft-ct-dit/4\n        (dftw-direct-4/12-x8 \"t1fv_4_avx2\")\n        (dft-vrank>=1-x4/1\n          (dft-direct-12-x8 \"n2fv_12_avx2\")))\n      (dft-r2hc-1\n        (rdft-rank0-iter-ci/2-x8-x48))\n      (dft-nop)))), FFTW in-place r2r REDFT10 plan for 48×48×48 array of Complex{Float64}\n(rdft-buffered-48-x256/4608-6\n  (rdft-indirect-before\n    (redft10e-r2hc-48-x256\n      (rdft-ct-dit/6\n        (hc2hc-direct-6/10 \"hf_6\"\n          (rdft-r2hc-direct-r2c-6 \"r2cf_6\")\n          (rdft-r2hc01-direct-r2c-6 \"r2cfII_6\"))\n        (rdft-r2hc-directbuf/10-r2c-8-x6 \"r2cf_8\")))\n    (rdft-rank0-tiled/1-x48-x256))\n  (rdft-rank0-iter-co/1-x256-x48)\n  (rdft-nop)), 0.00043402777777777775 * FFTW in-place backward plan for 48×48×48 array of Complex{Float64}\n(dft-vrank>=1-x48/1\n  (dft-rank>=2/1\n    (dft-buffered-48-x8/48-6\n      (dft-ct-dit/4\n        (dftw-direct-4/24-x8 \"t2bv_4_avx2\")\n        (dft-vrank>=1-x8/1\n          (dft-direct-12-x4 \"n2bv_12_avx2\")))\n      (dft-r2hc-1\n        (rdft-rank0-memcpy-loop/96-x8))\n      (dft-nop))\n    (dft-buffered-48-x8/48-6\n      (dft-ct-dit/4\n        (dftw-direct-4/24-x8 \"t2bv_4_avx2\")\n        (dft-vrank>=1-x4/1\n          (dft-direct-12-x8 \"n2bv_12_avx2\")))\n      (dft-r2hc-1\n        (rdft-rank0-iter-ci/2-x8-x48))\n      (dft-nop)))), FFTW in-place r2r REDFT01 plan for 48×48×48 array of Complex{Float64}\n(rdft-buffered-48-x256/4608-6\n  (rdft-indirect-before\n    (redft01e-r2hc-48-x256\n      (rdft-ct-dit/6\n        (hc2hc-direct-6/10 \"hf_6\"\n          (rdft-r2hc-direct-r2c-6 \"r2cf_6\")\n          (rdft-r2hc01-direct-r2c-6 \"r2cfII_6\"))\n        (rdft-r2hc-directbuf/10-r2c-8-x6 \"r2cf_8\")))\n    (rdft-rank0-tiled/1-x48-x256))\n  (rdft-rank0-iter-co/1-x256-x48)\n  (rdft-nop))), (νₑ = Field at (Oceananigans.Cell, Oceananigans.Cell, Oceananigans.Cell)\n├── data: OffsetArrays.OffsetArray{Float64,3,Array{Float64,3}}\n└── grid: Oceananigans.RegularCartesianGrid{Float64,StepRangeLen{Float64,Base.TwicePrecision{Float64},Base.TwicePrecision{Float64}}}\n    ├── size: (48, 48, 48)\n    └── domain: x ∈ [0.0, 48.0], y ∈ [0.0, 48.0], z ∈ [0.0, -48.0]\n, κₑ = (T = Field at (Oceananigans.Cell, Oceananigans.Cell, Oceananigans.Cell)\n├── data: OffsetArrays.OffsetArray{Float64,3,Array{Float64,3}}\n└── grid: Oceananigans.RegularCartesianGrid{Float64,StepRangeLen{Float64,Base.TwicePrecision{Float64},Base.TwicePrecision{Float64}}}\n    ├── size: (48, 48, 48)\n    └── domain: x ∈ [0.0, 48.0], y ∈ [0.0, 48.0], z ∈ [0.0, -48.0]\n, S = Field at (Oceananigans.Cell, Oceananigans.Cell, Oceananigans.Cell)\n├── data: OffsetArrays.OffsetArray{Float64,3,Array{Float64,3}}\n└── grid: Oceananigans.RegularCartesianGrid{Float64,StepRangeLen{Float64,Base.TwicePrecision{Float64},Base.TwicePrecision{Float64}}}\n    ├── size: (48, 48, 48)\n    └── domain: x ∈ [0.0, 48.0], y ∈ [0.0, 48.0], z ∈ [0.0, -48.0]\n)), OrderedCollections.OrderedDict{Symbol,Oceananigans.AbstractOutputWriter}(), OrderedCollections.OrderedDict{Symbol,Oceananigans.AbstractDiagnostic}(), (evaporation = 1.0e-7,))"
     },
     "metadata": {},
     "execution_count": 4
    }
   ],
   "cell_type": "code",
   "source": [
    "model = Model(\n",
    "         architecture = CPU(),\n",
    "                 grid = RegularCartesianGrid(N=(Nz, Nz, Nz), L=(Δz*Nz, Δz*Nz, Δz*Nz)),\n",
    "             coriolis = FPlane(f=f),\n",
    "             buoyancy = SeawaterBuoyancy(equation_of_state=LinearEquationOfState(α=α, β=β)),\n",
    "              closure = AnisotropicMinimumDissipation(),\n",
    "  boundary_conditions = BoundaryConditions(u=u_bcs, T=T_bcs, S=S_bcs),\n",
    "           parameters = (evaporation = evaporation,)\n",
    ")"
   ],
   "metadata": {},
   "execution_count": 4
  },
  {
   "outputs": [],
   "cell_type": "markdown",
   "source": [
    "To use the Smagorinsky-Lilly turbulence closure (with a constant model coefficient), use\n",
    "\n",
    "```julia\n",
    "closure = ConstantSmagorinsky()\n",
    "```\n",
    "\n",
    "To change the `architecture` to `GPU`, replace the `architecture` keyword argument with\n",
    "\n",
    "```julia\n",
    "architecture = GPU()\n",
    "```\n",
    "\n",
    "## Initial conditions\n",
    "\n",
    "Out initial condition for temperature consists of a linear stratification superposed with\n",
    "random noise damped at the walls, while our initial condition for velocity consists\n",
    "only of random noise."
   ],
   "metadata": {}
  },
  {
   "outputs": [],
   "cell_type": "code",
   "source": [
    "# Random noise damped at top and bottom\n",
    "Ξ(z) = randn() * z / model.grid.Lz * (1 + z / model.grid.Lz) # noise\n",
    "\n",
    "# Temperature initial condition: a stable density tradient with random noise superposed.\n",
    "T₀(x, y, z) = 20 + ∂T∂z * z + ∂T∂z * model.grid.Lz * 1e-1 * Ξ(z)\n",
    "\n",
    "# Velocity initial condition: random noise scaled by the friction velocity.\n",
    "u₀(x, y, z) = sqrt(abs(Qᵘ)) * 1e-1 * Ξ(z)\n",
    "\n",
    "set!(model, u=u₀, w=u₀, T=T₀, S=35)"
   ],
   "metadata": {},
   "execution_count": 5
  },
  {
   "outputs": [],
   "cell_type": "markdown",
   "source": [
    "## Set up output\n",
    "\n",
    "We set up an output writer that saves all velocity fields, tracer fields, and the subgrid\n",
    "turbulent diffusivity associated with `model.closure`. The `prefix` keyword argument\n",
    "to `JLD2OutputWriter` indicates that output will be saved in\n",
    "`ocean_wind_mixing_and_convection.jld2`."
   ],
   "metadata": {}
  },
  {
   "outputs": [
    {
     "output_type": "execute_result",
     "data": {
      "text/plain": "Oceananigans.JLD2OutputWriter{Nothing,Float64,Dict{Symbol,Oceananigans.FieldOutput{UnionAll,F} where F},typeof(Oceananigans.noinit),Array{Symbol,1},Dict{Symbol,Any}}(\"./ocean_wind_mixing_and_convection.jld2\", Dict{Symbol,Oceananigans.FieldOutput{UnionAll,F} where F}(:T => Oceananigans.FieldOutput{UnionAll,Oceananigans.Field{Oceananigans.Cell,Oceananigans.Cell,Oceananigans.Cell,OffsetArrays.OffsetArray{Float64,3,Array{Float64,3}},Oceananigans.RegularCartesianGrid{Float64,StepRangeLen{Float64,Base.TwicePrecision{Float64},Base.TwicePrecision{Float64}}}}}(Array, Field at (Oceananigans.Cell, Oceananigans.Cell, Oceananigans.Cell)\n├── data: OffsetArrays.OffsetArray{Float64,3,Array{Float64,3}}\n└── grid: Oceananigans.RegularCartesianGrid{Float64,StepRangeLen{Float64,Base.TwicePrecision{Float64},Base.TwicePrecision{Float64}}}\n    ├── size: (48, 48, 48)\n    └── domain: x ∈ [0.0, 48.0], y ∈ [0.0, 48.0], z ∈ [0.0, -48.0]\n),:w => Oceananigans.FieldOutput{UnionAll,Oceananigans.Field{Oceananigans.Cell,Oceananigans.Cell,Oceananigans.Face,OffsetArrays.OffsetArray{Float64,3,Array{Float64,3}},Oceananigans.RegularCartesianGrid{Float64,StepRangeLen{Float64,Base.TwicePrecision{Float64},Base.TwicePrecision{Float64}}}}}(Array, Field at (Oceananigans.Cell, Oceananigans.Cell, Oceananigans.Face)\n├── data: OffsetArrays.OffsetArray{Float64,3,Array{Float64,3}}\n└── grid: Oceananigans.RegularCartesianGrid{Float64,StepRangeLen{Float64,Base.TwicePrecision{Float64},Base.TwicePrecision{Float64}}}\n    ├── size: (48, 48, 48)\n    └── domain: x ∈ [0.0, 48.0], y ∈ [0.0, 48.0], z ∈ [0.0, -48.0]\n),:v => Oceananigans.FieldOutput{UnionAll,Oceananigans.Field{Oceananigans.Cell,Oceananigans.Face,Oceananigans.Cell,OffsetArrays.OffsetArray{Float64,3,Array{Float64,3}},Oceananigans.RegularCartesianGrid{Float64,StepRangeLen{Float64,Base.TwicePrecision{Float64},Base.TwicePrecision{Float64}}}}}(Array, Field at (Oceananigans.Cell, Oceananigans.Face, Oceananigans.Cell)\n├── data: OffsetArrays.OffsetArray{Float64,3,Array{Float64,3}}\n└── grid: Oceananigans.RegularCartesianGrid{Float64,StepRangeLen{Float64,Base.TwicePrecision{Float64},Base.TwicePrecision{Float64}}}\n    ├── size: (48, 48, 48)\n    └── domain: x ∈ [0.0, 48.0], y ∈ [0.0, 48.0], z ∈ [0.0, -48.0]\n),:S => Oceananigans.FieldOutput{UnionAll,Oceananigans.Field{Oceananigans.Cell,Oceananigans.Cell,Oceananigans.Cell,OffsetArrays.OffsetArray{Float64,3,Array{Float64,3}},Oceananigans.RegularCartesianGrid{Float64,StepRangeLen{Float64,Base.TwicePrecision{Float64},Base.TwicePrecision{Float64}}}}}(Array, Field at (Oceananigans.Cell, Oceananigans.Cell, Oceananigans.Cell)\n├── data: OffsetArrays.OffsetArray{Float64,3,Array{Float64,3}}\n└── grid: Oceananigans.RegularCartesianGrid{Float64,StepRangeLen{Float64,Base.TwicePrecision{Float64},Base.TwicePrecision{Float64}}}\n    ├── size: (48, 48, 48)\n    └── domain: x ∈ [0.0, 48.0], y ∈ [0.0, 48.0], z ∈ [0.0, -48.0]\n),:u => Oceananigans.FieldOutput{UnionAll,Oceananigans.Field{Oceananigans.Face,Oceananigans.Cell,Oceananigans.Cell,OffsetArrays.OffsetArray{Float64,3,Array{Float64,3}},Oceananigans.RegularCartesianGrid{Float64,StepRangeLen{Float64,Base.TwicePrecision{Float64},Base.TwicePrecision{Float64}}}}}(Array, Field at (Oceananigans.Face, Oceananigans.Cell, Oceananigans.Cell)\n├── data: OffsetArrays.OffsetArray{Float64,3,Array{Float64,3}}\n└── grid: Oceananigans.RegularCartesianGrid{Float64,StepRangeLen{Float64,Base.TwicePrecision{Float64},Base.TwicePrecision{Float64}}}\n    ├── size: (48, 48, 48)\n    └── domain: x ∈ [0.0, 48.0], y ∈ [0.0, 48.0], z ∈ [0.0, -48.0]\n),:νₑ => Oceananigans.FieldOutput{UnionAll,Oceananigans.Field{Oceananigans.Cell,Oceananigans.Cell,Oceananigans.Cell,OffsetArrays.OffsetArray{Float64,3,Array{Float64,3}},Oceananigans.RegularCartesianGrid{Float64,StepRangeLen{Float64,Base.TwicePrecision{Float64},Base.TwicePrecision{Float64}}}}}(Array, Field at (Oceananigans.Cell, Oceananigans.Cell, Oceananigans.Cell)\n├── data: OffsetArrays.OffsetArray{Float64,3,Array{Float64,3}}\n└── grid: Oceananigans.RegularCartesianGrid{Float64,StepRangeLen{Float64,Base.TwicePrecision{Float64},Base.TwicePrecision{Float64}}}\n    ├── size: (48, 48, 48)\n    └── domain: x ∈ [0.0, 48.0], y ∈ [0.0, 48.0], z ∈ [0.0, -48.0]\n)), 900.0, nothing, Oceananigans.noinit, Symbol[:grid, :coriolis, :buoyancy, :closure], 0.0, 1, Inf, false, true, false, Dict{Symbol,Any}())"
     },
     "metadata": {},
     "execution_count": 6
    }
   ],
   "cell_type": "code",
   "source": [
    "# Create a NamedTuple containing all the fields to be outputted.\n",
    "fields_to_output = merge(model.velocities, model.tracers, (νₑ=model.diffusivities.νₑ,))\n",
    "\n",
    "# Instantiate a JLD2OutputWriter to write fields.\n",
    "field_writer = JLD2OutputWriter(model, FieldOutputs(fields_to_output); interval=hour/4,\n",
    "                                prefix=\"ocean_wind_mixing_and_convection\", force=true)\n",
    "\n",
    "# Add the output writer to the models `output_writers`.\n",
    "model.output_writers[:fields] = field_writer"
   ],
   "metadata": {},
   "execution_count": 6
  },
  {
   "outputs": [],
   "cell_type": "markdown",
   "source": [
    "## Running the simulation\n",
    "\n",
    "To run the simulation, we instantiate a `TimeStepWizard` to ensure stable time-stepping\n",
    "with a Courant-Freidrichs-Lewy (CFL) number of 0.2."
   ],
   "metadata": {}
  },
  {
   "outputs": [
    {
     "output_type": "execute_result",
     "data": {
      "text/plain": "Oceananigans.TimeStepWizard{Float64}(0.2, 0.02, 1.1, 0.5, 5.0, 1.0)"
     },
     "metadata": {},
     "execution_count": 7
    }
   ],
   "cell_type": "code",
   "source": [
    "wizard = TimeStepWizard(cfl=0.2, Δt=1.0, max_change=1.1, max_Δt=5.0)"
   ],
   "metadata": {},
   "execution_count": 7
  },
  {
   "outputs": [],
   "cell_type": "markdown",
   "source": [
    "A diagnostic that returns the maximum absolute value of `w` by calling\n",
    "`wmax(model)`:"
   ],
   "metadata": {}
  },
  {
   "outputs": [
    {
     "output_type": "execute_result",
     "data": {
      "text/plain": "Oceananigans.FieldMaximum{Oceananigans.Field{Oceananigans.Cell,Oceananigans.Cell,Oceananigans.Face,OffsetArrays.OffsetArray{Float64,3,Array{Float64,3}},Oceananigans.RegularCartesianGrid{Float64,StepRangeLen{Float64,Base.TwicePrecision{Float64},Base.TwicePrecision{Float64}}}},typeof(abs)}(abs, Field at (Oceananigans.Cell, Oceananigans.Cell, Oceananigans.Face)\n├── data: OffsetArrays.OffsetArray{Float64,3,Array{Float64,3}}\n└── grid: Oceananigans.RegularCartesianGrid{Float64,StepRangeLen{Float64,Base.TwicePrecision{Float64},Base.TwicePrecision{Float64}}}\n    ├── size: (48, 48, 48)\n    └── domain: x ∈ [0.0, 48.0], y ∈ [0.0, 48.0], z ∈ [0.0, -48.0]\n)"
     },
     "metadata": {},
     "execution_count": 8
    }
   ],
   "cell_type": "code",
   "source": [
    "wmax = FieldMaximum(abs, model.velocities.w)"
   ],
   "metadata": {},
   "execution_count": 8
  },
  {
   "outputs": [],
   "cell_type": "markdown",
   "source": [
    "We also create a figure and define a plotting function for live plotting of results."
   ],
   "metadata": {}
  },
  {
   "outputs": [
    {
     "output_type": "execute_result",
     "data": {
      "text/plain": "Main.##376.makeplot!"
     },
     "metadata": {},
     "execution_count": 9
    }
   ],
   "cell_type": "code",
   "source": [
    "fig, axs = subplots(ncols=3, figsize=(12, 5))\n",
    "\n",
    "\"\"\"\n",
    "    makeplot!(axs, model)\n",
    "\n",
    "Make a triptych of x-z slices of vertical velocity, temperature, and salinity\n",
    "associated with `model` in `axs`.\n",
    "\"\"\"\n",
    "function makeplot!(axs, model)\n",
    "    jhalf = floor(Int, model.grid.Nz/2)\n",
    "\n",
    "    # Coordinate arrays for plotting\n",
    "    xC = repeat(model.grid.xC, 1, model.grid.Nz)\n",
    "    zF = repeat(reshape(model.grid.zF[1:end-1], 1, model.grid.Nz), model.grid.Nx, 1)\n",
    "    zC = repeat(reshape(model.grid.zC, 1, model.grid.Nz), model.grid.Nx, 1)\n",
    "\n",
    "    sca(axs[1]); cla()\n",
    "    title(\"Vertical velocity\")\n",
    "    pcolormesh(xC, zF, model.velocities.w[:, jhalf, :])\n",
    "    xlabel(\"\\$ x \\$ (m)\"); ylabel(\"\\$ z \\$ (m)\")\n",
    "\n",
    "    sca(axs[2]); cla()\n",
    "    title(\"Temperature\")\n",
    "    pcolormesh(xC, zC, model.tracers.T[:, jhalf, :])\n",
    "    xlabel(\"\\$ x \\$ (m)\")\n",
    "\n",
    "    sca(axs[3]); cla()\n",
    "    title(\"Salinity\")\n",
    "    pcolormesh(xC, zC, model.tracers.S[:, jhalf, :])\n",
    "    xlabel(\"\\$ x \\$ (m)\")\n",
    "\n",
    "    [ax.set_aspect(1) for ax in axs]\n",
    "    pause(0.01)\n",
    "\n",
    "    return nothing\n",
    "end"
   ],
   "metadata": {},
   "execution_count": 9
  },
  {
   "outputs": [],
   "cell_type": "markdown",
   "source": [
    "Finally, we run the the model in a `while` loop."
   ],
   "metadata": {}
  },
  {
   "outputs": [
    {
     "name": "stdout",
     "output_type": "stream",
     "text": [
      "i: 0010, t: 11.000 s, Δt: 1.100 s, wmax = 9.8e-04 ms⁻¹, wall time: 6.532 s\n",
      "i: 0020, t: 23.100 s, Δt: 1.210 s, wmax = 2.0e-03 ms⁻¹, wall time: 513.839 ms\n",
      "i: 0030, t: 36.410 s, Δt: 1.331 s, wmax = 3.2e-03 ms⁻¹, wall time: 496.791 ms\n",
      "i: 0040, t: 51.051 s, Δt: 1.464 s, wmax = 4.4e-03 ms⁻¹, wall time: 495.864 ms\n",
      "i: 0050, t: 1.119 min, Δt: 1.611 s, wmax = 5.7e-03 ms⁻¹, wall time: 500.114 ms\n",
      "i: 0060, t: 1.415 min, Δt: 1.772 s, wmax = 7.0e-03 ms⁻¹, wall time: 502.320 ms\n",
      "i: 0070, t: 1.739 min, Δt: 1.949 s, wmax = 8.3e-03 ms⁻¹, wall time: 502.385 ms\n",
      "i: 0080, t: 2.097 min, Δt: 2.144 s, wmax = 9.8e-03 ms⁻¹, wall time: 495.919 ms\n",
      "i: 0090, t: 2.490 min, Δt: 2.358 s, wmax = 1.1e-02 ms⁻¹, wall time: 501.386 ms\n",
      "i: 0100, t: 2.922 min, Δt: 2.594 s, wmax = 1.2e-02 ms⁻¹, wall time: 524.726 ms\n",
      "i: 0110, t: 3.397 min, Δt: 2.853 s, wmax = 1.3e-02 ms⁻¹, wall time: 499.693 ms\n",
      "i: 0120, t: 3.920 min, Δt: 3.138 s, wmax = 1.5e-02 ms⁻¹, wall time: 495.675 ms\n",
      "i: 0130, t: 4.496 min, Δt: 3.452 s, wmax = 1.5e-02 ms⁻¹, wall time: 494.917 ms\n",
      "i: 0140, t: 5.129 min, Δt: 3.797 s, wmax = 1.5e-02 ms⁻¹, wall time: 505.306 ms\n",
      "i: 0150, t: 5.825 min, Δt: 4.177 s, wmax = 1.6e-02 ms⁻¹, wall time: 494.802 ms\n",
      "i: 0160, t: 6.591 min, Δt: 4.595 s, wmax = 1.7e-02 ms⁻¹, wall time: 500.355 ms\n",
      "i: 0170, t: 7.424 min, Δt: 5.000 s, wmax = 1.7e-02 ms⁻¹, wall time: 505.517 ms\n",
      "i: 0180, t: 8.257 min, Δt: 5.000 s, wmax = 1.7e-02 ms⁻¹, wall time: 493.957 ms\n",
      "i: 0190, t: 9.091 min, Δt: 5.000 s, wmax = 1.7e-02 ms⁻¹, wall time: 502.342 ms\n",
      "i: 0200, t: 9.924 min, Δt: 5.000 s, wmax = 1.5e-02 ms⁻¹, wall time: 502.873 ms\n",
      "i: 0210, t: 10.757 min, Δt: 5.000 s, wmax = 1.5e-02 ms⁻¹, wall time: 492.061 ms\n",
      "i: 0220, t: 11.591 min, Δt: 5.000 s, wmax = 1.5e-02 ms⁻¹, wall time: 500.600 ms\n",
      "i: 0230, t: 12.424 min, Δt: 5.000 s, wmax = 1.5e-02 ms⁻¹, wall time: 498.380 ms\n",
      "i: 0240, t: 13.257 min, Δt: 5.000 s, wmax = 1.5e-02 ms⁻¹, wall time: 492.860 ms\n",
      "i: 0250, t: 14.091 min, Δt: 5.000 s, wmax = 1.5e-02 ms⁻¹, wall time: 500.953 ms\n",
      "i: 0260, t: 14.924 min, Δt: 5.000 s, wmax = 1.4e-02 ms⁻¹, wall time: 498.881 ms\n",
      "i: 0270, t: 15.757 min, Δt: 5.000 s, wmax = 1.4e-02 ms⁻¹, wall time: 528.636 ms\n",
      "i: 0280, t: 16.591 min, Δt: 5.000 s, wmax = 1.3e-02 ms⁻¹, wall time: 500.658 ms\n",
      "i: 0290, t: 17.424 min, Δt: 5.000 s, wmax = 1.2e-02 ms⁻¹, wall time: 496.421 ms\n",
      "i: 0300, t: 18.257 min, Δt: 5.000 s, wmax = 1.3e-02 ms⁻¹, wall time: 502.869 ms\n",
      "i: 0310, t: 19.091 min, Δt: 5.000 s, wmax = 1.5e-02 ms⁻¹, wall time: 494.455 ms\n",
      "i: 0320, t: 19.924 min, Δt: 5.000 s, wmax = 1.6e-02 ms⁻¹, wall time: 495.844 ms\n",
      "i: 0330, t: 20.757 min, Δt: 5.000 s, wmax = 1.8e-02 ms⁻¹, wall time: 500.138 ms\n",
      "i: 0340, t: 21.591 min, Δt: 5.000 s, wmax = 2.0e-02 ms⁻¹, wall time: 497.730 ms\n",
      "i: 0350, t: 22.424 min, Δt: 5.000 s, wmax = 2.0e-02 ms⁻¹, wall time: 493.395 ms\n",
      "i: 0360, t: 23.257 min, Δt: 5.000 s, wmax = 2.4e-02 ms⁻¹, wall time: 492.775 ms\n",
      "i: 0370, t: 24.091 min, Δt: 5.000 s, wmax = 2.6e-02 ms⁻¹, wall time: 497.037 ms\n",
      "i: 0380, t: 24.924 min, Δt: 5.000 s, wmax = 2.5e-02 ms⁻¹, wall time: 497.686 ms\n",
      "i: 0390, t: 25.743 min, Δt: 4.911 s, wmax = 2.5e-02 ms⁻¹, wall time: 493.220 ms\n",
      "i: 0400, t: 26.567 min, Δt: 4.946 s, wmax = 2.4e-02 ms⁻¹, wall time: 501.875 ms\n",
      "i: 0410, t: 27.400 min, Δt: 5.000 s, wmax = 2.4e-02 ms⁻¹, wall time: 500.184 ms\n",
      "i: 0420, t: 28.228 min, Δt: 4.965 s, wmax = 2.4e-02 ms⁻¹, wall time: 495.007 ms\n",
      "i: 0430, t: 29.018 min, Δt: 4.739 s, wmax = 2.3e-02 ms⁻¹, wall time: 502.705 ms\n",
      "i: 0440, t: 29.770 min, Δt: 4.515 s, wmax = 2.2e-02 ms⁻¹, wall time: 499.498 ms\n",
      "i: 0450, t: 30.537 min, Δt: 4.604 s, wmax = 2.3e-02 ms⁻¹, wall time: 518.054 ms\n",
      "i: 0460, t: 31.261 min, Δt: 4.338 s, wmax = 2.3e-02 ms⁻¹, wall time: 502.573 ms\n",
      "i: 0470, t: 31.977 min, Δt: 4.301 s, wmax = 2.4e-02 ms⁻¹, wall time: 493.661 ms\n",
      "i: 0480, t: 32.707 min, Δt: 4.376 s, wmax = 2.3e-02 ms⁻¹, wall time: 501.202 ms\n",
      "i: 0490, t: 33.508 min, Δt: 4.810 s, wmax = 2.4e-02 ms⁻¹, wall time: 498.190 ms\n",
      "i: 0500, t: 34.284 min, Δt: 4.651 s, wmax = 2.3e-02 ms⁻¹, wall time: 491.956 ms\n",
      "i: 0510, t: 35.044 min, Δt: 4.560 s, wmax = 2.4e-02 ms⁻¹, wall time: 500.148 ms\n",
      "i: 0520, t: 35.807 min, Δt: 4.582 s, wmax = 2.2e-02 ms⁻¹, wall time: 509.927 ms\n",
      "i: 0530, t: 36.591 min, Δt: 4.699 s, wmax = 2.4e-02 ms⁻¹, wall time: 499.465 ms\n",
      "i: 0540, t: 37.327 min, Δt: 4.418 s, wmax = 2.4e-02 ms⁻¹, wall time: 503.412 ms\n",
      "i: 0550, t: 38.043 min, Δt: 4.295 s, wmax = 2.5e-02 ms⁻¹, wall time: 501.866 ms\n",
      "i: 0560, t: 38.781 min, Δt: 4.430 s, wmax = 2.8e-02 ms⁻¹, wall time: 493.236 ms\n",
      "i: 0570, t: 39.557 min, Δt: 4.652 s, wmax = 3.1e-02 ms⁻¹, wall time: 504.286 ms\n",
      "i: 0580, t: 40.347 min, Δt: 4.741 s, wmax = 2.9e-02 ms⁻¹, wall time: 493.664 ms\n",
      "i: 0590, t: 41.132 min, Δt: 4.713 s, wmax = 2.6e-02 ms⁻¹, wall time: 533.926 ms\n",
      "i: 0600, t: 41.907 min, Δt: 4.651 s, wmax = 2.5e-02 ms⁻¹, wall time: 507.795 ms\n",
      "i: 0610, t: 42.670 min, Δt: 4.577 s, wmax = 2.8e-02 ms⁻¹, wall time: 501.114 ms\n",
      "i: 0620, t: 43.368 min, Δt: 4.184 s, wmax = 2.8e-02 ms⁻¹, wall time: 503.277 ms\n",
      "i: 0630, t: 44.102 min, Δt: 4.404 s, wmax = 2.5e-02 ms⁻¹, wall time: 505.973 ms\n",
      "i: 0640, t: 44.807 min, Δt: 4.230 s, wmax = 2.5e-02 ms⁻¹, wall time: 496.143 ms\n",
      "i: 0650, t: 45.551 min, Δt: 4.465 s, wmax = 2.3e-02 ms⁻¹, wall time: 529.000 ms\n",
      "i: 0660, t: 46.309 min, Δt: 4.551 s, wmax = 2.4e-02 ms⁻¹, wall time: 497.186 ms\n",
      "i: 0670, t: 47.036 min, Δt: 4.356 s, wmax = 2.8e-02 ms⁻¹, wall time: 509.031 ms\n",
      "i: 0680, t: 47.757 min, Δt: 4.327 s, wmax = 2.6e-02 ms⁻¹, wall time: 494.261 ms\n",
      "i: 0690, t: 48.483 min, Δt: 4.361 s, wmax = 2.5e-02 ms⁻¹, wall time: 498.859 ms\n",
      "i: 0700, t: 49.209 min, Δt: 4.356 s, wmax = 2.9e-02 ms⁻¹, wall time: 501.608 ms\n",
      "i: 0710, t: 49.938 min, Δt: 4.374 s, wmax = 2.8e-02 ms⁻¹, wall time: 503.939 ms\n",
      "i: 0720, t: 50.661 min, Δt: 4.334 s, wmax = 2.8e-02 ms⁻¹, wall time: 513.605 ms\n",
      "i: 0730, t: 51.422 min, Δt: 4.570 s, wmax = 3.0e-02 ms⁻¹, wall time: 506.498 ms\n",
      "i: 0740, t: 52.229 min, Δt: 4.842 s, wmax = 2.8e-02 ms⁻¹, wall time: 502.024 ms\n",
      "i: 0750, t: 52.973 min, Δt: 4.466 s, wmax = 2.8e-02 ms⁻¹, wall time: 500.489 ms\n",
      "i: 0760, t: 53.679 min, Δt: 4.232 s, wmax = 2.8e-02 ms⁻¹, wall time: 507.502 ms\n",
      "i: 0770, t: 54.404 min, Δt: 4.352 s, wmax = 2.6e-02 ms⁻¹, wall time: 498.519 ms\n",
      "i: 0780, t: 55.178 min, Δt: 4.641 s, wmax = 2.8e-02 ms⁻¹, wall time: 505.335 ms\n",
      "i: 0790, t: 55.908 min, Δt: 4.384 s, wmax = 2.9e-02 ms⁻¹, wall time: 504.543 ms\n",
      "i: 0800, t: 56.598 min, Δt: 4.139 s, wmax = 2.8e-02 ms⁻¹, wall time: 499.450 ms\n",
      "i: 0810, t: 57.291 min, Δt: 4.160 s, wmax = 3.0e-02 ms⁻¹, wall time: 506.672 ms\n",
      "i: 0820, t: 57.962 min, Δt: 4.026 s, wmax = 3.2e-02 ms⁻¹, wall time: 503.206 ms\n",
      "i: 0830, t: 58.605 min, Δt: 3.857 s, wmax = 3.0e-02 ms⁻¹, wall time: 500.979 ms\n",
      "i: 0840, t: 59.241 min, Δt: 3.814 s, wmax = 2.9e-02 ms⁻¹, wall time: 503.095 ms\n",
      "i: 0850, t: 59.871 min, Δt: 3.778 s, wmax = 2.9e-02 ms⁻¹, wall time: 494.162 ms\n",
      "i: 0860, t: 1.009 hr, Δt: 3.980 s, wmax = 2.8e-02 ms⁻¹, wall time: 525.349 ms\n",
      "i: 0870, t: 1.020 hr, Δt: 3.997 s, wmax = 2.8e-02 ms⁻¹, wall time: 508.855 ms\n",
      "i: 0880, t: 1.031 hr, Δt: 4.064 s, wmax = 2.7e-02 ms⁻¹, wall time: 502.381 ms\n",
      "i: 0890, t: 1.043 hr, Δt: 4.153 s, wmax = 3.1e-02 ms⁻¹, wall time: 502.832 ms\n",
      "i: 0900, t: 1.054 hr, Δt: 4.049 s, wmax = 3.0e-02 ms⁻¹, wall time: 500.308 ms\n",
      "i: 0910, t: 1.065 hr, Δt: 3.858 s, wmax = 3.0e-02 ms⁻¹, wall time: 500.545 ms\n",
      "i: 0920, t: 1.075 hr, Δt: 3.806 s, wmax = 2.6e-02 ms⁻¹, wall time: 503.662 ms\n",
      "i: 0930, t: 1.087 hr, Δt: 4.046 s, wmax = 2.7e-02 ms⁻¹, wall time: 494.240 ms\n",
      "i: 0940, t: 1.098 hr, Δt: 4.126 s, wmax = 2.9e-02 ms⁻¹, wall time: 502.918 ms\n",
      "i: 0950, t: 1.110 hr, Δt: 4.223 s, wmax = 3.1e-02 ms⁻¹, wall time: 499.466 ms\n",
      "i: 0960, t: 1.122 hr, Δt: 4.287 s, wmax = 3.0e-02 ms⁻¹, wall time: 507.681 ms\n",
      "i: 0970, t: 1.134 hr, Δt: 4.519 s, wmax = 3.0e-02 ms⁻¹, wall time: 500.942 ms\n",
      "i: 0980, t: 1.147 hr, Δt: 4.415 s, wmax = 3.2e-02 ms⁻¹, wall time: 509.504 ms\n",
      "i: 0990, t: 1.159 hr, Δt: 4.431 s, wmax = 3.3e-02 ms⁻¹, wall time: 501.895 ms\n",
      "i: 1000, t: 1.171 hr, Δt: 4.402 s, wmax = 3.2e-02 ms⁻¹, wall time: 502.605 ms\n",
      "i: 1010, t: 1.183 hr, Δt: 4.380 s, wmax = 3.1e-02 ms⁻¹, wall time: 497.016 ms\n",
      "i: 1020, t: 1.195 hr, Δt: 4.318 s, wmax = 2.8e-02 ms⁻¹, wall time: 508.590 ms\n",
      "i: 1030, t: 1.207 hr, Δt: 4.111 s, wmax = 3.1e-02 ms⁻¹, wall time: 516.327 ms\n",
      "i: 1040, t: 1.218 hr, Δt: 4.230 s, wmax = 3.1e-02 ms⁻¹, wall time: 499.729 ms\n",
      "i: 1050, t: 1.231 hr, Δt: 4.429 s, wmax = 3.1e-02 ms⁻¹, wall time: 518.973 ms\n",
      "i: 1060, t: 1.243 hr, Δt: 4.412 s, wmax = 2.9e-02 ms⁻¹, wall time: 535.421 ms\n",
      "i: 1070, t: 1.255 hr, Δt: 4.336 s, wmax = 3.1e-02 ms⁻¹, wall time: 533.536 ms\n",
      "i: 1080, t: 1.266 hr, Δt: 4.022 s, wmax = 3.4e-02 ms⁻¹, wall time: 494.684 ms\n",
      "i: 1090, t: 1.278 hr, Δt: 4.282 s, wmax = 3.1e-02 ms⁻¹, wall time: 506.818 ms\n",
      "i: 1100, t: 1.290 hr, Δt: 4.259 s, wmax = 3.5e-02 ms⁻¹, wall time: 494.788 ms\n",
      "i: 1110, t: 1.301 hr, Δt: 4.146 s, wmax = 3.7e-02 ms⁻¹, wall time: 507.004 ms\n",
      "i: 1120, t: 1.313 hr, Δt: 4.281 s, wmax = 3.5e-02 ms⁻¹, wall time: 497.186 ms\n",
      "i: 1130, t: 1.324 hr, Δt: 3.904 s, wmax = 3.8e-02 ms⁻¹, wall time: 500.029 ms\n",
      "i: 1140, t: 1.336 hr, Δt: 4.179 s, wmax = 3.8e-02 ms⁻¹, wall time: 507.668 ms\n",
      "i: 1150, t: 1.347 hr, Δt: 4.216 s, wmax = 3.6e-02 ms⁻¹, wall time: 509.412 ms\n",
      "i: 1160, t: 1.359 hr, Δt: 4.209 s, wmax = 3.5e-02 ms⁻¹, wall time: 497.361 ms\n",
      "i: 1170, t: 1.371 hr, Δt: 4.123 s, wmax = 3.3e-02 ms⁻¹, wall time: 504.770 ms\n",
      "i: 1180, t: 1.382 hr, Δt: 4.177 s, wmax = 3.3e-02 ms⁻¹, wall time: 497.326 ms\n",
      "i: 1190, t: 1.394 hr, Δt: 4.198 s, wmax = 3.1e-02 ms⁻¹, wall time: 500.051 ms\n",
      "i: 1200, t: 1.405 hr, Δt: 3.926 s, wmax = 3.0e-02 ms⁻¹, wall time: 493.055 ms\n",
      "i: 1210, t: 1.415 hr, Δt: 3.854 s, wmax = 3.2e-02 ms⁻¹, wall time: 501.230 ms\n",
      "i: 1220, t: 1.427 hr, Δt: 4.084 s, wmax = 3.2e-02 ms⁻¹, wall time: 499.436 ms\n",
      "i: 1230, t: 1.439 hr, Δt: 4.332 s, wmax = 3.3e-02 ms⁻¹, wall time: 506.890 ms\n",
      "i: 1240, t: 1.451 hr, Δt: 4.205 s, wmax = 3.2e-02 ms⁻¹, wall time: 505.249 ms\n",
      "i: 1250, t: 1.463 hr, Δt: 4.366 s, wmax = 3.3e-02 ms⁻¹, wall time: 503.185 ms\n",
      "i: 1260, t: 1.474 hr, Δt: 4.182 s, wmax = 3.2e-02 ms⁻¹, wall time: 497.667 ms\n",
      "i: 1270, t: 1.486 hr, Δt: 4.281 s, wmax = 3.0e-02 ms⁻¹, wall time: 508.797 ms\n",
      "i: 1280, t: 1.497 hr, Δt: 3.990 s, wmax = 3.4e-02 ms⁻¹, wall time: 500.614 ms\n",
      "i: 1290, t: 1.509 hr, Δt: 4.181 s, wmax = 3.5e-02 ms⁻¹, wall time: 520.783 ms\n",
      "i: 1300, t: 1.521 hr, Δt: 4.376 s, wmax = 3.0e-02 ms⁻¹, wall time: 502.557 ms\n",
      "i: 1310, t: 1.533 hr, Δt: 4.310 s, wmax = 3.1e-02 ms⁻¹, wall time: 495.365 ms\n",
      "i: 1320, t: 1.545 hr, Δt: 4.353 s, wmax = 3.2e-02 ms⁻¹, wall time: 507.369 ms\n",
      "i: 1330, t: 1.557 hr, Δt: 4.348 s, wmax = 3.2e-02 ms⁻¹, wall time: 499.894 ms\n",
      "i: 1340, t: 1.569 hr, Δt: 4.235 s, wmax = 3.1e-02 ms⁻¹, wall time: 497.486 ms\n",
      "i: 1350, t: 1.581 hr, Δt: 4.414 s, wmax = 3.3e-02 ms⁻¹, wall time: 498.662 ms\n",
      "i: 1360, t: 1.593 hr, Δt: 4.338 s, wmax = 3.5e-02 ms⁻¹, wall time: 499.044 ms\n",
      "i: 1370, t: 1.605 hr, Δt: 4.367 s, wmax = 3.4e-02 ms⁻¹, wall time: 510.008 ms\n",
      "i: 1380, t: 1.618 hr, Δt: 4.418 s, wmax = 3.3e-02 ms⁻¹, wall time: 499.583 ms\n",
      "i: 1390, t: 1.630 hr, Δt: 4.422 s, wmax = 3.2e-02 ms⁻¹, wall time: 502.076 ms\n",
      "i: 1400, t: 1.641 hr, Δt: 4.139 s, wmax = 3.5e-02 ms⁻¹, wall time: 505.702 ms\n",
      "i: 1410, t: 1.652 hr, Δt: 3.926 s, wmax = 3.3e-02 ms⁻¹, wall time: 503.960 ms\n",
      "i: 1420, t: 1.663 hr, Δt: 3.823 s, wmax = 3.1e-02 ms⁻¹, wall time: 502.597 ms\n",
      "i: 1430, t: 1.674 hr, Δt: 4.029 s, wmax = 3.2e-02 ms⁻¹, wall time: 499.040 ms\n",
      "i: 1440, t: 1.686 hr, Δt: 4.098 s, wmax = 3.3e-02 ms⁻¹, wall time: 511.955 ms\n",
      "i: 1450, t: 1.697 hr, Δt: 4.071 s, wmax = 3.3e-02 ms⁻¹, wall time: 501.017 ms\n",
      "i: 1460, t: 1.708 hr, Δt: 4.126 s, wmax = 3.4e-02 ms⁻¹, wall time: 509.592 ms\n",
      "i: 1470, t: 1.719 hr, Δt: 3.998 s, wmax = 3.2e-02 ms⁻¹, wall time: 495.708 ms\n",
      "i: 1480, t: 1.730 hr, Δt: 3.886 s, wmax = 3.3e-02 ms⁻¹, wall time: 499.677 ms\n",
      "i: 1490, t: 1.741 hr, Δt: 3.943 s, wmax = 3.3e-02 ms⁻¹, wall time: 514.623 ms\n",
      "i: 1500, t: 1.752 hr, Δt: 4.020 s, wmax = 3.3e-02 ms⁻¹, wall time: 537.475 ms\n",
      "i: 1510, t: 1.764 hr, Δt: 4.180 s, wmax = 3.4e-02 ms⁻¹, wall time: 497.370 ms\n",
      "i: 1520, t: 1.775 hr, Δt: 4.034 s, wmax = 3.3e-02 ms⁻¹, wall time: 501.887 ms\n",
      "i: 1530, t: 1.786 hr, Δt: 4.013 s, wmax = 3.3e-02 ms⁻¹, wall time: 494.986 ms\n",
      "i: 1540, t: 1.798 hr, Δt: 4.176 s, wmax = 3.1e-02 ms⁻¹, wall time: 526.181 ms\n",
      "i: 1550, t: 1.809 hr, Δt: 4.125 s, wmax = 3.4e-02 ms⁻¹, wall time: 499.150 ms\n",
      "i: 1560, t: 1.821 hr, Δt: 4.134 s, wmax = 3.3e-02 ms⁻¹, wall time: 497.898 ms\n",
      "i: 1570, t: 1.832 hr, Δt: 4.170 s, wmax = 3.3e-02 ms⁻¹, wall time: 502.491 ms\n",
      "i: 1580, t: 1.844 hr, Δt: 4.266 s, wmax = 3.4e-02 ms⁻¹, wall time: 505.370 ms\n",
      "i: 1590, t: 1.856 hr, Δt: 4.099 s, wmax = 3.5e-02 ms⁻¹, wall time: 508.460 ms\n",
      "i: 1600, t: 1.867 hr, Δt: 3.979 s, wmax = 3.5e-02 ms⁻¹, wall time: 494.348 ms\n",
      "i: 1610, t: 1.877 hr, Δt: 3.865 s, wmax = 3.3e-02 ms⁻¹, wall time: 506.867 ms\n",
      "i: 1620, t: 1.889 hr, Δt: 4.084 s, wmax = 3.3e-02 ms⁻¹, wall time: 506.084 ms\n",
      "i: 1630, t: 1.900 hr, Δt: 3.980 s, wmax = 3.3e-02 ms⁻¹, wall time: 506.105 ms\n",
      "i: 1640, t: 1.911 hr, Δt: 4.004 s, wmax = 3.4e-02 ms⁻¹, wall time: 498.019 ms\n",
      "i: 1650, t: 1.923 hr, Δt: 4.159 s, wmax = 3.3e-02 ms⁻¹, wall time: 505.133 ms\n",
      "i: 1660, t: 1.934 hr, Δt: 4.170 s, wmax = 3.7e-02 ms⁻¹, wall time: 500.573 ms\n",
      "i: 1670, t: 1.946 hr, Δt: 4.146 s, wmax = 3.6e-02 ms⁻¹, wall time: 499.126 ms\n",
      "i: 1680, t: 1.957 hr, Δt: 4.205 s, wmax = 4.1e-02 ms⁻¹, wall time: 501.835 ms\n",
      "i: 1690, t: 1.968 hr, Δt: 3.930 s, wmax = 3.7e-02 ms⁻¹, wall time: 502.488 ms\n",
      "i: 1700, t: 1.979 hr, Δt: 3.953 s, wmax = 4.1e-02 ms⁻¹, wall time: 651.285 ms\n",
      "i: 1710, t: 1.990 hr, Δt: 3.957 s, wmax = 3.9e-02 ms⁻¹, wall time: 553.187 ms\n",
      "i: 1720, t: 2.000 hr, Δt: 3.634 s, wmax = 4.2e-02 ms⁻¹, wall time: 555.865 ms\n"
     ]
    }
   ],
   "cell_type": "code",
   "source": [
    "while model.clock.time < end_time\n",
    "\n",
    "    # Update the time step associated with `wizard`.\n",
    "    update_Δt!(wizard, model)\n",
    "\n",
    "    # Time step the model forward\n",
    "    walltime = @elapsed time_step!(model, 10, wizard.Δt)\n",
    "\n",
    "    # Print a progress message\n",
    "    @printf(\"i: %04d, t: %s, Δt: %s, wmax = %.1e ms⁻¹, wall time: %s\\n\",\n",
    "            model.clock.iteration, prettytime(model.clock.time), prettytime(wizard.Δt),\n",
    "            wmax(model), prettytime(walltime))\n",
    "\n",
    "    model.architecture == CPU() && makeplot!(axs, model)\n",
    "end"
   ],
   "metadata": {},
   "execution_count": 10
  },
  {
   "outputs": [],
   "cell_type": "markdown",
   "source": [
    "*This notebook was generated using [Literate.jl](https://github.com/fredrikekre/Literate.jl).*"
   ],
   "metadata": {}
  }
 ],
 "nbformat_minor": 3,
 "metadata": {
  "language_info": {
   "file_extension": ".jl",
   "mimetype": "application/julia",
   "name": "julia",
   "version": "1.2.0"
  },
  "kernelspec": {
   "name": "julia-1.2",
   "display_name": "Julia 1.2.0",
   "language": "julia"
  }
 },
 "nbformat": 4
}
