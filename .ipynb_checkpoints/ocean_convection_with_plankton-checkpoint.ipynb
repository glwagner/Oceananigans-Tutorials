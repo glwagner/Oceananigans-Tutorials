{
 "cells": [
  {
   "outputs": [],
   "cell_type": "markdown",
   "source": [
    "# Ocean convection example\n",
    "\n",
    "In this example, two-dimensional convection into a stratified fluid\n",
    "mixes a phytoplankton-like tracer. This example demonstrates how\n",
    "\n",
    "  * to set boundary conditions;\n",
    "  * to defined and insert a user-defined forcing function into a simulation.\n",
    "  * to use the `TimeStepWizard` to manage and adapt the simulation time-step.\n",
    "\n",
    "To begin, we load Oceananigans, a plotting package, and a few miscellaneous useful packages."
   ],
   "metadata": {}
  },
  {
   "outputs": [],
   "cell_type": "code",
   "source": [
    "using Oceananigans, PyPlot, Random, Printf"
   ],
   "metadata": {},
   "execution_count": 1
  },
  {
   "outputs": [],
   "cell_type": "markdown",
   "source": [
    "## Parameters\n",
    "\n",
    "We choose a modest two-dimensional resolution of 128² in a 64² m² domain ,\n",
    "implying a resolution of 0.5 m. Our fluid is initially stratified with\n",
    "a squared buoyancy frequency\n",
    "\n",
    "$$ N\\^2 = 10^{-5} \\, \\mathrm{s^{-2}} $$\n",
    "\n",
    "and a surface buoyancy flux\n",
    "\n",
    "$$ Q_b2 = 10^{-8} \\, \\mathrm{m^3 \\, s^{-2}} $$\n",
    "\n",
    "Because we use the physics-based convection whereby buoyancy flux by a\n",
    "positive vertical velocity implies positive flux, a positive buoyancy flux\n",
    "at the top of the domain carries buoyancy out of the fluid and causes convection.\n",
    "Finally, we end the simulation after 1 day."
   ],
   "metadata": {}
  },
  {
   "outputs": [
    {
     "output_type": "execute_result",
     "data": {
      "text/plain": "86400.0"
     },
     "metadata": {},
     "execution_count": 2
    }
   ],
   "cell_type": "code",
   "source": [
    "Nz = 128\n",
    "Lz = 64.0\n",
    "N² = 1e-5\n",
    "Qb = 1e-8\n",
    "end_time = 1day"
   ],
   "metadata": {},
   "execution_count": 2
  },
  {
   "outputs": [],
   "cell_type": "markdown",
   "source": [
    "## Creating boundary conditions\n",
    "\n",
    "Create boundary conditions. Note that temperature is buoyancy in our problem."
   ],
   "metadata": {}
  },
  {
   "outputs": [
    {
     "output_type": "execute_result",
     "data": {
      "text/plain": "(x = Oceananigans.CoordinateBoundaryConditions{Oceananigans.BoundaryCondition{Oceananigans.Periodic,Nothing},Oceananigans.BoundaryCondition{Oceananigans.Periodic,Nothing}}(Oceananigans.BoundaryCondition{Oceananigans.Periodic,Nothing}(nothing), Oceananigans.BoundaryCondition{Oceananigans.Periodic,Nothing}(nothing)), y = Oceananigans.CoordinateBoundaryConditions{Oceananigans.BoundaryCondition{Oceananigans.Periodic,Nothing},Oceananigans.BoundaryCondition{Oceananigans.Periodic,Nothing}}(Oceananigans.BoundaryCondition{Oceananigans.Periodic,Nothing}(nothing), Oceananigans.BoundaryCondition{Oceananigans.Periodic,Nothing}(nothing)), z = Oceananigans.CoordinateBoundaryConditions{Oceananigans.BoundaryCondition{Oceananigans.Flux,Float64},Oceananigans.BoundaryCondition{Oceananigans.Gradient,Float64}}(Oceananigans.BoundaryCondition{Oceananigans.Flux,Float64}(1.0e-8), Oceananigans.BoundaryCondition{Oceananigans.Gradient,Float64}(1.0e-5)))"
     },
     "metadata": {},
     "execution_count": 3
    }
   ],
   "cell_type": "code",
   "source": [
    "buoyancy_bcs = HorizontallyPeriodicBCs(   top = BoundaryCondition(Flux, Qb),\n",
    "                                       bottom = BoundaryCondition(Gradient, N²))"
   ],
   "metadata": {},
   "execution_count": 3
  },
  {
   "outputs": [],
   "cell_type": "markdown",
   "source": [
    "## Define a forcing function\n",
    "\n",
    "Our forcing function roughly corresponds to the growth of phytoplankton in light\n",
    "(with a penetration depth of 16 meters here), and death due to natural mortality\n",
    "at a rate of 1 phytoplankton unit per second."
   ],
   "metadata": {}
  },
  {
   "outputs": [],
   "cell_type": "code",
   "source": [
    "growth_and_decay = SimpleForcing((x, y, z, t) -> exp(z/16) - 1)\n",
    "\n",
    "# Instantiate the model\n",
    "model = Model(\n",
    "                   grid = RegularCartesianGrid(N = (Nz, 1, Nz), L = (Lz, Lz, Lz)),\n",
    "                closure = ConstantIsotropicDiffusivity(ν=1e-4, κ=1e-4),\n",
    "               coriolis = FPlane(f=1e-4),\n",
    "                tracers = (:b, :plankton),\n",
    "               buoyancy = BuoyancyTracer(),\n",
    "                forcing = ModelForcing(plankton=growth_and_decay),\n",
    "    boundary_conditions = BoundaryConditions(b=buoyancy_bcs)\n",
    ")\n",
    "\n",
    "# Set initial condition. Initial velocity and salinity fluctuations needed for AMD.\n",
    "Ξ(z) = randn() * z / Lz * (1 + z / Lz) # noise\n",
    "b₀(x, y, z) = N² * z + N² * Lz * 1e-6 * Ξ(z)\n",
    "set!(model, b=b₀)\n",
    "\n",
    "# A wizard for managing the simulation time-step.\n",
    "wizard = TimeStepWizard(cfl=0.2, Δt=1.0, max_change=1.1, max_Δt=90.0)\n",
    "\n",
    "# Create a plot\n",
    "fig, axs = subplots(ncols=2, figsize=(10, 6))\n",
    "\n",
    "xC = repeat(model.grid.xC, 1, model.grid.Nz)\n",
    "zF = repeat(reshape(model.grid.zF[1:end-1], 1, model.grid.Nz), model.grid.Nx, 1)\n",
    "zC = repeat(reshape(model.grid.zC, 1, model.grid.Nz), model.grid.Nx, 1)\n",
    "\n",
    "# Run the model\n",
    "while model.clock.time < end_time\n",
    "    update_Δt!(wizard, model)\n",
    "    walltime = @elapsed time_step!(model, 10, wizard.Δt)\n",
    "\n",
    "    sca(axs[1]); cla()\n",
    "    pcolormesh(xC, zF, model.velocities.w[:, 1, :])\n",
    "    title(\"Vertical velocity\")\n",
    "    xlabel(\"\\$ x \\$ (m)\")\n",
    "    ylabel(\"\\$ z \\$ (m)\")\n",
    "\n",
    "    sca(axs[2]); cla()\n",
    "    pcolormesh(xC, zC, model.tracers.plankton[:, 1, :])\n",
    "    title(\"Phytoplankton concentration\")\n",
    "    xlabel(\"\\$ x \\$ (m)\")\n",
    "    axs[2].tick_params(left=false, labelleft=false)\n",
    "\n",
    "    suptitle(@sprintf(\"\\$ t = %.2f\\$ hours\", model.clock.time / hour))\n",
    "    [ax.set_aspect(1) for ax in axs]\n",
    "    gcf(); pause(0.01)\n",
    "end"
   ],
   "metadata": {},
   "execution_count": 4
  },
  {
   "outputs": [],
   "cell_type": "markdown",
   "source": [
    "*This notebook was generated using [Literate.jl](https://github.com/fredrikekre/Literate.jl).*"
   ],
   "metadata": {}
  }
 ],
 "nbformat_minor": 3,
 "metadata": {
  "language_info": {
   "file_extension": ".jl",
   "mimetype": "application/julia",
   "name": "julia",
   "version": "1.2.0"
  },
  "kernelspec": {
   "name": "julia-1.2",
   "display_name": "Julia 1.2.0",
   "language": "julia"
  }
 },
 "nbformat": 4
}
