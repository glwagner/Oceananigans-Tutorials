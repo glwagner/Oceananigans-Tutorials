{
 "cells": [
  {
   "outputs": [],
   "cell_type": "markdown",
   "source": [
    "# Simple diffusion example\n",
    "\n",
    "This script provides our simplest example of Oceananigans.jl functionality:\n",
    "the diffusion of a one-dimensional Gaussian. This example demonstrates\n",
    "\n",
    "  * how to load `Oceananigans.jl`;\n",
    "  * how to instantiate an `Oceananigans.jl` `Model`;\n",
    "  * how to set an initial condition with a function;\n",
    "  * how to time-step a model forward, and finally\n",
    "  * how to look at results.\n",
    "\n",
    "## Using `Oceananigans.jl`\n",
    "\n",
    "To use `Oceananigans.jl` after it has been installed, we bring\n",
    "`Oceananigans.jl` functions and names into our 'namespace' by writing"
   ],
   "metadata": {}
  },
  {
   "outputs": [],
   "cell_type": "code",
   "source": [
    "using Oceananigans"
   ],
   "metadata": {},
   "execution_count": 1
  },
  {
   "outputs": [],
   "cell_type": "markdown",
   "source": [
    "We also use `PyPlot.jl` for plotting and `Printf` to format plot legends:"
   ],
   "metadata": {}
  },
  {
   "outputs": [],
   "cell_type": "code",
   "source": [
    "using PyPlot, Printf"
   ],
   "metadata": {},
   "execution_count": 2
  },
  {
   "outputs": [],
   "cell_type": "markdown",
   "source": [
    "## Instantiating and configuring a `Model`\n",
    "\n",
    "To begin using Oceananigans, we instantiate a `Model` by calling the\n",
    "`Model` constructor:"
   ],
   "metadata": {}
  },
  {
   "outputs": [
    {
     "output_type": "execute_result",
     "data": {
      "text/plain": "Oceananigans.Model{Oceananigans.AdamsBashforthTimestepper{Float64,NamedTuple{(:u, :v, :w, :T, :S),Tuple{Oceananigans.Field{Oceananigans.Face,Oceananigans.Cell,Oceananigans.Cell,OffsetArrays.OffsetArray{Float64,3,Array{Float64,3}},Oceananigans.RegularCartesianGrid{Float64,StepRangeLen{Float64,Base.TwicePrecision{Float64},Base.TwicePrecision{Float64}}}},Oceananigans.Field{Oceananigans.Cell,Oceananigans.Face,Oceananigans.Cell,OffsetArrays.OffsetArray{Float64,3,Array{Float64,3}},Oceananigans.RegularCartesianGrid{Float64,StepRangeLen{Float64,Base.TwicePrecision{Float64},Base.TwicePrecision{Float64}}}},Oceananigans.Field{Oceananigans.Cell,Oceananigans.Cell,Oceananigans.Face,OffsetArrays.OffsetArray{Float64,3,Array{Float64,3}},Oceananigans.RegularCartesianGrid{Float64,StepRangeLen{Float64,Base.TwicePrecision{Float64},Base.TwicePrecision{Float64}}}},Oceananigans.Field{Oceananigans.Cell,Oceananigans.Cell,Oceananigans.Cell,OffsetArrays.OffsetArray{Float64,3,Array{Float64,3}},Oceananigans.RegularCartesianGrid{Float64,StepRangeLen{Float64,Base.TwicePrecision{Float64},Base.TwicePrecision{Float64}}}},Oceananigans.Field{Oceananigans.Cell,Oceananigans.Cell,Oceananigans.Cell,OffsetArrays.OffsetArray{Float64,3,Array{Float64,3}},Oceananigans.RegularCartesianGrid{Float64,StepRangeLen{Float64,Base.TwicePrecision{Float64},Base.TwicePrecision{Float64}}}}}}},Oceananigans.TurbulenceClosures.ConstantIsotropicDiffusivity{Float64,NamedTuple{(:T, :S),Tuple{Float64,Float64}}},Oceananigans.CPU,Oceananigans.RegularCartesianGrid{Float64,StepRangeLen{Float64,Base.TwicePrecision{Float64},Base.TwicePrecision{Float64}}},Float64,Oceananigans.SeawaterBuoyancy{Float64,Oceananigans.LinearEquationOfState{Float64}},Nothing,NamedTuple{(:u, :v, :w),Tuple{Oceananigans.Field{Oceananigans.Face,Oceananigans.Cell,Oceananigans.Cell,OffsetArrays.OffsetArray{Float64,3,Array{Float64,3}},Oceananigans.RegularCartesianGrid{Float64,StepRangeLen{Float64,Base.TwicePrecision{Float64},Base.TwicePrecision{Float64}}}},Oceananigans.Field{Oceananigans.Cell,Oceananigans.Face,Oceananigans.Cell,OffsetArrays.OffsetArray{Float64,3,Array{Float64,3}},Oceananigans.RegularCartesianGrid{Float64,StepRangeLen{Float64,Base.TwicePrecision{Float64},Base.TwicePrecision{Float64}}}},Oceananigans.Field{Oceananigans.Cell,Oceananigans.Cell,Oceananigans.Face,OffsetArrays.OffsetArray{Float64,3,Array{Float64,3}},Oceananigans.RegularCartesianGrid{Float64,StepRangeLen{Float64,Base.TwicePrecision{Float64},Base.TwicePrecision{Float64}}}}}},NamedTuple{(:T, :S),Tuple{Oceananigans.Field{Oceananigans.Cell,Oceananigans.Cell,Oceananigans.Cell,OffsetArrays.OffsetArray{Float64,3,Array{Float64,3}},Oceananigans.RegularCartesianGrid{Float64,StepRangeLen{Float64,Base.TwicePrecision{Float64},Base.TwicePrecision{Float64}}}},Oceananigans.Field{Oceananigans.Cell,Oceananigans.Cell,Oceananigans.Cell,OffsetArrays.OffsetArray{Float64,3,Array{Float64,3}},Oceananigans.RegularCartesianGrid{Float64,StepRangeLen{Float64,Base.TwicePrecision{Float64},Base.TwicePrecision{Float64}}}}}},NamedTuple{(:pHY′, :pNHS),Tuple{Oceananigans.Field{Oceananigans.Cell,Oceananigans.Cell,Oceananigans.Cell,OffsetArrays.OffsetArray{Float64,3,Array{Float64,3}},Oceananigans.RegularCartesianGrid{Float64,StepRangeLen{Float64,Base.TwicePrecision{Float64},Base.TwicePrecision{Float64}}}},Oceananigans.Field{Oceananigans.Cell,Oceananigans.Cell,Oceananigans.Cell,OffsetArrays.OffsetArray{Float64,3,Array{Float64,3}},Oceananigans.RegularCartesianGrid{Float64,StepRangeLen{Float64,Base.TwicePrecision{Float64},Base.TwicePrecision{Float64}}}}}},NamedTuple{(:u, :v, :w, :T, :S),NTuple{5,typeof(Oceananigans.zeroforcing)}},NamedTuple{(:solution, :tendency, :pressure),Tuple{NamedTuple{(:u, :v, :w, :T, :S),Tuple{NamedTuple{(:x, :y, :z),Tuple{Oceananigans.CoordinateBoundaryConditions{Oceananigans.BoundaryCondition{Oceananigans.Periodic,Nothing},Oceananigans.BoundaryCondition{Oceananigans.Periodic,Nothing}},Oceananigans.CoordinateBoundaryConditions{Oceananigans.BoundaryCondition{Oceananigans.Periodic,Nothing},Oceananigans.BoundaryCondition{Oceananigans.Periodic,Nothing}},Oceananigans.CoordinateBoundaryConditions{Oceananigans.BoundaryCondition{Oceananigans.Flux,Nothing},Oceananigans.BoundaryCondition{Oceananigans.Flux,Nothing}}}},NamedTuple{(:x, :y, :z),Tuple{Oceananigans.CoordinateBoundaryConditions{Oceananigans.BoundaryCondition{Oceananigans.Periodic,Nothing},Oceananigans.BoundaryCondition{Oceananigans.Periodic,Nothing}},Oceananigans.CoordinateBoundaryConditions{Oceananigans.BoundaryCondition{Oceananigans.Periodic,Nothing},Oceananigans.BoundaryCondition{Oceananigans.Periodic,Nothing}},Oceananigans.CoordinateBoundaryConditions{Oceananigans.BoundaryCondition{Oceananigans.Flux,Nothing},Oceananigans.BoundaryCondition{Oceananigans.Flux,Nothing}}}},NamedTuple{(:x, :y, :z),Tuple{Oceananigans.CoordinateBoundaryConditions{Oceananigans.BoundaryCondition{Oceananigans.Periodic,Nothing},Oceananigans.BoundaryCondition{Oceananigans.Periodic,Nothing}},Oceananigans.CoordinateBoundaryConditions{Oceananigans.BoundaryCondition{Oceananigans.Periodic,Nothing},Oceananigans.BoundaryCondition{Oceananigans.Periodic,Nothing}},Oceananigans.CoordinateBoundaryConditions{Oceananigans.BoundaryCondition{Oceananigans.NoPenetration,Nothing},Oceananigans.BoundaryCondition{Oceananigans.NoPenetration,Nothing}}}},NamedTuple{(:x, :y, :z),Tuple{Oceananigans.CoordinateBoundaryConditions{Oceananigans.BoundaryCondition{Oceananigans.Periodic,Nothing},Oceananigans.BoundaryCondition{Oceananigans.Periodic,Nothing}},Oceananigans.CoordinateBoundaryConditions{Oceananigans.BoundaryCondition{Oceananigans.Periodic,Nothing},Oceananigans.BoundaryCondition{Oceananigans.Periodic,Nothing}},Oceananigans.CoordinateBoundaryConditions{Oceananigans.BoundaryCondition{Oceananigans.Flux,Nothing},Oceananigans.BoundaryCondition{Oceananigans.Flux,Nothing}}}},NamedTuple{(:x, :y, :z),Tuple{Oceananigans.CoordinateBoundaryConditions{Oceananigans.BoundaryCondition{Oceananigans.Periodic,Nothing},Oceananigans.BoundaryCondition{Oceananigans.Periodic,Nothing}},Oceananigans.CoordinateBoundaryConditions{Oceananigans.BoundaryCondition{Oceananigans.Periodic,Nothing},Oceananigans.BoundaryCondition{Oceananigans.Periodic,Nothing}},Oceananigans.CoordinateBoundaryConditions{Oceananigans.BoundaryCondition{Oceananigans.Flux,Nothing},Oceananigans.BoundaryCondition{Oceananigans.Flux,Nothing}}}}}},NamedTuple{(:u, :v, :w, :T, :S),Tuple{NamedTuple{(:x, :y, :z),Tuple{Oceananigans.CoordinateBoundaryConditions{Oceananigans.BoundaryCondition{Oceananigans.Periodic,Nothing},Oceananigans.BoundaryCondition{Oceananigans.Periodic,Nothing}},Oceananigans.CoordinateBoundaryConditions{Oceananigans.BoundaryCondition{Oceananigans.Periodic,Nothing},Oceananigans.BoundaryCondition{Oceananigans.Periodic,Nothing}},Oceananigans.CoordinateBoundaryConditions{Oceananigans.BoundaryCondition{Oceananigans.Flux,Nothing},Oceananigans.BoundaryCondition{Oceananigans.Flux,Nothing}}}},NamedTuple{(:x, :y, :z),Tuple{Oceananigans.CoordinateBoundaryConditions{Oceananigans.BoundaryCondition{Oceananigans.Periodic,Nothing},Oceananigans.BoundaryCondition{Oceananigans.Periodic,Nothing}},Oceananigans.CoordinateBoundaryConditions{Oceananigans.BoundaryCondition{Oceananigans.Periodic,Nothing},Oceananigans.BoundaryCondition{Oceananigans.Periodic,Nothing}},Oceananigans.CoordinateBoundaryConditions{Oceananigans.BoundaryCondition{Oceananigans.Flux,Nothing},Oceananigans.BoundaryCondition{Oceananigans.Flux,Nothing}}}},NamedTuple{(:x, :y, :z),Tuple{Oceananigans.CoordinateBoundaryConditions{Oceananigans.BoundaryCondition{Oceananigans.Periodic,Nothing},Oceananigans.BoundaryCondition{Oceananigans.Periodic,Nothing}},Oceananigans.CoordinateBoundaryConditions{Oceananigans.BoundaryCondition{Oceananigans.Periodic,Nothing},Oceananigans.BoundaryCondition{Oceananigans.Periodic,Nothing}},Oceananigans.CoordinateBoundaryConditions{Oceananigans.BoundaryCondition{Oceananigans.NoPenetration,Nothing},Oceananigans.BoundaryCondition{Oceananigans.NoPenetration,Nothing}}}},NamedTuple{(:x, :y, :z),Tuple{Oceananigans.CoordinateBoundaryConditions{Oceananigans.BoundaryCondition{Oceananigans.Periodic,Nothing},Oceananigans.BoundaryCondition{Oceananigans.Periodic,Nothing}},Oceananigans.CoordinateBoundaryConditions{Oceananigans.BoundaryCondition{Oceananigans.Periodic,Nothing},Oceananigans.BoundaryCondition{Oceananigans.Periodic,Nothing}},Oceananigans.CoordinateBoundaryConditions{Oceananigans.BoundaryCondition{Oceananigans.Flux,Nothing},Oceananigans.BoundaryCondition{Oceananigans.Flux,Nothing}}}},NamedTuple{(:x, :y, :z),Tuple{Oceananigans.CoordinateBoundaryConditions{Oceananigans.BoundaryCondition{Oceananigans.Periodic,Nothing},Oceananigans.BoundaryCondition{Oceananigans.Periodic,Nothing}},Oceananigans.CoordinateBoundaryConditions{Oceananigans.BoundaryCondition{Oceananigans.Periodic,Nothing},Oceananigans.BoundaryCondition{Oceananigans.Periodic,Nothing}},Oceananigans.CoordinateBoundaryConditions{Oceananigans.BoundaryCondition{Oceananigans.Flux,Nothing},Oceananigans.BoundaryCondition{Oceananigans.Flux,Nothing}}}}}},NamedTuple{(:x, :y, :z),Tuple{Oceananigans.CoordinateBoundaryConditions{Oceananigans.BoundaryCondition{Oceananigans.Periodic,Nothing},Oceananigans.BoundaryCondition{Oceananigans.Periodic,Nothing}},Oceananigans.CoordinateBoundaryConditions{Oceananigans.BoundaryCondition{Oceananigans.Periodic,Nothing},Oceananigans.BoundaryCondition{Oceananigans.Periodic,Nothing}},Oceananigans.CoordinateBoundaryConditions{Oceananigans.BoundaryCondition{Oceananigans.Flux,Nothing},Oceananigans.BoundaryCondition{Oceananigans.Flux,Nothing}}}}}},Oceananigans.PoissonSolverCPU{Oceananigans.PPN,Array{Float64,3},Array{Complex{Float64},3},FFTW.cFFTWPlan{Complex{Float64},-1,true,3},FFTW.r2rFFTWPlan{Complex{Float64},(5,),true,3},AbstractFFTs.ScaledPlan{Complex{Float64},FFTW.cFFTWPlan{Complex{Float64},1,true,3},Float64},FFTW.r2rFFTWPlan{Complex{Float64},(4,),true,3}},Nothing,OrderedCollections.OrderedDict{Symbol,Oceananigans.AbstractOutputWriter},OrderedCollections.OrderedDict{Symbol,Oceananigans.AbstractDiagnostic},Nothing}(Oceananigans.CPU(), RegularCartesianGrid{Float64}\n  resolution (Nx, Ny, Nz) = (1, 1, 128)\n   halo size (Hx, Hy, Hz) = (1, 1, 1)\n      domain (Lx, Ly, Lz) = (1.0, 1.0, 1.0)\ngrid spacing (Δx, Δy, Δz) = (1.0, 1.0, 0.0078125), Oceananigans.Clock{Float64}(0.0, 0), Oceananigans.SeawaterBuoyancy{Float64,Oceananigans.LinearEquationOfState{Float64}}(9.80665, Oceananigans.LinearEquationOfState{Float64}(0.000167, 0.00078)), nothing, (u = Field at (Oceananigans.Face, Oceananigans.Cell, Oceananigans.Cell)\n├── data: OffsetArrays.OffsetArray{Float64,3,Array{Float64,3}}\n└── grid: Oceananigans.RegularCartesianGrid{Float64,StepRangeLen{Float64,Base.TwicePrecision{Float64},Base.TwicePrecision{Float64}}}\n    ├── size: (1, 1, 128)\n    └── domain: x ∈ [0.0, 1.0], y ∈ [0.0, 1.0], z ∈ [0.0, -1.0]\n, v = Field at (Oceananigans.Cell, Oceananigans.Face, Oceananigans.Cell)\n├── data: OffsetArrays.OffsetArray{Float64,3,Array{Float64,3}}\n└── grid: Oceananigans.RegularCartesianGrid{Float64,StepRangeLen{Float64,Base.TwicePrecision{Float64},Base.TwicePrecision{Float64}}}\n    ├── size: (1, 1, 128)\n    └── domain: x ∈ [0.0, 1.0], y ∈ [0.0, 1.0], z ∈ [0.0, -1.0]\n, w = Field at (Oceananigans.Cell, Oceananigans.Cell, Oceananigans.Face)\n├── data: OffsetArrays.OffsetArray{Float64,3,Array{Float64,3}}\n└── grid: Oceananigans.RegularCartesianGrid{Float64,StepRangeLen{Float64,Base.TwicePrecision{Float64},Base.TwicePrecision{Float64}}}\n    ├── size: (1, 1, 128)\n    └── domain: x ∈ [0.0, 1.0], y ∈ [0.0, 1.0], z ∈ [0.0, -1.0]\n), (T = Field at (Oceananigans.Cell, Oceananigans.Cell, Oceananigans.Cell)\n├── data: OffsetArrays.OffsetArray{Float64,3,Array{Float64,3}}\n└── grid: Oceananigans.RegularCartesianGrid{Float64,StepRangeLen{Float64,Base.TwicePrecision{Float64},Base.TwicePrecision{Float64}}}\n    ├── size: (1, 1, 128)\n    └── domain: x ∈ [0.0, 1.0], y ∈ [0.0, 1.0], z ∈ [0.0, -1.0]\n, S = Field at (Oceananigans.Cell, Oceananigans.Cell, Oceananigans.Cell)\n├── data: OffsetArrays.OffsetArray{Float64,3,Array{Float64,3}}\n└── grid: Oceananigans.RegularCartesianGrid{Float64,StepRangeLen{Float64,Base.TwicePrecision{Float64},Base.TwicePrecision{Float64}}}\n    ├── size: (1, 1, 128)\n    └── domain: x ∈ [0.0, 1.0], y ∈ [0.0, 1.0], z ∈ [0.0, -1.0]\n), (pHY′ = Field at (Oceananigans.Cell, Oceananigans.Cell, Oceananigans.Cell)\n├── data: OffsetArrays.OffsetArray{Float64,3,Array{Float64,3}}\n└── grid: Oceananigans.RegularCartesianGrid{Float64,StepRangeLen{Float64,Base.TwicePrecision{Float64},Base.TwicePrecision{Float64}}}\n    ├── size: (1, 1, 128)\n    └── domain: x ∈ [0.0, 1.0], y ∈ [0.0, 1.0], z ∈ [0.0, -1.0]\n, pNHS = Field at (Oceananigans.Cell, Oceananigans.Cell, Oceananigans.Cell)\n├── data: OffsetArrays.OffsetArray{Float64,3,Array{Float64,3}}\n└── grid: Oceananigans.RegularCartesianGrid{Float64,StepRangeLen{Float64,Base.TwicePrecision{Float64},Base.TwicePrecision{Float64}}}\n    ├── size: (1, 1, 128)\n    └── domain: x ∈ [0.0, 1.0], y ∈ [0.0, 1.0], z ∈ [0.0, -1.0]\n), (u = Oceananigans.zeroforcing, v = Oceananigans.zeroforcing, w = Oceananigans.zeroforcing, T = Oceananigans.zeroforcing, S = Oceananigans.zeroforcing), Oceananigans.TurbulenceClosures.ConstantIsotropicDiffusivity{Float64,NamedTuple{(:T, :S),Tuple{Float64,Float64}}}(1.05e-6, (T = 1.0, S = 1.0)), (solution = (u = (x = Oceananigans.CoordinateBoundaryConditions{Oceananigans.BoundaryCondition{Oceananigans.Periodic,Nothing},Oceananigans.BoundaryCondition{Oceananigans.Periodic,Nothing}}(Oceananigans.BoundaryCondition{Oceananigans.Periodic,Nothing}(nothing), Oceananigans.BoundaryCondition{Oceananigans.Periodic,Nothing}(nothing)), y = Oceananigans.CoordinateBoundaryConditions{Oceananigans.BoundaryCondition{Oceananigans.Periodic,Nothing},Oceananigans.BoundaryCondition{Oceananigans.Periodic,Nothing}}(Oceananigans.BoundaryCondition{Oceananigans.Periodic,Nothing}(nothing), Oceananigans.BoundaryCondition{Oceananigans.Periodic,Nothing}(nothing)), z = Oceananigans.CoordinateBoundaryConditions{Oceananigans.BoundaryCondition{Oceananigans.Flux,Nothing},Oceananigans.BoundaryCondition{Oceananigans.Flux,Nothing}}(Oceananigans.BoundaryCondition{Oceananigans.Flux,Nothing}(nothing), Oceananigans.BoundaryCondition{Oceananigans.Flux,Nothing}(nothing))), v = (x = Oceananigans.CoordinateBoundaryConditions{Oceananigans.BoundaryCondition{Oceananigans.Periodic,Nothing},Oceananigans.BoundaryCondition{Oceananigans.Periodic,Nothing}}(Oceananigans.BoundaryCondition{Oceananigans.Periodic,Nothing}(nothing), Oceananigans.BoundaryCondition{Oceananigans.Periodic,Nothing}(nothing)), y = Oceananigans.CoordinateBoundaryConditions{Oceananigans.BoundaryCondition{Oceananigans.Periodic,Nothing},Oceananigans.BoundaryCondition{Oceananigans.Periodic,Nothing}}(Oceananigans.BoundaryCondition{Oceananigans.Periodic,Nothing}(nothing), Oceananigans.BoundaryCondition{Oceananigans.Periodic,Nothing}(nothing)), z = Oceananigans.CoordinateBoundaryConditions{Oceananigans.BoundaryCondition{Oceananigans.Flux,Nothing},Oceananigans.BoundaryCondition{Oceananigans.Flux,Nothing}}(Oceananigans.BoundaryCondition{Oceananigans.Flux,Nothing}(nothing), Oceananigans.BoundaryCondition{Oceananigans.Flux,Nothing}(nothing))), w = (x = Oceananigans.CoordinateBoundaryConditions{Oceananigans.BoundaryCondition{Oceananigans.Periodic,Nothing},Oceananigans.BoundaryCondition{Oceananigans.Periodic,Nothing}}(Oceananigans.BoundaryCondition{Oceananigans.Periodic,Nothing}(nothing), Oceananigans.BoundaryCondition{Oceananigans.Periodic,Nothing}(nothing)), y = Oceananigans.CoordinateBoundaryConditions{Oceananigans.BoundaryCondition{Oceananigans.Periodic,Nothing},Oceananigans.BoundaryCondition{Oceananigans.Periodic,Nothing}}(Oceananigans.BoundaryCondition{Oceananigans.Periodic,Nothing}(nothing), Oceananigans.BoundaryCondition{Oceananigans.Periodic,Nothing}(nothing)), z = Oceananigans.CoordinateBoundaryConditions{Oceananigans.BoundaryCondition{Oceananigans.NoPenetration,Nothing},Oceananigans.BoundaryCondition{Oceananigans.NoPenetration,Nothing}}(Oceananigans.BoundaryCondition{Oceananigans.NoPenetration,Nothing}(nothing), Oceananigans.BoundaryCondition{Oceananigans.NoPenetration,Nothing}(nothing))), T = (x = Oceananigans.CoordinateBoundaryConditions{Oceananigans.BoundaryCondition{Oceananigans.Periodic,Nothing},Oceananigans.BoundaryCondition{Oceananigans.Periodic,Nothing}}(Oceananigans.BoundaryCondition{Oceananigans.Periodic,Nothing}(nothing), Oceananigans.BoundaryCondition{Oceananigans.Periodic,Nothing}(nothing)), y = Oceananigans.CoordinateBoundaryConditions{Oceananigans.BoundaryCondition{Oceananigans.Periodic,Nothing},Oceananigans.BoundaryCondition{Oceananigans.Periodic,Nothing}}(Oceananigans.BoundaryCondition{Oceananigans.Periodic,Nothing}(nothing), Oceananigans.BoundaryCondition{Oceananigans.Periodic,Nothing}(nothing)), z = Oceananigans.CoordinateBoundaryConditions{Oceananigans.BoundaryCondition{Oceananigans.Flux,Nothing},Oceananigans.BoundaryCondition{Oceananigans.Flux,Nothing}}(Oceananigans.BoundaryCondition{Oceananigans.Flux,Nothing}(nothing), Oceananigans.BoundaryCondition{Oceananigans.Flux,Nothing}(nothing))), S = (x = Oceananigans.CoordinateBoundaryConditions{Oceananigans.BoundaryCondition{Oceananigans.Periodic,Nothing},Oceananigans.BoundaryCondition{Oceananigans.Periodic,Nothing}}(Oceananigans.BoundaryCondition{Oceananigans.Periodic,Nothing}(nothing), Oceananigans.BoundaryCondition{Oceananigans.Periodic,Nothing}(nothing)), y = Oceananigans.CoordinateBoundaryConditions{Oceananigans.BoundaryCondition{Oceananigans.Periodic,Nothing},Oceananigans.BoundaryCondition{Oceananigans.Periodic,Nothing}}(Oceananigans.BoundaryCondition{Oceananigans.Periodic,Nothing}(nothing), Oceananigans.BoundaryCondition{Oceananigans.Periodic,Nothing}(nothing)), z = Oceananigans.CoordinateBoundaryConditions{Oceananigans.BoundaryCondition{Oceananigans.Flux,Nothing},Oceananigans.BoundaryCondition{Oceananigans.Flux,Nothing}}(Oceananigans.BoundaryCondition{Oceananigans.Flux,Nothing}(nothing), Oceananigans.BoundaryCondition{Oceananigans.Flux,Nothing}(nothing)))), tendency = (u = (x = Oceananigans.CoordinateBoundaryConditions{Oceananigans.BoundaryCondition{Oceananigans.Periodic,Nothing},Oceananigans.BoundaryCondition{Oceananigans.Periodic,Nothing}}(Oceananigans.BoundaryCondition{Oceananigans.Periodic,Nothing}(nothing), Oceananigans.BoundaryCondition{Oceananigans.Periodic,Nothing}(nothing)), y = Oceananigans.CoordinateBoundaryConditions{Oceananigans.BoundaryCondition{Oceananigans.Periodic,Nothing},Oceananigans.BoundaryCondition{Oceananigans.Periodic,Nothing}}(Oceananigans.BoundaryCondition{Oceananigans.Periodic,Nothing}(nothing), Oceananigans.BoundaryCondition{Oceananigans.Periodic,Nothing}(nothing)), z = Oceananigans.CoordinateBoundaryConditions{Oceananigans.BoundaryCondition{Oceananigans.Flux,Nothing},Oceananigans.BoundaryCondition{Oceananigans.Flux,Nothing}}(Oceananigans.BoundaryCondition{Oceananigans.Flux,Nothing}(nothing), Oceananigans.BoundaryCondition{Oceananigans.Flux,Nothing}(nothing))), v = (x = Oceananigans.CoordinateBoundaryConditions{Oceananigans.BoundaryCondition{Oceananigans.Periodic,Nothing},Oceananigans.BoundaryCondition{Oceananigans.Periodic,Nothing}}(Oceananigans.BoundaryCondition{Oceananigans.Periodic,Nothing}(nothing), Oceananigans.BoundaryCondition{Oceananigans.Periodic,Nothing}(nothing)), y = Oceananigans.CoordinateBoundaryConditions{Oceananigans.BoundaryCondition{Oceananigans.Periodic,Nothing},Oceananigans.BoundaryCondition{Oceananigans.Periodic,Nothing}}(Oceananigans.BoundaryCondition{Oceananigans.Periodic,Nothing}(nothing), Oceananigans.BoundaryCondition{Oceananigans.Periodic,Nothing}(nothing)), z = Oceananigans.CoordinateBoundaryConditions{Oceananigans.BoundaryCondition{Oceananigans.Flux,Nothing},Oceananigans.BoundaryCondition{Oceananigans.Flux,Nothing}}(Oceananigans.BoundaryCondition{Oceananigans.Flux,Nothing}(nothing), Oceananigans.BoundaryCondition{Oceananigans.Flux,Nothing}(nothing))), w = (x = Oceananigans.CoordinateBoundaryConditions{Oceananigans.BoundaryCondition{Oceananigans.Periodic,Nothing},Oceananigans.BoundaryCondition{Oceananigans.Periodic,Nothing}}(Oceananigans.BoundaryCondition{Oceananigans.Periodic,Nothing}(nothing), Oceananigans.BoundaryCondition{Oceananigans.Periodic,Nothing}(nothing)), y = Oceananigans.CoordinateBoundaryConditions{Oceananigans.BoundaryCondition{Oceananigans.Periodic,Nothing},Oceananigans.BoundaryCondition{Oceananigans.Periodic,Nothing}}(Oceananigans.BoundaryCondition{Oceananigans.Periodic,Nothing}(nothing), Oceananigans.BoundaryCondition{Oceananigans.Periodic,Nothing}(nothing)), z = Oceananigans.CoordinateBoundaryConditions{Oceananigans.BoundaryCondition{Oceananigans.NoPenetration,Nothing},Oceananigans.BoundaryCondition{Oceananigans.NoPenetration,Nothing}}(Oceananigans.BoundaryCondition{Oceananigans.NoPenetration,Nothing}(nothing), Oceananigans.BoundaryCondition{Oceananigans.NoPenetration,Nothing}(nothing))), T = (x = Oceananigans.CoordinateBoundaryConditions{Oceananigans.BoundaryCondition{Oceananigans.Periodic,Nothing},Oceananigans.BoundaryCondition{Oceananigans.Periodic,Nothing}}(Oceananigans.BoundaryCondition{Oceananigans.Periodic,Nothing}(nothing), Oceananigans.BoundaryCondition{Oceananigans.Periodic,Nothing}(nothing)), y = Oceananigans.CoordinateBoundaryConditions{Oceananigans.BoundaryCondition{Oceananigans.Periodic,Nothing},Oceananigans.BoundaryCondition{Oceananigans.Periodic,Nothing}}(Oceananigans.BoundaryCondition{Oceananigans.Periodic,Nothing}(nothing), Oceananigans.BoundaryCondition{Oceananigans.Periodic,Nothing}(nothing)), z = Oceananigans.CoordinateBoundaryConditions{Oceananigans.BoundaryCondition{Oceananigans.Flux,Nothing},Oceananigans.BoundaryCondition{Oceananigans.Flux,Nothing}}(Oceananigans.BoundaryCondition{Oceananigans.Flux,Nothing}(nothing), Oceananigans.BoundaryCondition{Oceananigans.Flux,Nothing}(nothing))), S = (x = Oceananigans.CoordinateBoundaryConditions{Oceananigans.BoundaryCondition{Oceananigans.Periodic,Nothing},Oceananigans.BoundaryCondition{Oceananigans.Periodic,Nothing}}(Oceananigans.BoundaryCondition{Oceananigans.Periodic,Nothing}(nothing), Oceananigans.BoundaryCondition{Oceananigans.Periodic,Nothing}(nothing)), y = Oceananigans.CoordinateBoundaryConditions{Oceananigans.BoundaryCondition{Oceananigans.Periodic,Nothing},Oceananigans.BoundaryCondition{Oceananigans.Periodic,Nothing}}(Oceananigans.BoundaryCondition{Oceananigans.Periodic,Nothing}(nothing), Oceananigans.BoundaryCondition{Oceananigans.Periodic,Nothing}(nothing)), z = Oceananigans.CoordinateBoundaryConditions{Oceananigans.BoundaryCondition{Oceananigans.Flux,Nothing},Oceananigans.BoundaryCondition{Oceananigans.Flux,Nothing}}(Oceananigans.BoundaryCondition{Oceananigans.Flux,Nothing}(nothing), Oceananigans.BoundaryCondition{Oceananigans.Flux,Nothing}(nothing)))), pressure = (x = Oceananigans.CoordinateBoundaryConditions{Oceananigans.BoundaryCondition{Oceananigans.Periodic,Nothing},Oceananigans.BoundaryCondition{Oceananigans.Periodic,Nothing}}(Oceananigans.BoundaryCondition{Oceananigans.Periodic,Nothing}(nothing), Oceananigans.BoundaryCondition{Oceananigans.Periodic,Nothing}(nothing)), y = Oceananigans.CoordinateBoundaryConditions{Oceananigans.BoundaryCondition{Oceananigans.Periodic,Nothing},Oceananigans.BoundaryCondition{Oceananigans.Periodic,Nothing}}(Oceananigans.BoundaryCondition{Oceananigans.Periodic,Nothing}(nothing), Oceananigans.BoundaryCondition{Oceananigans.Periodic,Nothing}(nothing)), z = Oceananigans.CoordinateBoundaryConditions{Oceananigans.BoundaryCondition{Oceananigans.Flux,Nothing},Oceananigans.BoundaryCondition{Oceananigans.Flux,Nothing}}(Oceananigans.BoundaryCondition{Oceananigans.Flux,Nothing}(nothing), Oceananigans.BoundaryCondition{Oceananigans.Flux,Nothing}(nothing)))), Oceananigans.AdamsBashforthTimestepper{Float64,NamedTuple{(:u, :v, :w, :T, :S),Tuple{Oceananigans.Field{Oceananigans.Face,Oceananigans.Cell,Oceananigans.Cell,OffsetArrays.OffsetArray{Float64,3,Array{Float64,3}},Oceananigans.RegularCartesianGrid{Float64,StepRangeLen{Float64,Base.TwicePrecision{Float64},Base.TwicePrecision{Float64}}}},Oceananigans.Field{Oceananigans.Cell,Oceananigans.Face,Oceananigans.Cell,OffsetArrays.OffsetArray{Float64,3,Array{Float64,3}},Oceananigans.RegularCartesianGrid{Float64,StepRangeLen{Float64,Base.TwicePrecision{Float64},Base.TwicePrecision{Float64}}}},Oceananigans.Field{Oceananigans.Cell,Oceananigans.Cell,Oceananigans.Face,OffsetArrays.OffsetArray{Float64,3,Array{Float64,3}},Oceananigans.RegularCartesianGrid{Float64,StepRangeLen{Float64,Base.TwicePrecision{Float64},Base.TwicePrecision{Float64}}}},Oceananigans.Field{Oceananigans.Cell,Oceananigans.Cell,Oceananigans.Cell,OffsetArrays.OffsetArray{Float64,3,Array{Float64,3}},Oceananigans.RegularCartesianGrid{Float64,StepRangeLen{Float64,Base.TwicePrecision{Float64},Base.TwicePrecision{Float64}}}},Oceananigans.Field{Oceananigans.Cell,Oceananigans.Cell,Oceananigans.Cell,OffsetArrays.OffsetArray{Float64,3,Array{Float64,3}},Oceananigans.RegularCartesianGrid{Float64,StepRangeLen{Float64,Base.TwicePrecision{Float64},Base.TwicePrecision{Float64}}}}}}}((u = Field at (Oceananigans.Face, Oceananigans.Cell, Oceananigans.Cell)\n├── data: OffsetArrays.OffsetArray{Float64,3,Array{Float64,3}}\n└── grid: Oceananigans.RegularCartesianGrid{Float64,StepRangeLen{Float64,Base.TwicePrecision{Float64},Base.TwicePrecision{Float64}}}\n    ├── size: (1, 1, 128)\n    └── domain: x ∈ [0.0, 1.0], y ∈ [0.0, 1.0], z ∈ [0.0, -1.0]\n, v = Field at (Oceananigans.Cell, Oceananigans.Face, Oceananigans.Cell)\n├── data: OffsetArrays.OffsetArray{Float64,3,Array{Float64,3}}\n└── grid: Oceananigans.RegularCartesianGrid{Float64,StepRangeLen{Float64,Base.TwicePrecision{Float64},Base.TwicePrecision{Float64}}}\n    ├── size: (1, 1, 128)\n    └── domain: x ∈ [0.0, 1.0], y ∈ [0.0, 1.0], z ∈ [0.0, -1.0]\n, w = Field at (Oceananigans.Cell, Oceananigans.Cell, Oceananigans.Face)\n├── data: OffsetArrays.OffsetArray{Float64,3,Array{Float64,3}}\n└── grid: Oceananigans.RegularCartesianGrid{Float64,StepRangeLen{Float64,Base.TwicePrecision{Float64},Base.TwicePrecision{Float64}}}\n    ├── size: (1, 1, 128)\n    └── domain: x ∈ [0.0, 1.0], y ∈ [0.0, 1.0], z ∈ [0.0, -1.0]\n, T = Field at (Oceananigans.Cell, Oceananigans.Cell, Oceananigans.Cell)\n├── data: OffsetArrays.OffsetArray{Float64,3,Array{Float64,3}}\n└── grid: Oceananigans.RegularCartesianGrid{Float64,StepRangeLen{Float64,Base.TwicePrecision{Float64},Base.TwicePrecision{Float64}}}\n    ├── size: (1, 1, 128)\n    └── domain: x ∈ [0.0, 1.0], y ∈ [0.0, 1.0], z ∈ [0.0, -1.0]\n, S = Field at (Oceananigans.Cell, Oceananigans.Cell, Oceananigans.Cell)\n├── data: OffsetArrays.OffsetArray{Float64,3,Array{Float64,3}}\n└── grid: Oceananigans.RegularCartesianGrid{Float64,StepRangeLen{Float64,Base.TwicePrecision{Float64},Base.TwicePrecision{Float64}}}\n    ├── size: (1, 1, 128)\n    └── domain: x ∈ [0.0, 1.0], y ∈ [0.0, 1.0], z ∈ [0.0, -1.0]\n), (u = Field at (Oceananigans.Face, Oceananigans.Cell, Oceananigans.Cell)\n├── data: OffsetArrays.OffsetArray{Float64,3,Array{Float64,3}}\n└── grid: Oceananigans.RegularCartesianGrid{Float64,StepRangeLen{Float64,Base.TwicePrecision{Float64},Base.TwicePrecision{Float64}}}\n    ├── size: (1, 1, 128)\n    └── domain: x ∈ [0.0, 1.0], y ∈ [0.0, 1.0], z ∈ [0.0, -1.0]\n, v = Field at (Oceananigans.Cell, Oceananigans.Face, Oceananigans.Cell)\n├── data: OffsetArrays.OffsetArray{Float64,3,Array{Float64,3}}\n└── grid: Oceananigans.RegularCartesianGrid{Float64,StepRangeLen{Float64,Base.TwicePrecision{Float64},Base.TwicePrecision{Float64}}}\n    ├── size: (1, 1, 128)\n    └── domain: x ∈ [0.0, 1.0], y ∈ [0.0, 1.0], z ∈ [0.0, -1.0]\n, w = Field at (Oceananigans.Cell, Oceananigans.Cell, Oceananigans.Face)\n├── data: OffsetArrays.OffsetArray{Float64,3,Array{Float64,3}}\n└── grid: Oceananigans.RegularCartesianGrid{Float64,StepRangeLen{Float64,Base.TwicePrecision{Float64},Base.TwicePrecision{Float64}}}\n    ├── size: (1, 1, 128)\n    └── domain: x ∈ [0.0, 1.0], y ∈ [0.0, 1.0], z ∈ [0.0, -1.0]\n, T = Field at (Oceananigans.Cell, Oceananigans.Cell, Oceananigans.Cell)\n├── data: OffsetArrays.OffsetArray{Float64,3,Array{Float64,3}}\n└── grid: Oceananigans.RegularCartesianGrid{Float64,StepRangeLen{Float64,Base.TwicePrecision{Float64},Base.TwicePrecision{Float64}}}\n    ├── size: (1, 1, 128)\n    └── domain: x ∈ [0.0, 1.0], y ∈ [0.0, 1.0], z ∈ [0.0, -1.0]\n, S = Field at (Oceananigans.Cell, Oceananigans.Cell, Oceananigans.Cell)\n├── data: OffsetArrays.OffsetArray{Float64,3,Array{Float64,3}}\n└── grid: Oceananigans.RegularCartesianGrid{Float64,StepRangeLen{Float64,Base.TwicePrecision{Float64},Base.TwicePrecision{Float64}}}\n    ├── size: (1, 1, 128)\n    └── domain: x ∈ [0.0, 1.0], y ∈ [0.0, 1.0], z ∈ [0.0, -1.0]\n), 0.125), Oceananigans.PoissonSolverCPU{Oceananigans.PPN,Array{Float64,3},Array{Complex{Float64},3},FFTW.cFFTWPlan{Complex{Float64},-1,true,3},FFTW.r2rFFTWPlan{Complex{Float64},(5,),true,3},AbstractFFTs.ScaledPlan{Complex{Float64},FFTW.cFFTWPlan{Complex{Float64},1,true,3},Float64},FFTW.r2rFFTWPlan{Complex{Float64},(4,),true,3}}(Oceananigans.PPN(), [0.0], [0.0], [0.0]\n\n[9.869108962780114]\n\n[39.47049106891104]\n\n...\n\n[65447.21368444733]\n\n[65496.52950893109]\n\n[65526.13089103722], Complex{Float64}[0.0 + 0.0im]\n\nComplex{Float64}[0.0 + 0.0im]\n\nComplex{Float64}[0.0 + 0.0im]\n\n...\n\nComplex{Float64}[0.0 + 0.0im]\n\nComplex{Float64}[0.0 + 0.0im]\n\nComplex{Float64}[0.0 + 0.0im], FFTW in-place forward plan for 1×1×128 array of Complex{Float64}\n(dft-nop), FFTW in-place r2r REDFT10 plan for 1×1×128 array of Complex{Float64}\n(redft10e-r2hc-128-x2\n  (rdft-r2hc-direct-r2c-128 \"r2cf_128\")), 1.0 * FFTW in-place backward plan for 1×1×128 array of Complex{Float64}\n(dft-nop), FFTW in-place r2r REDFT01 plan for 1×1×128 array of Complex{Float64}\n(redft01e-r2hc-128-x2\n  (rdft-r2hc-direct-r2c-128 \"r2cf_128\"))), nothing, OrderedCollections.OrderedDict{Symbol,Oceananigans.AbstractOutputWriter}(), OrderedCollections.OrderedDict{Symbol,Oceananigans.AbstractDiagnostic}(), nothing)"
     },
     "metadata": {},
     "execution_count": 3
    }
   ],
   "cell_type": "code",
   "source": [
    "model = Model(\n",
    "    grid = RegularCartesianGrid(N = (1, 1, 128), L = (1, 1, 1)),\n",
    "    closure = ConstantIsotropicDiffusivity(κ = 1.0)\n",
    ")"
   ],
   "metadata": {},
   "execution_count": 3
  },
  {
   "outputs": [],
   "cell_type": "markdown",
   "source": [
    "The keyword arguments `grid` and `closure` indicate that\n",
    "our model grid is Cartesian with uniform grid spacing, that our diffusive\n",
    "stress and tracer fluxes are determined by diffusion with a constant\n",
    "diffusivity `κ` (note that we do not use viscosity in this example)."
   ],
   "metadata": {}
  },
  {
   "outputs": [],
   "cell_type": "markdown",
   "source": [
    "Note that by default, a `Model` has no-flux boundary condition on all\n",
    "variables. Next, we set an initial condition on our \"passive tracer\",\n",
    "temperature. Our objective is to observe the diffusion of a Gaussian."
   ],
   "metadata": {}
  },
  {
   "outputs": [],
   "cell_type": "code",
   "source": [
    "# Build a Gaussian initial condition function with width `δ`:\n",
    "δ = 0.1\n",
    "Tᵢ(x, y, z) = exp( -(z + 0.5)^2 / (2δ^2) )\n",
    "\n",
    "# Set `model.tracers.T` to the function `Tᵢ`:\n",
    "set!(model, T=Tᵢ)"
   ],
   "metadata": {},
   "execution_count": 4
  },
  {
   "outputs": [],
   "cell_type": "markdown",
   "source": [
    "## Running your first `Model`\n",
    "\n",
    "Finally, we time-step the model forward using the function\n",
    "`time_step!`, with a time-step size that ensures numerical stability."
   ],
   "metadata": {}
  },
  {
   "outputs": [],
   "cell_type": "code",
   "source": [
    "# Time-scale for diffusion across a grid cell\n",
    "cell_diffusion_time_scale = model.grid.Δz^2 / model.closure.κ.T\n",
    "\n",
    "# The function `time_step!` executes `Nt` time steps with step size `Δt`\n",
    "# using a second-order Adams-Bashforth method\n",
    "time_step!(model, Nt = 1000, Δt = 0.1 * cell_diffusion_time_scale)"
   ],
   "metadata": {},
   "execution_count": 5
  },
  {
   "outputs": [],
   "cell_type": "markdown",
   "source": [
    "## Visualizing the results\n",
    "\n",
    "We use `PyPlot.jl` to look at the results."
   ],
   "metadata": {}
  },
  {
   "outputs": [
    {
     "output_type": "execute_result",
     "data": {
      "text/plain": "PyObject <matplotlib.legend.Legend object at 0x146617400>"
     },
     "metadata": {},
     "execution_count": 6
    }
   ],
   "cell_type": "code",
   "source": [
    "# A convenient function for generating a label with the Current model time\n",
    "tracer_label(model) = @sprintf(\"\\$ t=%.3f \\$\", model.clock.time)\n",
    "\n",
    "# Create a figure with `PyPlot.jl`\n",
    "close(\"all\")\n",
    "fig, ax = subplots()\n",
    "title(\"Diffusion of a Gaussian\")\n",
    "xlabel(\"Tracer concentration\")\n",
    "ylabel(L\"z\")\n",
    "\n",
    "# Plot initial condition\n",
    "plot(Tᵢ.(0, 0, model.grid.zC), model.grid.zC, \"--\", label=L\"t=0\")\n",
    "\n",
    "# Plot current solution\n",
    "plot(model.tracers.T[1, 1, :], model.grid.zC, label=tracer_label(model))\n",
    "legend()"
   ],
   "metadata": {},
   "execution_count": 6
  },
  {
   "outputs": [],
   "cell_type": "markdown",
   "source": [
    "Interesting! Running the model even longer makes even more interesting results."
   ],
   "metadata": {}
  },
  {
   "outputs": [
    {
     "output_type": "execute_result",
     "data": {
      "text/plain": "PyObject <matplotlib.legend.Legend object at 0x139913dd8>"
     },
     "metadata": {},
     "execution_count": 7
    }
   ],
   "cell_type": "code",
   "source": [
    "for i = 1:3\n",
    "    time_step!(model, Nt = 1000, Δt = 0.1 * cell_diffusion_time_scale)\n",
    "    plot(model.tracers.T[1, 1, :], model.grid.zC, label=tracer_label(model))\n",
    "end\n",
    "\n",
    "legend()"
   ],
   "metadata": {},
   "execution_count": 7
  },
  {
   "outputs": [],
   "cell_type": "markdown",
   "source": [
    "*This notebook was generated using [Literate.jl](https://github.com/fredrikekre/Literate.jl).*"
   ],
   "metadata": {}
  }
 ],
 "nbformat_minor": 3,
 "metadata": {
  "language_info": {
   "file_extension": ".jl",
   "mimetype": "application/julia",
   "name": "julia",
   "version": "1.2.0"
  },
  "kernelspec": {
   "name": "julia-1.2",
   "display_name": "Julia 1.2.0",
   "language": "julia"
  }
 },
 "nbformat": 4
}
