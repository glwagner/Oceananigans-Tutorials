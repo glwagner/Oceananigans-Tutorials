{
 "cells": [
  {
   "outputs": [],
   "cell_type": "markdown",
   "source": [
    "# Two dimensional turbulence example\n",
    "\n",
    "In this example, we initialize a random velocity field and observe its viscous,\n",
    "turbulent decay in a two-dimensional domain. This example demonstrates:\n",
    "\n",
    "  * How to run a model with no buoyancy equation or tracers;\n",
    "  * How to create user-defined fields\n",
    "  * How to use differentiation functions\n",
    "\n",
    "For this example, we need `PyPlot` for plotting and `Statistics` for setting up\n",
    "a random initial condition with zero mean velocity."
   ],
   "metadata": {}
  },
  {
   "outputs": [],
   "cell_type": "code",
   "source": [
    "using Oceananigans, PyPlot, Statistics, Oceananigans.AbstractOperations"
   ],
   "metadata": {},
   "execution_count": 1
  },
  {
   "outputs": [],
   "cell_type": "markdown",
   "source": [
    "In addition to importing plotting and statistics packages, we import\n",
    "some types and functions from `Oceananigans` that will aid in the calculation\n",
    "and visualization of voriticty."
   ],
   "metadata": {}
  },
  {
   "outputs": [],
   "cell_type": "code",
   "source": [
    "using Oceananigans: Face, Cell\n",
    "using Oceananigans.TurbulenceClosures: ∂x_faa, ∂y_afa"
   ],
   "metadata": {},
   "execution_count": 2
  },
  {
   "outputs": [],
   "cell_type": "markdown",
   "source": [
    "We instantiate the model with a simple isotropic diffusivity"
   ],
   "metadata": {}
  },
  {
   "outputs": [
    {
     "output_type": "execute_result",
     "data": {
      "text/plain": "Oceananigans.Model{Oceananigans.AdamsBashforthTimestepper{Float64,NamedTuple{(:u, :v, :w),Tuple{Oceananigans.Field{Oceananigans.Face,Oceananigans.Cell,Oceananigans.Cell,OffsetArrays.OffsetArray{Float64,3,Array{Float64,3}},Oceananigans.RegularCartesianGrid{Float64,StepRangeLen{Float64,Base.TwicePrecision{Float64},Base.TwicePrecision{Float64}}}},Oceananigans.Field{Oceananigans.Cell,Oceananigans.Face,Oceananigans.Cell,OffsetArrays.OffsetArray{Float64,3,Array{Float64,3}},Oceananigans.RegularCartesianGrid{Float64,StepRangeLen{Float64,Base.TwicePrecision{Float64},Base.TwicePrecision{Float64}}}},Oceananigans.Field{Oceananigans.Cell,Oceananigans.Cell,Oceananigans.Face,OffsetArrays.OffsetArray{Float64,3,Array{Float64,3}},Oceananigans.RegularCartesianGrid{Float64,StepRangeLen{Float64,Base.TwicePrecision{Float64},Base.TwicePrecision{Float64}}}}}}},Oceananigans.TurbulenceClosures.ConstantIsotropicDiffusivity{Float64,NamedTuple{(),Tuple{}}},Oceananigans.CPU,Oceananigans.RegularCartesianGrid{Float64,StepRangeLen{Float64,Base.TwicePrecision{Float64},Base.TwicePrecision{Float64}}},Float64,Nothing,Nothing,NamedTuple{(:u, :v, :w),Tuple{Oceananigans.Field{Oceananigans.Face,Oceananigans.Cell,Oceananigans.Cell,OffsetArrays.OffsetArray{Float64,3,Array{Float64,3}},Oceananigans.RegularCartesianGrid{Float64,StepRangeLen{Float64,Base.TwicePrecision{Float64},Base.TwicePrecision{Float64}}}},Oceananigans.Field{Oceananigans.Cell,Oceananigans.Face,Oceananigans.Cell,OffsetArrays.OffsetArray{Float64,3,Array{Float64,3}},Oceananigans.RegularCartesianGrid{Float64,StepRangeLen{Float64,Base.TwicePrecision{Float64},Base.TwicePrecision{Float64}}}},Oceananigans.Field{Oceananigans.Cell,Oceananigans.Cell,Oceananigans.Face,OffsetArrays.OffsetArray{Float64,3,Array{Float64,3}},Oceananigans.RegularCartesianGrid{Float64,StepRangeLen{Float64,Base.TwicePrecision{Float64},Base.TwicePrecision{Float64}}}}}},NamedTuple{(),Tuple{}},NamedTuple{(:pHY′, :pNHS),Tuple{Oceananigans.Field{Oceananigans.Cell,Oceananigans.Cell,Oceananigans.Cell,OffsetArrays.OffsetArray{Float64,3,Array{Float64,3}},Oceananigans.RegularCartesianGrid{Float64,StepRangeLen{Float64,Base.TwicePrecision{Float64},Base.TwicePrecision{Float64}}}},Oceananigans.Field{Oceananigans.Cell,Oceananigans.Cell,Oceananigans.Cell,OffsetArrays.OffsetArray{Float64,3,Array{Float64,3}},Oceananigans.RegularCartesianGrid{Float64,StepRangeLen{Float64,Base.TwicePrecision{Float64},Base.TwicePrecision{Float64}}}}}},NamedTuple{(:u, :v, :w),Tuple{typeof(Oceananigans.zeroforcing),typeof(Oceananigans.zeroforcing),typeof(Oceananigans.zeroforcing)}},NamedTuple{(:solution, :tendency, :pressure),Tuple{NamedTuple{(:u, :v, :w),Tuple{NamedTuple{(:x, :y, :z),Tuple{Oceananigans.CoordinateBoundaryConditions{Oceananigans.BoundaryCondition{Oceananigans.Periodic,Nothing},Oceananigans.BoundaryCondition{Oceananigans.Periodic,Nothing}},Oceananigans.CoordinateBoundaryConditions{Oceananigans.BoundaryCondition{Oceananigans.Periodic,Nothing},Oceananigans.BoundaryCondition{Oceananigans.Periodic,Nothing}},Oceananigans.CoordinateBoundaryConditions{Oceananigans.BoundaryCondition{Oceananigans.Flux,Nothing},Oceananigans.BoundaryCondition{Oceananigans.Flux,Nothing}}}},NamedTuple{(:x, :y, :z),Tuple{Oceananigans.CoordinateBoundaryConditions{Oceananigans.BoundaryCondition{Oceananigans.Periodic,Nothing},Oceananigans.BoundaryCondition{Oceananigans.Periodic,Nothing}},Oceananigans.CoordinateBoundaryConditions{Oceananigans.BoundaryCondition{Oceananigans.Periodic,Nothing},Oceananigans.BoundaryCondition{Oceananigans.Periodic,Nothing}},Oceananigans.CoordinateBoundaryConditions{Oceananigans.BoundaryCondition{Oceananigans.Flux,Nothing},Oceananigans.BoundaryCondition{Oceananigans.Flux,Nothing}}}},NamedTuple{(:x, :y, :z),Tuple{Oceananigans.CoordinateBoundaryConditions{Oceananigans.BoundaryCondition{Oceananigans.Periodic,Nothing},Oceananigans.BoundaryCondition{Oceananigans.Periodic,Nothing}},Oceananigans.CoordinateBoundaryConditions{Oceananigans.BoundaryCondition{Oceananigans.Periodic,Nothing},Oceananigans.BoundaryCondition{Oceananigans.Periodic,Nothing}},Oceananigans.CoordinateBoundaryConditions{Oceananigans.BoundaryCondition{Oceananigans.NoPenetration,Nothing},Oceananigans.BoundaryCondition{Oceananigans.NoPenetration,Nothing}}}}}},NamedTuple{(:u, :v, :w),Tuple{NamedTuple{(:x, :y, :z),Tuple{Oceananigans.CoordinateBoundaryConditions{Oceananigans.BoundaryCondition{Oceananigans.Periodic,Nothing},Oceananigans.BoundaryCondition{Oceananigans.Periodic,Nothing}},Oceananigans.CoordinateBoundaryConditions{Oceananigans.BoundaryCondition{Oceananigans.Periodic,Nothing},Oceananigans.BoundaryCondition{Oceananigans.Periodic,Nothing}},Oceananigans.CoordinateBoundaryConditions{Oceananigans.BoundaryCondition{Oceananigans.Flux,Nothing},Oceananigans.BoundaryCondition{Oceananigans.Flux,Nothing}}}},NamedTuple{(:x, :y, :z),Tuple{Oceananigans.CoordinateBoundaryConditions{Oceananigans.BoundaryCondition{Oceananigans.Periodic,Nothing},Oceananigans.BoundaryCondition{Oceananigans.Periodic,Nothing}},Oceananigans.CoordinateBoundaryConditions{Oceananigans.BoundaryCondition{Oceananigans.Periodic,Nothing},Oceananigans.BoundaryCondition{Oceananigans.Periodic,Nothing}},Oceananigans.CoordinateBoundaryConditions{Oceananigans.BoundaryCondition{Oceananigans.Flux,Nothing},Oceananigans.BoundaryCondition{Oceananigans.Flux,Nothing}}}},NamedTuple{(:x, :y, :z),Tuple{Oceananigans.CoordinateBoundaryConditions{Oceananigans.BoundaryCondition{Oceananigans.Periodic,Nothing},Oceananigans.BoundaryCondition{Oceananigans.Periodic,Nothing}},Oceananigans.CoordinateBoundaryConditions{Oceananigans.BoundaryCondition{Oceananigans.Periodic,Nothing},Oceananigans.BoundaryCondition{Oceananigans.Periodic,Nothing}},Oceananigans.CoordinateBoundaryConditions{Oceananigans.BoundaryCondition{Oceananigans.NoPenetration,Nothing},Oceananigans.BoundaryCondition{Oceananigans.NoPenetration,Nothing}}}}}},NamedTuple{(:x, :y, :z),Tuple{Oceananigans.CoordinateBoundaryConditions{Oceananigans.BoundaryCondition{Oceananigans.Periodic,Nothing},Oceananigans.BoundaryCondition{Oceananigans.Periodic,Nothing}},Oceananigans.CoordinateBoundaryConditions{Oceananigans.BoundaryCondition{Oceananigans.Periodic,Nothing},Oceananigans.BoundaryCondition{Oceananigans.Periodic,Nothing}},Oceananigans.CoordinateBoundaryConditions{Oceananigans.BoundaryCondition{Oceananigans.Flux,Nothing},Oceananigans.BoundaryCondition{Oceananigans.Flux,Nothing}}}}}},Oceananigans.PoissonSolverCPU{Oceananigans.PPN,Array{Float64,3},Array{Complex{Float64},3},FFTW.cFFTWPlan{Complex{Float64},-1,true,3},FFTW.r2rFFTWPlan{Complex{Float64},(5,),true,3},AbstractFFTs.ScaledPlan{Complex{Float64},FFTW.cFFTWPlan{Complex{Float64},1,true,3},Float64},FFTW.r2rFFTWPlan{Complex{Float64},(4,),true,3}},Nothing,OrderedCollections.OrderedDict{Symbol,Oceananigans.AbstractOutputWriter},OrderedCollections.OrderedDict{Symbol,Oceananigans.AbstractDiagnostic},Nothing}(Oceananigans.CPU(), RegularCartesianGrid{Float64}\n  resolution (Nx, Ny, Nz) = (128, 128, 1)\n   halo size (Hx, Hy, Hz) = (1, 1, 1)\n      domain (Lx, Ly, Lz) = (6.283185307179586, 6.283185307179586, 6.283185307179586)\ngrid spacing (Δx, Δy, Δz) = (0.04908738521234052, 0.04908738521234052, 6.283185307179586), Oceananigans.Clock{Float64}(0.0, 0), nothing, nothing, (u = Field at (Oceananigans.Face, Oceananigans.Cell, Oceananigans.Cell)\n├── data: OffsetArrays.OffsetArray{Float64,3,Array{Float64,3}}\n└── grid: Oceananigans.RegularCartesianGrid{Float64,StepRangeLen{Float64,Base.TwicePrecision{Float64},Base.TwicePrecision{Float64}}}\n    ├── size: (128, 128, 1)\n    └── domain: x ∈ [0.0, 6.283185307179586], y ∈ [0.0, 6.283185307179586], z ∈ [0.0, -6.283185307179586]\n, v = Field at (Oceananigans.Cell, Oceananigans.Face, Oceananigans.Cell)\n├── data: OffsetArrays.OffsetArray{Float64,3,Array{Float64,3}}\n└── grid: Oceananigans.RegularCartesianGrid{Float64,StepRangeLen{Float64,Base.TwicePrecision{Float64},Base.TwicePrecision{Float64}}}\n    ├── size: (128, 128, 1)\n    └── domain: x ∈ [0.0, 6.283185307179586], y ∈ [0.0, 6.283185307179586], z ∈ [0.0, -6.283185307179586]\n, w = Field at (Oceananigans.Cell, Oceananigans.Cell, Oceananigans.Face)\n├── data: OffsetArrays.OffsetArray{Float64,3,Array{Float64,3}}\n└── grid: Oceananigans.RegularCartesianGrid{Float64,StepRangeLen{Float64,Base.TwicePrecision{Float64},Base.TwicePrecision{Float64}}}\n    ├── size: (128, 128, 1)\n    └── domain: x ∈ [0.0, 6.283185307179586], y ∈ [0.0, 6.283185307179586], z ∈ [0.0, -6.283185307179586]\n), NamedTuple(), (pHY′ = Field at (Oceananigans.Cell, Oceananigans.Cell, Oceananigans.Cell)\n├── data: OffsetArrays.OffsetArray{Float64,3,Array{Float64,3}}\n└── grid: Oceananigans.RegularCartesianGrid{Float64,StepRangeLen{Float64,Base.TwicePrecision{Float64},Base.TwicePrecision{Float64}}}\n    ├── size: (128, 128, 1)\n    └── domain: x ∈ [0.0, 6.283185307179586], y ∈ [0.0, 6.283185307179586], z ∈ [0.0, -6.283185307179586]\n, pNHS = Field at (Oceananigans.Cell, Oceananigans.Cell, Oceananigans.Cell)\n├── data: OffsetArrays.OffsetArray{Float64,3,Array{Float64,3}}\n└── grid: Oceananigans.RegularCartesianGrid{Float64,StepRangeLen{Float64,Base.TwicePrecision{Float64},Base.TwicePrecision{Float64}}}\n    ├── size: (128, 128, 1)\n    └── domain: x ∈ [0.0, 6.283185307179586], y ∈ [0.0, 6.283185307179586], z ∈ [0.0, -6.283185307179586]\n), (u = Oceananigans.zeroforcing, v = Oceananigans.zeroforcing, w = Oceananigans.zeroforcing), Oceananigans.TurbulenceClosures.ConstantIsotropicDiffusivity{Float64,NamedTuple{(),Tuple{}}}(0.001, NamedTuple()), (solution = (u = (x = Oceananigans.CoordinateBoundaryConditions{Oceananigans.BoundaryCondition{Oceananigans.Periodic,Nothing},Oceananigans.BoundaryCondition{Oceananigans.Periodic,Nothing}}(Oceananigans.BoundaryCondition{Oceananigans.Periodic,Nothing}(nothing), Oceananigans.BoundaryCondition{Oceananigans.Periodic,Nothing}(nothing)), y = Oceananigans.CoordinateBoundaryConditions{Oceananigans.BoundaryCondition{Oceananigans.Periodic,Nothing},Oceananigans.BoundaryCondition{Oceananigans.Periodic,Nothing}}(Oceananigans.BoundaryCondition{Oceananigans.Periodic,Nothing}(nothing), Oceananigans.BoundaryCondition{Oceananigans.Periodic,Nothing}(nothing)), z = Oceananigans.CoordinateBoundaryConditions{Oceananigans.BoundaryCondition{Oceananigans.Flux,Nothing},Oceananigans.BoundaryCondition{Oceananigans.Flux,Nothing}}(Oceananigans.BoundaryCondition{Oceananigans.Flux,Nothing}(nothing), Oceananigans.BoundaryCondition{Oceananigans.Flux,Nothing}(nothing))), v = (x = Oceananigans.CoordinateBoundaryConditions{Oceananigans.BoundaryCondition{Oceananigans.Periodic,Nothing},Oceananigans.BoundaryCondition{Oceananigans.Periodic,Nothing}}(Oceananigans.BoundaryCondition{Oceananigans.Periodic,Nothing}(nothing), Oceananigans.BoundaryCondition{Oceananigans.Periodic,Nothing}(nothing)), y = Oceananigans.CoordinateBoundaryConditions{Oceananigans.BoundaryCondition{Oceananigans.Periodic,Nothing},Oceananigans.BoundaryCondition{Oceananigans.Periodic,Nothing}}(Oceananigans.BoundaryCondition{Oceananigans.Periodic,Nothing}(nothing), Oceananigans.BoundaryCondition{Oceananigans.Periodic,Nothing}(nothing)), z = Oceananigans.CoordinateBoundaryConditions{Oceananigans.BoundaryCondition{Oceananigans.Flux,Nothing},Oceananigans.BoundaryCondition{Oceananigans.Flux,Nothing}}(Oceananigans.BoundaryCondition{Oceananigans.Flux,Nothing}(nothing), Oceananigans.BoundaryCondition{Oceananigans.Flux,Nothing}(nothing))), w = (x = Oceananigans.CoordinateBoundaryConditions{Oceananigans.BoundaryCondition{Oceananigans.Periodic,Nothing},Oceananigans.BoundaryCondition{Oceananigans.Periodic,Nothing}}(Oceananigans.BoundaryCondition{Oceananigans.Periodic,Nothing}(nothing), Oceananigans.BoundaryCondition{Oceananigans.Periodic,Nothing}(nothing)), y = Oceananigans.CoordinateBoundaryConditions{Oceananigans.BoundaryCondition{Oceananigans.Periodic,Nothing},Oceananigans.BoundaryCondition{Oceananigans.Periodic,Nothing}}(Oceananigans.BoundaryCondition{Oceananigans.Periodic,Nothing}(nothing), Oceananigans.BoundaryCondition{Oceananigans.Periodic,Nothing}(nothing)), z = Oceananigans.CoordinateBoundaryConditions{Oceananigans.BoundaryCondition{Oceananigans.NoPenetration,Nothing},Oceananigans.BoundaryCondition{Oceananigans.NoPenetration,Nothing}}(Oceananigans.BoundaryCondition{Oceananigans.NoPenetration,Nothing}(nothing), Oceananigans.BoundaryCondition{Oceananigans.NoPenetration,Nothing}(nothing)))), tendency = (u = (x = Oceananigans.CoordinateBoundaryConditions{Oceananigans.BoundaryCondition{Oceananigans.Periodic,Nothing},Oceananigans.BoundaryCondition{Oceananigans.Periodic,Nothing}}(Oceananigans.BoundaryCondition{Oceananigans.Periodic,Nothing}(nothing), Oceananigans.BoundaryCondition{Oceananigans.Periodic,Nothing}(nothing)), y = Oceananigans.CoordinateBoundaryConditions{Oceananigans.BoundaryCondition{Oceananigans.Periodic,Nothing},Oceananigans.BoundaryCondition{Oceananigans.Periodic,Nothing}}(Oceananigans.BoundaryCondition{Oceananigans.Periodic,Nothing}(nothing), Oceananigans.BoundaryCondition{Oceananigans.Periodic,Nothing}(nothing)), z = Oceananigans.CoordinateBoundaryConditions{Oceananigans.BoundaryCondition{Oceananigans.Flux,Nothing},Oceananigans.BoundaryCondition{Oceananigans.Flux,Nothing}}(Oceananigans.BoundaryCondition{Oceananigans.Flux,Nothing}(nothing), Oceananigans.BoundaryCondition{Oceananigans.Flux,Nothing}(nothing))), v = (x = Oceananigans.CoordinateBoundaryConditions{Oceananigans.BoundaryCondition{Oceananigans.Periodic,Nothing},Oceananigans.BoundaryCondition{Oceananigans.Periodic,Nothing}}(Oceananigans.BoundaryCondition{Oceananigans.Periodic,Nothing}(nothing), Oceananigans.BoundaryCondition{Oceananigans.Periodic,Nothing}(nothing)), y = Oceananigans.CoordinateBoundaryConditions{Oceananigans.BoundaryCondition{Oceananigans.Periodic,Nothing},Oceananigans.BoundaryCondition{Oceananigans.Periodic,Nothing}}(Oceananigans.BoundaryCondition{Oceananigans.Periodic,Nothing}(nothing), Oceananigans.BoundaryCondition{Oceananigans.Periodic,Nothing}(nothing)), z = Oceananigans.CoordinateBoundaryConditions{Oceananigans.BoundaryCondition{Oceananigans.Flux,Nothing},Oceananigans.BoundaryCondition{Oceananigans.Flux,Nothing}}(Oceananigans.BoundaryCondition{Oceananigans.Flux,Nothing}(nothing), Oceananigans.BoundaryCondition{Oceananigans.Flux,Nothing}(nothing))), w = (x = Oceananigans.CoordinateBoundaryConditions{Oceananigans.BoundaryCondition{Oceananigans.Periodic,Nothing},Oceananigans.BoundaryCondition{Oceananigans.Periodic,Nothing}}(Oceananigans.BoundaryCondition{Oceananigans.Periodic,Nothing}(nothing), Oceananigans.BoundaryCondition{Oceananigans.Periodic,Nothing}(nothing)), y = Oceananigans.CoordinateBoundaryConditions{Oceananigans.BoundaryCondition{Oceananigans.Periodic,Nothing},Oceananigans.BoundaryCondition{Oceananigans.Periodic,Nothing}}(Oceananigans.BoundaryCondition{Oceananigans.Periodic,Nothing}(nothing), Oceananigans.BoundaryCondition{Oceananigans.Periodic,Nothing}(nothing)), z = Oceananigans.CoordinateBoundaryConditions{Oceananigans.BoundaryCondition{Oceananigans.NoPenetration,Nothing},Oceananigans.BoundaryCondition{Oceananigans.NoPenetration,Nothing}}(Oceananigans.BoundaryCondition{Oceananigans.NoPenetration,Nothing}(nothing), Oceananigans.BoundaryCondition{Oceananigans.NoPenetration,Nothing}(nothing)))), pressure = (x = Oceananigans.CoordinateBoundaryConditions{Oceananigans.BoundaryCondition{Oceananigans.Periodic,Nothing},Oceananigans.BoundaryCondition{Oceananigans.Periodic,Nothing}}(Oceananigans.BoundaryCondition{Oceananigans.Periodic,Nothing}(nothing), Oceananigans.BoundaryCondition{Oceananigans.Periodic,Nothing}(nothing)), y = Oceananigans.CoordinateBoundaryConditions{Oceananigans.BoundaryCondition{Oceananigans.Periodic,Nothing},Oceananigans.BoundaryCondition{Oceananigans.Periodic,Nothing}}(Oceananigans.BoundaryCondition{Oceananigans.Periodic,Nothing}(nothing), Oceananigans.BoundaryCondition{Oceananigans.Periodic,Nothing}(nothing)), z = Oceananigans.CoordinateBoundaryConditions{Oceananigans.BoundaryCondition{Oceananigans.Flux,Nothing},Oceananigans.BoundaryCondition{Oceananigans.Flux,Nothing}}(Oceananigans.BoundaryCondition{Oceananigans.Flux,Nothing}(nothing), Oceananigans.BoundaryCondition{Oceananigans.Flux,Nothing}(nothing)))), Oceananigans.AdamsBashforthTimestepper{Float64,NamedTuple{(:u, :v, :w),Tuple{Oceananigans.Field{Oceananigans.Face,Oceananigans.Cell,Oceananigans.Cell,OffsetArrays.OffsetArray{Float64,3,Array{Float64,3}},Oceananigans.RegularCartesianGrid{Float64,StepRangeLen{Float64,Base.TwicePrecision{Float64},Base.TwicePrecision{Float64}}}},Oceananigans.Field{Oceananigans.Cell,Oceananigans.Face,Oceananigans.Cell,OffsetArrays.OffsetArray{Float64,3,Array{Float64,3}},Oceananigans.RegularCartesianGrid{Float64,StepRangeLen{Float64,Base.TwicePrecision{Float64},Base.TwicePrecision{Float64}}}},Oceananigans.Field{Oceananigans.Cell,Oceananigans.Cell,Oceananigans.Face,OffsetArrays.OffsetArray{Float64,3,Array{Float64,3}},Oceananigans.RegularCartesianGrid{Float64,StepRangeLen{Float64,Base.TwicePrecision{Float64},Base.TwicePrecision{Float64}}}}}}}((u = Field at (Oceananigans.Face, Oceananigans.Cell, Oceananigans.Cell)\n├── data: OffsetArrays.OffsetArray{Float64,3,Array{Float64,3}}\n└── grid: Oceananigans.RegularCartesianGrid{Float64,StepRangeLen{Float64,Base.TwicePrecision{Float64},Base.TwicePrecision{Float64}}}\n    ├── size: (128, 128, 1)\n    └── domain: x ∈ [0.0, 6.283185307179586], y ∈ [0.0, 6.283185307179586], z ∈ [0.0, -6.283185307179586]\n, v = Field at (Oceananigans.Cell, Oceananigans.Face, Oceananigans.Cell)\n├── data: OffsetArrays.OffsetArray{Float64,3,Array{Float64,3}}\n└── grid: Oceananigans.RegularCartesianGrid{Float64,StepRangeLen{Float64,Base.TwicePrecision{Float64},Base.TwicePrecision{Float64}}}\n    ├── size: (128, 128, 1)\n    └── domain: x ∈ [0.0, 6.283185307179586], y ∈ [0.0, 6.283185307179586], z ∈ [0.0, -6.283185307179586]\n, w = Field at (Oceananigans.Cell, Oceananigans.Cell, Oceananigans.Face)\n├── data: OffsetArrays.OffsetArray{Float64,3,Array{Float64,3}}\n└── grid: Oceananigans.RegularCartesianGrid{Float64,StepRangeLen{Float64,Base.TwicePrecision{Float64},Base.TwicePrecision{Float64}}}\n    ├── size: (128, 128, 1)\n    └── domain: x ∈ [0.0, 6.283185307179586], y ∈ [0.0, 6.283185307179586], z ∈ [0.0, -6.283185307179586]\n), (u = Field at (Oceananigans.Face, Oceananigans.Cell, Oceananigans.Cell)\n├── data: OffsetArrays.OffsetArray{Float64,3,Array{Float64,3}}\n└── grid: Oceananigans.RegularCartesianGrid{Float64,StepRangeLen{Float64,Base.TwicePrecision{Float64},Base.TwicePrecision{Float64}}}\n    ├── size: (128, 128, 1)\n    └── domain: x ∈ [0.0, 6.283185307179586], y ∈ [0.0, 6.283185307179586], z ∈ [0.0, -6.283185307179586]\n, v = Field at (Oceananigans.Cell, Oceananigans.Face, Oceananigans.Cell)\n├── data: OffsetArrays.OffsetArray{Float64,3,Array{Float64,3}}\n└── grid: Oceananigans.RegularCartesianGrid{Float64,StepRangeLen{Float64,Base.TwicePrecision{Float64},Base.TwicePrecision{Float64}}}\n    ├── size: (128, 128, 1)\n    └── domain: x ∈ [0.0, 6.283185307179586], y ∈ [0.0, 6.283185307179586], z ∈ [0.0, -6.283185307179586]\n, w = Field at (Oceananigans.Cell, Oceananigans.Cell, Oceananigans.Face)\n├── data: OffsetArrays.OffsetArray{Float64,3,Array{Float64,3}}\n└── grid: Oceananigans.RegularCartesianGrid{Float64,StepRangeLen{Float64,Base.TwicePrecision{Float64},Base.TwicePrecision{Float64}}}\n    ├── size: (128, 128, 1)\n    └── domain: x ∈ [0.0, 6.283185307179586], y ∈ [0.0, 6.283185307179586], z ∈ [0.0, -6.283185307179586]\n), 0.125), Oceananigans.PoissonSolverCPU{Oceananigans.PPN,Array{Float64,3},Array{Complex{Float64},3},FFTW.cFFTWPlan{Complex{Float64},-1,true,3},FFTW.r2rFFTWPlan{Complex{Float64},(5,),true,3},AbstractFFTs.ScaledPlan{Complex{Float64},FFTW.cFFTWPlan{Complex{Float64},1,true,3},Float64},FFTW.r2rFFTWPlan{Complex{Float64},(4,),true,3}}(Oceananigans.PPN(), [0.0; 0.9997992185115969; … ; 3.996788270156917; 0.9997992185116003], [0.0 0.9997992185115969 … 3.996788270156917 0.9997992185116003], [0.0], Complex{Float64}[0.0 + 0.0im 0.0 + 0.0im … 0.0 + 0.0im 0.0 + 0.0im; 0.0 + 0.0im 0.0 + 0.0im … 0.0 + 0.0im 0.0 + 0.0im; … ; 0.0 + 0.0im 0.0 + 0.0im … 0.0 + 0.0im 0.0 + 0.0im; 0.0 + 0.0im 0.0 + 0.0im … 0.0 + 0.0im 0.0 + 0.0im], FFTW in-place forward plan for 128×128×1 array of Complex{Float64}\n(dft-rank>=2/1\n  (dft-direct-128-x128 \"n1fv_128_avx2\")\n  (dft-buffered-128-x8/128-6\n    (dft-ct-dit/8\n      (dftw-direct-8/56-x8 \"t2fv_8_avx2\")\n      (dft-vrank>=1-x8/1\n        (dft-direct-16-x8 \"n2fv_16_avx2\")))\n    (dft-r2hc-1\n      (rdft-rank0-iter-co/2-x8-x128))\n    (dft-nop))), FFTW in-place r2r REDFT10 plan for 128×128×1 array of Complex{Float64}\n(redft10e-r2hc-1-x32768\n  (rdft-nop)), 6.103515625e-5 * FFTW in-place backward plan for 128×128×1 array of Complex{Float64}\n(dft-rank>=2/1\n  (dft-direct-128-x128 \"n1bv_128_avx2\")\n  (dft-buffered-128-x8/128-6\n    (dft-ct-dit/8\n      (dftw-direct-8/56-x8 \"t2bv_8_avx2\")\n      (dft-vrank>=1-x8/1\n        (dft-direct-16-x8 \"n2bv_16_avx2\")))\n    (dft-r2hc-1\n      (rdft-rank0-iter-co/2-x8-x128))\n    (dft-nop))), FFTW in-place r2r REDFT01 plan for 128×128×1 array of Complex{Float64}\n(rdft-nop)), nothing, OrderedCollections.OrderedDict{Symbol,Oceananigans.AbstractOutputWriter}(), OrderedCollections.OrderedDict{Symbol,Oceananigans.AbstractDiagnostic}(), nothing)"
     },
     "metadata": {},
     "execution_count": 3
    }
   ],
   "cell_type": "code",
   "source": [
    "model = Model(\n",
    "        grid = RegularCartesianGrid(N=(128, 128, 1), L=(2π, 2π, 2π)),\n",
    "    buoyancy = nothing,\n",
    "     tracers = nothing,\n",
    "     closure = ConstantIsotropicDiffusivity(ν=1e-3, κ=1e-3)\n",
    ")"
   ],
   "metadata": {},
   "execution_count": 3
  },
  {
   "outputs": [],
   "cell_type": "markdown",
   "source": [
    "Our initial condition randomizes `u` and `v`. We also ensure that both have\n",
    "zero mean for purely aesthetic reasons."
   ],
   "metadata": {}
  },
  {
   "outputs": [],
   "cell_type": "code",
   "source": [
    "u₀ = rand(size(model.grid)...)\n",
    "u₀ .-= mean(u₀)\n",
    "\n",
    "set!(model, u=u₀, v=u₀)"
   ],
   "metadata": {},
   "execution_count": 4
  },
  {
   "outputs": [],
   "cell_type": "markdown",
   "source": [
    "Finally, we create the vorticity field for storing `u` and `v`, initialize a\n",
    "figure, and run the model forward"
   ],
   "metadata": {}
  },
  {
   "outputs": [],
   "cell_type": "code",
   "source": [
    "u, v, w = model.velocities\n",
    "vorticity_operation = ∂x(v) - ∂y(u)\n",
    "\n",
    "ω = Field(Face, Face, Cell, model.architecture, model.grid)\n",
    "vorticity_computation = Computation(vorticity_operation, ω)\n",
    "\n",
    "close(\"all\")\n",
    "fig, ax = subplots()\n",
    "\n",
    "for i = 1:10\n",
    "    time_step!(model, Nt=100, Δt=1e-1)\n",
    "\n",
    "    compute!(vorticity_computation)\n",
    "\n",
    "    cla()\n",
    "    imshow(ω[:, :, 1])\n",
    "    ax.axis(\"off\")\n",
    "    pause(0.1)\n",
    "end"
   ],
   "metadata": {},
   "execution_count": 5
  },
  {
   "outputs": [],
   "cell_type": "markdown",
   "source": [
    "*This notebook was generated using [Literate.jl](https://github.com/fredrikekre/Literate.jl).*"
   ],
   "metadata": {}
  }
 ],
 "nbformat_minor": 3,
 "metadata": {
  "language_info": {
   "file_extension": ".jl",
   "mimetype": "application/julia",
   "name": "julia",
   "version": "1.2.0"
  },
  "kernelspec": {
   "name": "julia-1.2",
   "display_name": "Julia 1.2.0",
   "language": "julia"
  }
 },
 "nbformat": 4
}
