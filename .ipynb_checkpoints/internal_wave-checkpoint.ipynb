{
 "cells": [
  {
   "outputs": [],
   "cell_type": "markdown",
   "source": [
    "# Internal wave example\n",
    "\n",
    "In this example, we initialize an internal wave packet in two-dimensions\n",
    "and watch is propagate."
   ],
   "metadata": {}
  },
  {
   "outputs": [
    {
     "name": "stdout",
     "output_type": "stream",
     "text": [
      "┌ Info: Recompiling stale cache file /Users/gregorywagner/.julia/compiled/v1.2/Oceananigans/hU93i.ji for Oceananigans [9e8cae18-63c1-5223-a75c-80ca9d6e9a09]\n",
      "└ @ Base loading.jl:1240\n",
      "WARNING: Method definition overdub(Cassette.Context{N, M, T, P, B, H} where H<:Union{Cassette.DisableHooks, Nothing} where B<:Union{Nothing, Base.IdDict{Module, Base.Dict{Symbol, Cassette.BindingMeta}}} where P<:Cassette.AbstractPass where T<:Union{Nothing, Cassette.Tag{N, X, E} where E where X where N<:Cassette.AbstractContextName} where M where N<:Cassette.AbstractContextName, Any...) in module Cassette at /Users/gregorywagner/.julia/packages/Cassette/YCOeN/src/overdub.jl:524 overwritten in module GPUifyLoops at /Users/gregorywagner/.julia/packages/Cassette/YCOeN/src/overdub.jl:524.\n",
      "  ** incremental compilation may be fatally broken for this module **\n",
      "\n",
      "WARNING: Method definition recurse(Cassette.Context{N, M, T, P, B, H} where H<:Union{Cassette.DisableHooks, Nothing} where B<:Union{Nothing, Base.IdDict{Module, Base.Dict{Symbol, Cassette.BindingMeta}}} where P<:Cassette.AbstractPass where T<:Union{Nothing, Cassette.Tag{N, X, E} where E where X where N<:Cassette.AbstractContextName} where M where N<:Cassette.AbstractContextName, Any...) in module Cassette at /Users/gregorywagner/.julia/packages/Cassette/YCOeN/src/overdub.jl:537 overwritten in module GPUifyLoops at /Users/gregorywagner/.julia/packages/Cassette/YCOeN/src/overdub.jl:537.\n",
      "  ** incremental compilation may be fatally broken for this module **\n",
      "\n"
     ]
    }
   ],
   "cell_type": "code",
   "source": [
    "using Oceananigans, PyPlot, Printf"
   ],
   "metadata": {},
   "execution_count": 1
  },
  {
   "outputs": [],
   "cell_type": "markdown",
   "source": [
    "## Numerical, domain, and internal wave parameters\n",
    "\n",
    "First, we pick some numerical and physical parameters for our model\n",
    "and its rotation rate."
   ],
   "metadata": {}
  },
  {
   "outputs": [
    {
     "output_type": "execute_result",
     "data": {
      "text/plain": "6.283185307179586"
     },
     "metadata": {},
     "execution_count": 2
    }
   ],
   "cell_type": "code",
   "source": [
    "Nx = 128 # resolution\n",
    "Lx = 2π  # domain extent"
   ],
   "metadata": {},
   "execution_count": 2
  },
  {
   "outputs": [],
   "cell_type": "markdown",
   "source": [
    "We set up an internal wave with the pressure field\n",
    "\n",
    "$$ p(x, y, z, t) = a(x, z) cos(kx + mz - \\omega t) $$ .\n",
    "\n",
    "where `m` is the vertical wavenumber, `k` is the horizontal wavenumber,\n",
    "`ω` is the wave frequncy, and `a(x, z)` is a Gaussian envelope."
   ],
   "metadata": {}
  },
  {
   "outputs": [
    {
     "output_type": "execute_result",
     "data": {
      "text/plain": "0.2"
     },
     "metadata": {},
     "execution_count": 3
    }
   ],
   "cell_type": "code",
   "source": [
    "# Non-dimensional internal wave parameters\n",
    "m = 16      # vertical wavenumber\n",
    "k = 1       # horizontal wavenumber\n",
    "N = 1       # buoyancy frequency\n",
    "f = 0.2     # inertial frequency"
   ],
   "metadata": {},
   "execution_count": 3
  },
  {
   "outputs": [],
   "cell_type": "markdown",
   "source": [
    "## A Gaussian wavepacket\n",
    "\n",
    "Next, we set up an initial condition corresponding to a propagating\n",
    "wave packet with a Gaussian envelope. The internal wave dispersion relation yields"
   ],
   "metadata": {}
  },
  {
   "outputs": [
    {
     "output_type": "execute_result",
     "data": {
      "text/plain": "0.20913012351239907"
     },
     "metadata": {},
     "execution_count": 4
    }
   ],
   "cell_type": "code",
   "source": [
    "ω² = (N^2 * k^2 + f^2 * m^2) / (k^2 + m^2)\n",
    "\n",
    "# and thus\n",
    "ω = sqrt(ω²)"
   ],
   "metadata": {},
   "execution_count": 4
  },
  {
   "outputs": [],
   "cell_type": "markdown",
   "source": [
    "The internal wave polarization relations follow from the linearized\n",
    "Boussinesq equations,"
   ],
   "metadata": {}
  },
  {
   "outputs": [
    {
     "output_type": "execute_result",
     "data": {
      "text/plain": "-16.731770833333336"
     },
     "metadata": {},
     "execution_count": 5
    }
   ],
   "cell_type": "code",
   "source": [
    "U = k * ω   / (ω^2 - f^2)\n",
    "V = k * f   / (ω^2 - f^2)\n",
    "W = m * ω   / (ω^2 - N^2)\n",
    "B = m * N^2 / (ω^2 - N^2)"
   ],
   "metadata": {},
   "execution_count": 5
  },
  {
   "outputs": [],
   "cell_type": "markdown",
   "source": [
    "Finally, we set-up a small-amplitude, Gaussian envelope for the wave packet"
   ],
   "metadata": {}
  },
  {
   "outputs": [
    {
     "output_type": "execute_result",
     "data": {
      "text/plain": "a (generic function with 1 method)"
     },
     "metadata": {},
     "execution_count": 6
    }
   ],
   "cell_type": "code",
   "source": [
    "# Some Gaussian parameters\n",
    "A, x₀, z₀, δ = 1e-9, Lx/2, -Lx/2, Lx/15\n",
    "\n",
    "# A Gaussian envelope\n",
    "a(x, z) = A * exp( -( (x - x₀)^2 + (z - z₀)^2 ) / 2δ^2 )"
   ],
   "metadata": {},
   "execution_count": 6
  },
  {
   "outputs": [],
   "cell_type": "markdown",
   "source": [
    "Create initial condition functions"
   ],
   "metadata": {}
  },
  {
   "outputs": [
    {
     "output_type": "execute_result",
     "data": {
      "text/plain": "b₀ (generic function with 1 method)"
     },
     "metadata": {},
     "execution_count": 7
    }
   ],
   "cell_type": "code",
   "source": [
    "u₀(x, y, z) = a(x, z) * U * cos(k*x + m*z)\n",
    "v₀(x, y, z) = a(x, z) * V * sin(k*x + m*z)\n",
    "w₀(x, y, z) = a(x, z) * W * cos(k*x + m*z)\n",
    "b₀(x, y, z) = a(x, z) * B * sin(k*x + m*z) + N^2 * z"
   ],
   "metadata": {},
   "execution_count": 7
  },
  {
   "outputs": [],
   "cell_type": "markdown",
   "source": [
    "We are now ready to instantiate our model on a uniform grid.\n",
    "We give the model a constant rotation rate with background vorticity `f`,\n",
    "use temperature as a buoyancy tracer, and use a small constant viscosity\n",
    "and diffusivity to stabilize the model."
   ],
   "metadata": {}
  },
  {
   "outputs": [
    {
     "output_type": "execute_result",
     "data": {
      "text/plain": "Oceananigans.Model{Oceananigans.AdamsBashforthTimestepper{Float64,NamedTuple{(:u, :v, :w, :b),Tuple{Oceananigans.Field{Oceananigans.Face,Oceananigans.Cell,Oceananigans.Cell,OffsetArrays.OffsetArray{Float64,3,Array{Float64,3}},Oceananigans.RegularCartesianGrid{Float64,StepRangeLen{Float64,Base.TwicePrecision{Float64},Base.TwicePrecision{Float64}}}},Oceananigans.Field{Oceananigans.Cell,Oceananigans.Face,Oceananigans.Cell,OffsetArrays.OffsetArray{Float64,3,Array{Float64,3}},Oceananigans.RegularCartesianGrid{Float64,StepRangeLen{Float64,Base.TwicePrecision{Float64},Base.TwicePrecision{Float64}}}},Oceananigans.Field{Oceananigans.Cell,Oceananigans.Cell,Oceananigans.Face,OffsetArrays.OffsetArray{Float64,3,Array{Float64,3}},Oceananigans.RegularCartesianGrid{Float64,StepRangeLen{Float64,Base.TwicePrecision{Float64},Base.TwicePrecision{Float64}}}},Oceananigans.Field{Oceananigans.Cell,Oceananigans.Cell,Oceananigans.Cell,OffsetArrays.OffsetArray{Float64,3,Array{Float64,3}},Oceananigans.RegularCartesianGrid{Float64,StepRangeLen{Float64,Base.TwicePrecision{Float64},Base.TwicePrecision{Float64}}}}}}},Oceananigans.TurbulenceClosures.ConstantIsotropicDiffusivity{Float64,NamedTuple{(:b,),Tuple{Float64}}},Oceananigans.CPU,Oceananigans.RegularCartesianGrid{Float64,StepRangeLen{Float64,Base.TwicePrecision{Float64},Base.TwicePrecision{Float64}}},Float64,Oceananigans.BuoyancyTracer,Oceananigans.FPlane{Float64},NamedTuple{(:u, :v, :w),Tuple{Oceananigans.Field{Oceananigans.Face,Oceananigans.Cell,Oceananigans.Cell,OffsetArrays.OffsetArray{Float64,3,Array{Float64,3}},Oceananigans.RegularCartesianGrid{Float64,StepRangeLen{Float64,Base.TwicePrecision{Float64},Base.TwicePrecision{Float64}}}},Oceananigans.Field{Oceananigans.Cell,Oceananigans.Face,Oceananigans.Cell,OffsetArrays.OffsetArray{Float64,3,Array{Float64,3}},Oceananigans.RegularCartesianGrid{Float64,StepRangeLen{Float64,Base.TwicePrecision{Float64},Base.TwicePrecision{Float64}}}},Oceananigans.Field{Oceananigans.Cell,Oceananigans.Cell,Oceananigans.Face,OffsetArrays.OffsetArray{Float64,3,Array{Float64,3}},Oceananigans.RegularCartesianGrid{Float64,StepRangeLen{Float64,Base.TwicePrecision{Float64},Base.TwicePrecision{Float64}}}}}},NamedTuple{(:b,),Tuple{Oceananigans.Field{Oceananigans.Cell,Oceananigans.Cell,Oceananigans.Cell,OffsetArrays.OffsetArray{Float64,3,Array{Float64,3}},Oceananigans.RegularCartesianGrid{Float64,StepRangeLen{Float64,Base.TwicePrecision{Float64},Base.TwicePrecision{Float64}}}}}},NamedTuple{(:pHY′, :pNHS),Tuple{Oceananigans.Field{Oceananigans.Cell,Oceananigans.Cell,Oceananigans.Cell,OffsetArrays.OffsetArray{Float64,3,Array{Float64,3}},Oceananigans.RegularCartesianGrid{Float64,StepRangeLen{Float64,Base.TwicePrecision{Float64},Base.TwicePrecision{Float64}}}},Oceananigans.Field{Oceananigans.Cell,Oceananigans.Cell,Oceananigans.Cell,OffsetArrays.OffsetArray{Float64,3,Array{Float64,3}},Oceananigans.RegularCartesianGrid{Float64,StepRangeLen{Float64,Base.TwicePrecision{Float64},Base.TwicePrecision{Float64}}}}}},NamedTuple{(:u, :v, :w, :b),NTuple{4,typeof(Oceananigans.zeroforcing)}},NamedTuple{(:solution, :tendency, :pressure),Tuple{NamedTuple{(:u, :v, :w, :b),Tuple{NamedTuple{(:x, :y, :z),Tuple{Oceananigans.CoordinateBoundaryConditions{Oceananigans.BoundaryCondition{Oceananigans.Periodic,Nothing},Oceananigans.BoundaryCondition{Oceananigans.Periodic,Nothing}},Oceananigans.CoordinateBoundaryConditions{Oceananigans.BoundaryCondition{Oceananigans.Periodic,Nothing},Oceananigans.BoundaryCondition{Oceananigans.Periodic,Nothing}},Oceananigans.CoordinateBoundaryConditions{Oceananigans.BoundaryCondition{Oceananigans.Flux,Nothing},Oceananigans.BoundaryCondition{Oceananigans.Flux,Nothing}}}},NamedTuple{(:x, :y, :z),Tuple{Oceananigans.CoordinateBoundaryConditions{Oceananigans.BoundaryCondition{Oceananigans.Periodic,Nothing},Oceananigans.BoundaryCondition{Oceananigans.Periodic,Nothing}},Oceananigans.CoordinateBoundaryConditions{Oceananigans.BoundaryCondition{Oceananigans.Periodic,Nothing},Oceananigans.BoundaryCondition{Oceananigans.Periodic,Nothing}},Oceananigans.CoordinateBoundaryConditions{Oceananigans.BoundaryCondition{Oceananigans.Flux,Nothing},Oceananigans.BoundaryCondition{Oceananigans.Flux,Nothing}}}},NamedTuple{(:x, :y, :z),Tuple{Oceananigans.CoordinateBoundaryConditions{Oceananigans.BoundaryCondition{Oceananigans.Periodic,Nothing},Oceananigans.BoundaryCondition{Oceananigans.Periodic,Nothing}},Oceananigans.CoordinateBoundaryConditions{Oceananigans.BoundaryCondition{Oceananigans.Periodic,Nothing},Oceananigans.BoundaryCondition{Oceananigans.Periodic,Nothing}},Oceananigans.CoordinateBoundaryConditions{Oceananigans.BoundaryCondition{Oceananigans.NoPenetration,Nothing},Oceananigans.BoundaryCondition{Oceananigans.NoPenetration,Nothing}}}},NamedTuple{(:x, :y, :z),Tuple{Oceananigans.CoordinateBoundaryConditions{Oceananigans.BoundaryCondition{Oceananigans.Periodic,Nothing},Oceananigans.BoundaryCondition{Oceananigans.Periodic,Nothing}},Oceananigans.CoordinateBoundaryConditions{Oceananigans.BoundaryCondition{Oceananigans.Periodic,Nothing},Oceananigans.BoundaryCondition{Oceananigans.Periodic,Nothing}},Oceananigans.CoordinateBoundaryConditions{Oceananigans.BoundaryCondition{Oceananigans.Flux,Nothing},Oceananigans.BoundaryCondition{Oceananigans.Flux,Nothing}}}}}},NamedTuple{(:u, :v, :w, :b),Tuple{NamedTuple{(:x, :y, :z),Tuple{Oceananigans.CoordinateBoundaryConditions{Oceananigans.BoundaryCondition{Oceananigans.Periodic,Nothing},Oceananigans.BoundaryCondition{Oceananigans.Periodic,Nothing}},Oceananigans.CoordinateBoundaryConditions{Oceananigans.BoundaryCondition{Oceananigans.Periodic,Nothing},Oceananigans.BoundaryCondition{Oceananigans.Periodic,Nothing}},Oceananigans.CoordinateBoundaryConditions{Oceananigans.BoundaryCondition{Oceananigans.Flux,Nothing},Oceananigans.BoundaryCondition{Oceananigans.Flux,Nothing}}}},NamedTuple{(:x, :y, :z),Tuple{Oceananigans.CoordinateBoundaryConditions{Oceananigans.BoundaryCondition{Oceananigans.Periodic,Nothing},Oceananigans.BoundaryCondition{Oceananigans.Periodic,Nothing}},Oceananigans.CoordinateBoundaryConditions{Oceananigans.BoundaryCondition{Oceananigans.Periodic,Nothing},Oceananigans.BoundaryCondition{Oceananigans.Periodic,Nothing}},Oceananigans.CoordinateBoundaryConditions{Oceananigans.BoundaryCondition{Oceananigans.Flux,Nothing},Oceananigans.BoundaryCondition{Oceananigans.Flux,Nothing}}}},NamedTuple{(:x, :y, :z),Tuple{Oceananigans.CoordinateBoundaryConditions{Oceananigans.BoundaryCondition{Oceananigans.Periodic,Nothing},Oceananigans.BoundaryCondition{Oceananigans.Periodic,Nothing}},Oceananigans.CoordinateBoundaryConditions{Oceananigans.BoundaryCondition{Oceananigans.Periodic,Nothing},Oceananigans.BoundaryCondition{Oceananigans.Periodic,Nothing}},Oceananigans.CoordinateBoundaryConditions{Oceananigans.BoundaryCondition{Oceananigans.NoPenetration,Nothing},Oceananigans.BoundaryCondition{Oceananigans.NoPenetration,Nothing}}}},NamedTuple{(:x, :y, :z),Tuple{Oceananigans.CoordinateBoundaryConditions{Oceananigans.BoundaryCondition{Oceananigans.Periodic,Nothing},Oceananigans.BoundaryCondition{Oceananigans.Periodic,Nothing}},Oceananigans.CoordinateBoundaryConditions{Oceananigans.BoundaryCondition{Oceananigans.Periodic,Nothing},Oceananigans.BoundaryCondition{Oceananigans.Periodic,Nothing}},Oceananigans.CoordinateBoundaryConditions{Oceananigans.BoundaryCondition{Oceananigans.Flux,Nothing},Oceananigans.BoundaryCondition{Oceananigans.Flux,Nothing}}}}}},NamedTuple{(:x, :y, :z),Tuple{Oceananigans.CoordinateBoundaryConditions{Oceananigans.BoundaryCondition{Oceananigans.Periodic,Nothing},Oceananigans.BoundaryCondition{Oceananigans.Periodic,Nothing}},Oceananigans.CoordinateBoundaryConditions{Oceananigans.BoundaryCondition{Oceananigans.Periodic,Nothing},Oceananigans.BoundaryCondition{Oceananigans.Periodic,Nothing}},Oceananigans.CoordinateBoundaryConditions{Oceananigans.BoundaryCondition{Oceananigans.Flux,Nothing},Oceananigans.BoundaryCondition{Oceananigans.Flux,Nothing}}}}}},Oceananigans.PoissonSolverCPU{Oceananigans.PPN,Array{Float64,3},Array{Complex{Float64},3},FFTW.cFFTWPlan{Complex{Float64},-1,true,3},FFTW.r2rFFTWPlan{Complex{Float64},(5,),true,3},AbstractFFTs.ScaledPlan{Complex{Float64},FFTW.cFFTWPlan{Complex{Float64},1,true,3},Float64},FFTW.r2rFFTWPlan{Complex{Float64},(4,),true,3}},Nothing,OrderedCollections.OrderedDict{Symbol,Oceananigans.AbstractOutputWriter},OrderedCollections.OrderedDict{Symbol,Oceananigans.AbstractDiagnostic},Nothing}(Oceananigans.CPU(), RegularCartesianGrid{Float64}\n  resolution (Nx, Ny, Nz) = (128, 1, 128)\n   halo size (Hx, Hy, Hz) = (1, 1, 1)\n      domain (Lx, Ly, Lz) = (6.283185307179586, 6.283185307179586, 6.283185307179586)\ngrid spacing (Δx, Δy, Δz) = (0.04908738521234052, 6.283185307179586, 0.04908738521234052), Oceananigans.Clock{Float64}(0.0, 0), Oceananigans.BuoyancyTracer(), Oceananigans.FPlane{Float64}(0.2), (u = Field at (Oceananigans.Face, Oceananigans.Cell, Oceananigans.Cell)\n├── data: OffsetArrays.OffsetArray{Float64,3,Array{Float64,3}}\n└── grid: Oceananigans.RegularCartesianGrid{Float64,StepRangeLen{Float64,Base.TwicePrecision{Float64},Base.TwicePrecision{Float64}}}\n    ├── size: (128, 1, 128)\n    └── domain: x ∈ [0.0, 6.283185307179586], y ∈ [0.0, 6.283185307179586], z ∈ [0.0, -6.283185307179586]\n, v = Field at (Oceananigans.Cell, Oceananigans.Face, Oceananigans.Cell)\n├── data: OffsetArrays.OffsetArray{Float64,3,Array{Float64,3}}\n└── grid: Oceananigans.RegularCartesianGrid{Float64,StepRangeLen{Float64,Base.TwicePrecision{Float64},Base.TwicePrecision{Float64}}}\n    ├── size: (128, 1, 128)\n    └── domain: x ∈ [0.0, 6.283185307179586], y ∈ [0.0, 6.283185307179586], z ∈ [0.0, -6.283185307179586]\n, w = Field at (Oceananigans.Cell, Oceananigans.Cell, Oceananigans.Face)\n├── data: OffsetArrays.OffsetArray{Float64,3,Array{Float64,3}}\n└── grid: Oceananigans.RegularCartesianGrid{Float64,StepRangeLen{Float64,Base.TwicePrecision{Float64},Base.TwicePrecision{Float64}}}\n    ├── size: (128, 1, 128)\n    └── domain: x ∈ [0.0, 6.283185307179586], y ∈ [0.0, 6.283185307179586], z ∈ [0.0, -6.283185307179586]\n), (b = Field at (Oceananigans.Cell, Oceananigans.Cell, Oceananigans.Cell)\n├── data: OffsetArrays.OffsetArray{Float64,3,Array{Float64,3}}\n└── grid: Oceananigans.RegularCartesianGrid{Float64,StepRangeLen{Float64,Base.TwicePrecision{Float64},Base.TwicePrecision{Float64}}}\n    ├── size: (128, 1, 128)\n    └── domain: x ∈ [0.0, 6.283185307179586], y ∈ [0.0, 6.283185307179586], z ∈ [0.0, -6.283185307179586]\n,), (pHY′ = Field at (Oceananigans.Cell, Oceananigans.Cell, Oceananigans.Cell)\n├── data: OffsetArrays.OffsetArray{Float64,3,Array{Float64,3}}\n└── grid: Oceananigans.RegularCartesianGrid{Float64,StepRangeLen{Float64,Base.TwicePrecision{Float64},Base.TwicePrecision{Float64}}}\n    ├── size: (128, 1, 128)\n    └── domain: x ∈ [0.0, 6.283185307179586], y ∈ [0.0, 6.283185307179586], z ∈ [0.0, -6.283185307179586]\n, pNHS = Field at (Oceananigans.Cell, Oceananigans.Cell, Oceananigans.Cell)\n├── data: OffsetArrays.OffsetArray{Float64,3,Array{Float64,3}}\n└── grid: Oceananigans.RegularCartesianGrid{Float64,StepRangeLen{Float64,Base.TwicePrecision{Float64},Base.TwicePrecision{Float64}}}\n    ├── size: (128, 1, 128)\n    └── domain: x ∈ [0.0, 6.283185307179586], y ∈ [0.0, 6.283185307179586], z ∈ [0.0, -6.283185307179586]\n), (u = Oceananigans.zeroforcing, v = Oceananigans.zeroforcing, w = Oceananigans.zeroforcing, b = Oceananigans.zeroforcing), Oceananigans.TurbulenceClosures.ConstantIsotropicDiffusivity{Float64,NamedTuple{(:b,),Tuple{Float64}}}(1.0e-6, (b = 1.0e-6,)), (solution = (u = (x = Oceananigans.CoordinateBoundaryConditions{Oceananigans.BoundaryCondition{Oceananigans.Periodic,Nothing},Oceananigans.BoundaryCondition{Oceananigans.Periodic,Nothing}}(Oceananigans.BoundaryCondition{Oceananigans.Periodic,Nothing}(nothing), Oceananigans.BoundaryCondition{Oceananigans.Periodic,Nothing}(nothing)), y = Oceananigans.CoordinateBoundaryConditions{Oceananigans.BoundaryCondition{Oceananigans.Periodic,Nothing},Oceananigans.BoundaryCondition{Oceananigans.Periodic,Nothing}}(Oceananigans.BoundaryCondition{Oceananigans.Periodic,Nothing}(nothing), Oceananigans.BoundaryCondition{Oceananigans.Periodic,Nothing}(nothing)), z = Oceananigans.CoordinateBoundaryConditions{Oceananigans.BoundaryCondition{Oceananigans.Flux,Nothing},Oceananigans.BoundaryCondition{Oceananigans.Flux,Nothing}}(Oceananigans.BoundaryCondition{Oceananigans.Flux,Nothing}(nothing), Oceananigans.BoundaryCondition{Oceananigans.Flux,Nothing}(nothing))), v = (x = Oceananigans.CoordinateBoundaryConditions{Oceananigans.BoundaryCondition{Oceananigans.Periodic,Nothing},Oceananigans.BoundaryCondition{Oceananigans.Periodic,Nothing}}(Oceananigans.BoundaryCondition{Oceananigans.Periodic,Nothing}(nothing), Oceananigans.BoundaryCondition{Oceananigans.Periodic,Nothing}(nothing)), y = Oceananigans.CoordinateBoundaryConditions{Oceananigans.BoundaryCondition{Oceananigans.Periodic,Nothing},Oceananigans.BoundaryCondition{Oceananigans.Periodic,Nothing}}(Oceananigans.BoundaryCondition{Oceananigans.Periodic,Nothing}(nothing), Oceananigans.BoundaryCondition{Oceananigans.Periodic,Nothing}(nothing)), z = Oceananigans.CoordinateBoundaryConditions{Oceananigans.BoundaryCondition{Oceananigans.Flux,Nothing},Oceananigans.BoundaryCondition{Oceananigans.Flux,Nothing}}(Oceananigans.BoundaryCondition{Oceananigans.Flux,Nothing}(nothing), Oceananigans.BoundaryCondition{Oceananigans.Flux,Nothing}(nothing))), w = (x = Oceananigans.CoordinateBoundaryConditions{Oceananigans.BoundaryCondition{Oceananigans.Periodic,Nothing},Oceananigans.BoundaryCondition{Oceananigans.Periodic,Nothing}}(Oceananigans.BoundaryCondition{Oceananigans.Periodic,Nothing}(nothing), Oceananigans.BoundaryCondition{Oceananigans.Periodic,Nothing}(nothing)), y = Oceananigans.CoordinateBoundaryConditions{Oceananigans.BoundaryCondition{Oceananigans.Periodic,Nothing},Oceananigans.BoundaryCondition{Oceananigans.Periodic,Nothing}}(Oceananigans.BoundaryCondition{Oceananigans.Periodic,Nothing}(nothing), Oceananigans.BoundaryCondition{Oceananigans.Periodic,Nothing}(nothing)), z = Oceananigans.CoordinateBoundaryConditions{Oceananigans.BoundaryCondition{Oceananigans.NoPenetration,Nothing},Oceananigans.BoundaryCondition{Oceananigans.NoPenetration,Nothing}}(Oceananigans.BoundaryCondition{Oceananigans.NoPenetration,Nothing}(nothing), Oceananigans.BoundaryCondition{Oceananigans.NoPenetration,Nothing}(nothing))), b = (x = Oceananigans.CoordinateBoundaryConditions{Oceananigans.BoundaryCondition{Oceananigans.Periodic,Nothing},Oceananigans.BoundaryCondition{Oceananigans.Periodic,Nothing}}(Oceananigans.BoundaryCondition{Oceananigans.Periodic,Nothing}(nothing), Oceananigans.BoundaryCondition{Oceananigans.Periodic,Nothing}(nothing)), y = Oceananigans.CoordinateBoundaryConditions{Oceananigans.BoundaryCondition{Oceananigans.Periodic,Nothing},Oceananigans.BoundaryCondition{Oceananigans.Periodic,Nothing}}(Oceananigans.BoundaryCondition{Oceananigans.Periodic,Nothing}(nothing), Oceananigans.BoundaryCondition{Oceananigans.Periodic,Nothing}(nothing)), z = Oceananigans.CoordinateBoundaryConditions{Oceananigans.BoundaryCondition{Oceananigans.Flux,Nothing},Oceananigans.BoundaryCondition{Oceananigans.Flux,Nothing}}(Oceananigans.BoundaryCondition{Oceananigans.Flux,Nothing}(nothing), Oceananigans.BoundaryCondition{Oceananigans.Flux,Nothing}(nothing)))), tendency = (u = (x = Oceananigans.CoordinateBoundaryConditions{Oceananigans.BoundaryCondition{Oceananigans.Periodic,Nothing},Oceananigans.BoundaryCondition{Oceananigans.Periodic,Nothing}}(Oceananigans.BoundaryCondition{Oceananigans.Periodic,Nothing}(nothing), Oceananigans.BoundaryCondition{Oceananigans.Periodic,Nothing}(nothing)), y = Oceananigans.CoordinateBoundaryConditions{Oceananigans.BoundaryCondition{Oceananigans.Periodic,Nothing},Oceananigans.BoundaryCondition{Oceananigans.Periodic,Nothing}}(Oceananigans.BoundaryCondition{Oceananigans.Periodic,Nothing}(nothing), Oceananigans.BoundaryCondition{Oceananigans.Periodic,Nothing}(nothing)), z = Oceananigans.CoordinateBoundaryConditions{Oceananigans.BoundaryCondition{Oceananigans.Flux,Nothing},Oceananigans.BoundaryCondition{Oceananigans.Flux,Nothing}}(Oceananigans.BoundaryCondition{Oceananigans.Flux,Nothing}(nothing), Oceananigans.BoundaryCondition{Oceananigans.Flux,Nothing}(nothing))), v = (x = Oceananigans.CoordinateBoundaryConditions{Oceananigans.BoundaryCondition{Oceananigans.Periodic,Nothing},Oceananigans.BoundaryCondition{Oceananigans.Periodic,Nothing}}(Oceananigans.BoundaryCondition{Oceananigans.Periodic,Nothing}(nothing), Oceananigans.BoundaryCondition{Oceananigans.Periodic,Nothing}(nothing)), y = Oceananigans.CoordinateBoundaryConditions{Oceananigans.BoundaryCondition{Oceananigans.Periodic,Nothing},Oceananigans.BoundaryCondition{Oceananigans.Periodic,Nothing}}(Oceananigans.BoundaryCondition{Oceananigans.Periodic,Nothing}(nothing), Oceananigans.BoundaryCondition{Oceananigans.Periodic,Nothing}(nothing)), z = Oceananigans.CoordinateBoundaryConditions{Oceananigans.BoundaryCondition{Oceananigans.Flux,Nothing},Oceananigans.BoundaryCondition{Oceananigans.Flux,Nothing}}(Oceananigans.BoundaryCondition{Oceananigans.Flux,Nothing}(nothing), Oceananigans.BoundaryCondition{Oceananigans.Flux,Nothing}(nothing))), w = (x = Oceananigans.CoordinateBoundaryConditions{Oceananigans.BoundaryCondition{Oceananigans.Periodic,Nothing},Oceananigans.BoundaryCondition{Oceananigans.Periodic,Nothing}}(Oceananigans.BoundaryCondition{Oceananigans.Periodic,Nothing}(nothing), Oceananigans.BoundaryCondition{Oceananigans.Periodic,Nothing}(nothing)), y = Oceananigans.CoordinateBoundaryConditions{Oceananigans.BoundaryCondition{Oceananigans.Periodic,Nothing},Oceananigans.BoundaryCondition{Oceananigans.Periodic,Nothing}}(Oceananigans.BoundaryCondition{Oceananigans.Periodic,Nothing}(nothing), Oceananigans.BoundaryCondition{Oceananigans.Periodic,Nothing}(nothing)), z = Oceananigans.CoordinateBoundaryConditions{Oceananigans.BoundaryCondition{Oceananigans.NoPenetration,Nothing},Oceananigans.BoundaryCondition{Oceananigans.NoPenetration,Nothing}}(Oceananigans.BoundaryCondition{Oceananigans.NoPenetration,Nothing}(nothing), Oceananigans.BoundaryCondition{Oceananigans.NoPenetration,Nothing}(nothing))), b = (x = Oceananigans.CoordinateBoundaryConditions{Oceananigans.BoundaryCondition{Oceananigans.Periodic,Nothing},Oceananigans.BoundaryCondition{Oceananigans.Periodic,Nothing}}(Oceananigans.BoundaryCondition{Oceananigans.Periodic,Nothing}(nothing), Oceananigans.BoundaryCondition{Oceananigans.Periodic,Nothing}(nothing)), y = Oceananigans.CoordinateBoundaryConditions{Oceananigans.BoundaryCondition{Oceananigans.Periodic,Nothing},Oceananigans.BoundaryCondition{Oceananigans.Periodic,Nothing}}(Oceananigans.BoundaryCondition{Oceananigans.Periodic,Nothing}(nothing), Oceananigans.BoundaryCondition{Oceananigans.Periodic,Nothing}(nothing)), z = Oceananigans.CoordinateBoundaryConditions{Oceananigans.BoundaryCondition{Oceananigans.Flux,Nothing},Oceananigans.BoundaryCondition{Oceananigans.Flux,Nothing}}(Oceananigans.BoundaryCondition{Oceananigans.Flux,Nothing}(nothing), Oceananigans.BoundaryCondition{Oceananigans.Flux,Nothing}(nothing)))), pressure = (x = Oceananigans.CoordinateBoundaryConditions{Oceananigans.BoundaryCondition{Oceananigans.Periodic,Nothing},Oceananigans.BoundaryCondition{Oceananigans.Periodic,Nothing}}(Oceananigans.BoundaryCondition{Oceananigans.Periodic,Nothing}(nothing), Oceananigans.BoundaryCondition{Oceananigans.Periodic,Nothing}(nothing)), y = Oceananigans.CoordinateBoundaryConditions{Oceananigans.BoundaryCondition{Oceananigans.Periodic,Nothing},Oceananigans.BoundaryCondition{Oceananigans.Periodic,Nothing}}(Oceananigans.BoundaryCondition{Oceananigans.Periodic,Nothing}(nothing), Oceananigans.BoundaryCondition{Oceananigans.Periodic,Nothing}(nothing)), z = Oceananigans.CoordinateBoundaryConditions{Oceananigans.BoundaryCondition{Oceananigans.Flux,Nothing},Oceananigans.BoundaryCondition{Oceananigans.Flux,Nothing}}(Oceananigans.BoundaryCondition{Oceananigans.Flux,Nothing}(nothing), Oceananigans.BoundaryCondition{Oceananigans.Flux,Nothing}(nothing)))), Oceananigans.AdamsBashforthTimestepper{Float64,NamedTuple{(:u, :v, :w, :b),Tuple{Oceananigans.Field{Oceananigans.Face,Oceananigans.Cell,Oceananigans.Cell,OffsetArrays.OffsetArray{Float64,3,Array{Float64,3}},Oceananigans.RegularCartesianGrid{Float64,StepRangeLen{Float64,Base.TwicePrecision{Float64},Base.TwicePrecision{Float64}}}},Oceananigans.Field{Oceananigans.Cell,Oceananigans.Face,Oceananigans.Cell,OffsetArrays.OffsetArray{Float64,3,Array{Float64,3}},Oceananigans.RegularCartesianGrid{Float64,StepRangeLen{Float64,Base.TwicePrecision{Float64},Base.TwicePrecision{Float64}}}},Oceananigans.Field{Oceananigans.Cell,Oceananigans.Cell,Oceananigans.Face,OffsetArrays.OffsetArray{Float64,3,Array{Float64,3}},Oceananigans.RegularCartesianGrid{Float64,StepRangeLen{Float64,Base.TwicePrecision{Float64},Base.TwicePrecision{Float64}}}},Oceananigans.Field{Oceananigans.Cell,Oceananigans.Cell,Oceananigans.Cell,OffsetArrays.OffsetArray{Float64,3,Array{Float64,3}},Oceananigans.RegularCartesianGrid{Float64,StepRangeLen{Float64,Base.TwicePrecision{Float64},Base.TwicePrecision{Float64}}}}}}}((u = Field at (Oceananigans.Face, Oceananigans.Cell, Oceananigans.Cell)\n├── data: OffsetArrays.OffsetArray{Float64,3,Array{Float64,3}}\n└── grid: Oceananigans.RegularCartesianGrid{Float64,StepRangeLen{Float64,Base.TwicePrecision{Float64},Base.TwicePrecision{Float64}}}\n    ├── size: (128, 1, 128)\n    └── domain: x ∈ [0.0, 6.283185307179586], y ∈ [0.0, 6.283185307179586], z ∈ [0.0, -6.283185307179586]\n, v = Field at (Oceananigans.Cell, Oceananigans.Face, Oceananigans.Cell)\n├── data: OffsetArrays.OffsetArray{Float64,3,Array{Float64,3}}\n└── grid: Oceananigans.RegularCartesianGrid{Float64,StepRangeLen{Float64,Base.TwicePrecision{Float64},Base.TwicePrecision{Float64}}}\n    ├── size: (128, 1, 128)\n    └── domain: x ∈ [0.0, 6.283185307179586], y ∈ [0.0, 6.283185307179586], z ∈ [0.0, -6.283185307179586]\n, w = Field at (Oceananigans.Cell, Oceananigans.Cell, Oceananigans.Face)\n├── data: OffsetArrays.OffsetArray{Float64,3,Array{Float64,3}}\n└── grid: Oceananigans.RegularCartesianGrid{Float64,StepRangeLen{Float64,Base.TwicePrecision{Float64},Base.TwicePrecision{Float64}}}\n    ├── size: (128, 1, 128)\n    └── domain: x ∈ [0.0, 6.283185307179586], y ∈ [0.0, 6.283185307179586], z ∈ [0.0, -6.283185307179586]\n, b = Field at (Oceananigans.Cell, Oceananigans.Cell, Oceananigans.Cell)\n├── data: OffsetArrays.OffsetArray{Float64,3,Array{Float64,3}}\n└── grid: Oceananigans.RegularCartesianGrid{Float64,StepRangeLen{Float64,Base.TwicePrecision{Float64},Base.TwicePrecision{Float64}}}\n    ├── size: (128, 1, 128)\n    └── domain: x ∈ [0.0, 6.283185307179586], y ∈ [0.0, 6.283185307179586], z ∈ [0.0, -6.283185307179586]\n), (u = Field at (Oceananigans.Face, Oceananigans.Cell, Oceananigans.Cell)\n├── data: OffsetArrays.OffsetArray{Float64,3,Array{Float64,3}}\n└── grid: Oceananigans.RegularCartesianGrid{Float64,StepRangeLen{Float64,Base.TwicePrecision{Float64},Base.TwicePrecision{Float64}}}\n    ├── size: (128, 1, 128)\n    └── domain: x ∈ [0.0, 6.283185307179586], y ∈ [0.0, 6.283185307179586], z ∈ [0.0, -6.283185307179586]\n, v = Field at (Oceananigans.Cell, Oceananigans.Face, Oceananigans.Cell)\n├── data: OffsetArrays.OffsetArray{Float64,3,Array{Float64,3}}\n└── grid: Oceananigans.RegularCartesianGrid{Float64,StepRangeLen{Float64,Base.TwicePrecision{Float64},Base.TwicePrecision{Float64}}}\n    ├── size: (128, 1, 128)\n    └── domain: x ∈ [0.0, 6.283185307179586], y ∈ [0.0, 6.283185307179586], z ∈ [0.0, -6.283185307179586]\n, w = Field at (Oceananigans.Cell, Oceananigans.Cell, Oceananigans.Face)\n├── data: OffsetArrays.OffsetArray{Float64,3,Array{Float64,3}}\n└── grid: Oceananigans.RegularCartesianGrid{Float64,StepRangeLen{Float64,Base.TwicePrecision{Float64},Base.TwicePrecision{Float64}}}\n    ├── size: (128, 1, 128)\n    └── domain: x ∈ [0.0, 6.283185307179586], y ∈ [0.0, 6.283185307179586], z ∈ [0.0, -6.283185307179586]\n, b = Field at (Oceananigans.Cell, Oceananigans.Cell, Oceananigans.Cell)\n├── data: OffsetArrays.OffsetArray{Float64,3,Array{Float64,3}}\n└── grid: Oceananigans.RegularCartesianGrid{Float64,StepRangeLen{Float64,Base.TwicePrecision{Float64},Base.TwicePrecision{Float64}}}\n    ├── size: (128, 1, 128)\n    └── domain: x ∈ [0.0, 6.283185307179586], y ∈ [0.0, 6.283185307179586], z ∈ [0.0, -6.283185307179586]\n), 0.125), Oceananigans.PoissonSolverCPU{Oceananigans.PPN,Array{Float64,3},Array{Complex{Float64},3},FFTW.cFFTWPlan{Complex{Float64},-1,true,3},FFTW.r2rFFTWPlan{Complex{Float64},(5,),true,3},AbstractFFTs.ScaledPlan{Complex{Float64},FFTW.cFFTWPlan{Complex{Float64},1,true,3},Float64},FFTW.r2rFFTWPlan{Complex{Float64},(4,),true,3}}(Oceananigans.PPN(), [0.0; 0.9997992185115969; … ; 3.996788270156917; 0.9997992185116003], [0.0], [0.0]\n\n[0.2499874504010214]\n\n[0.9997992185115969]\n\n...\n\n[1657.7972891503023]\n\n[1659.0464735775508]\n\n[1659.7962853456609], Complex{Float64}[0.0 + 0.0im; 0.0 + 0.0im; … ; 0.0 + 0.0im; 0.0 + 0.0im]\n\nComplex{Float64}[0.0 + 0.0im; 0.0 + 0.0im; … ; 0.0 + 0.0im; 0.0 + 0.0im]\n\nComplex{Float64}[0.0 + 0.0im; 0.0 + 0.0im; … ; 0.0 + 0.0im; 0.0 + 0.0im]\n\n...\n\nComplex{Float64}[0.0 + 0.0im; 0.0 + 0.0im; … ; 0.0 + 0.0im; 0.0 + 0.0im]\n\nComplex{Float64}[0.0 + 0.0im; 0.0 + 0.0im; … ; 0.0 + 0.0im; 0.0 + 0.0im]\n\nComplex{Float64}[0.0 + 0.0im; 0.0 + 0.0im; … ; 0.0 + 0.0im; 0.0 + 0.0im], FFTW in-place forward plan for 128×1×128 array of Complex{Float64}\n(dft-direct-128-x128 \"n1fv_128_avx2\"), FFTW in-place r2r REDFT10 plan for 128×1×128 array of Complex{Float64}\n(rdft-buffered-128-x256/256-6\n  (redft10e-r2hc-128-x256\n    (rdft-r2hc-direct-r2c-128 \"r2cf_128\"))\n  (rdft-rank0-iter-co/1-x256-x128)\n  (rdft-nop)), 0.0078125 * FFTW in-place backward plan for 128×1×128 array of Complex{Float64}\n(dft-direct-128-x128 \"n1bv_128_avx2\"), FFTW in-place r2r REDFT01 plan for 128×1×128 array of Complex{Float64}\n(rdft-buffered-128-x256/256-6\n  (redft01e-r2hc-128-x256\n    (rdft-r2hc-direct-r2c-128 \"r2cf_128\"))\n  (rdft-rank0-iter-co/1-x256-x128)\n  (rdft-nop))), nothing, OrderedCollections.OrderedDict{Symbol,Oceananigans.AbstractOutputWriter}(), OrderedCollections.OrderedDict{Symbol,Oceananigans.AbstractDiagnostic}(), nothing)"
     },
     "metadata": {},
     "execution_count": 8
    }
   ],
   "cell_type": "code",
   "source": [
    "model = Model(\n",
    "        grid = RegularCartesianGrid(N=(Nx, 1, Nx), L=(Lx, Lx, Lx)),\n",
    "     closure = ConstantIsotropicDiffusivity(ν=1e-6, κ=1e-6),\n",
    "    coriolis = FPlane(f=f),\n",
    "     tracers = :b,\n",
    "    buoyancy = BuoyancyTracer()\n",
    ")"
   ],
   "metadata": {},
   "execution_count": 8
  },
  {
   "outputs": [],
   "cell_type": "markdown",
   "source": [
    "We initialize the velocity and buoyancy fields\n",
    "with our internal wave initial condition."
   ],
   "metadata": {}
  },
  {
   "outputs": [],
   "cell_type": "code",
   "source": [
    "set!(model, u=u₀, v=v₀, w=w₀, b=b₀)"
   ],
   "metadata": {},
   "execution_count": 9
  },
  {
   "outputs": [],
   "cell_type": "markdown",
   "source": [
    "## Some plotting utilities\n",
    "\n",
    "To watch the wave packet propagate interactively as the model runs,\n",
    "we build some plotting utilities."
   ],
   "metadata": {}
  },
  {
   "outputs": [
    {
     "output_type": "execute_result",
     "data": {
      "text/plain": "(PyPlot.Figure(PyObject <matplotlib.figure.Figure object at 0x12fcb7e48>), PyObject <matplotlib.axes._subplots.AxesSubplot object at 0x136491828>)"
     },
     "metadata": {},
     "execution_count": 10
    }
   ],
   "cell_type": "code",
   "source": [
    "xplot(u) = repeat(dropdims(xnodes(u), dims=2), 1, u.grid.Nz)\n",
    "zplot(u) = repeat(dropdims(znodes(u), dims=2), u.grid.Nx, 1)\n",
    "\n",
    "function plot_field!(ax, w, t)\n",
    "    pcolormesh(xplot(w), zplot(w), interior(model.velocities.w)[:, 1, :])\n",
    "    xlabel(L\"x\")\n",
    "    ylabel(L\"z\")\n",
    "    title(@sprintf(\"\\$ \\\\omega t / 2 \\\\pi = %.2f\\$\", t*ω/2π))\n",
    "    ax.set_aspect(1)\n",
    "    pause(0.1)\n",
    "    return nothing\n",
    "end\n",
    "\n",
    "close(\"all\")\n",
    "fig, ax = subplots()"
   ],
   "metadata": {},
   "execution_count": 10
  },
  {
   "outputs": [],
   "cell_type": "markdown",
   "source": [
    "## A wave packet on the loose\n",
    "\n",
    "Finally, we release the packet:"
   ],
   "metadata": {}
  },
  {
   "outputs": [],
   "cell_type": "code",
   "source": [
    "for i = 1:10\n",
    "    time_step!(model, Nt = 200, Δt = 0.001 * 2π/ω)\n",
    "    plot_field!(ax, model.velocities.w, model.clock.time)\n",
    "end"
   ],
   "metadata": {},
   "execution_count": 11
  },
  {
   "outputs": [],
   "cell_type": "markdown",
   "source": [
    "*This notebook was generated using [Literate.jl](https://github.com/fredrikekre/Literate.jl).*"
   ],
   "metadata": {}
  }
 ],
 "nbformat_minor": 3,
 "metadata": {
  "language_info": {
   "file_extension": ".jl",
   "mimetype": "application/julia",
   "name": "julia",
   "version": "1.2.0"
  },
  "kernelspec": {
   "name": "julia-1.2",
   "display_name": "Julia 1.2.0",
   "language": "julia"
  }
 },
 "nbformat": 4
}
